{
  "nbformat": 4,
  "nbformat_minor": 0,
  "metadata": {
    "kernelspec": {
      "display_name": "Python 3",
      "language": "python",
      "name": "python3"
    },
    "language_info": {
      "codemirror_mode": {
        "name": "ipython",
        "version": 3
      },
      "file_extension": ".py",
      "mimetype": "text/x-python",
      "name": "python",
      "nbconvert_exporter": "python",
      "pygments_lexer": "ipython3",
      "version": "3.7.4"
    },
    "colab": {
      "name": "Class PCA(Universities).ipynb",
      "provenance": [],
      "collapsed_sections": [],
      "include_colab_link": true
    }
  },
  "cells": [
    {
      "cell_type": "markdown",
      "metadata": {
        "id": "view-in-github",
        "colab_type": "text"
      },
      "source": [
        "<a href=\"https://colab.research.google.com/github/Gopizone/DS/blob/main/Class_PCA(Universities).ipynb\" target=\"_parent\"><img src=\"https://colab.research.google.com/assets/colab-badge.svg\" alt=\"Open In Colab\"/></a>"
      ]
    },
    {
      "cell_type": "code",
      "metadata": {
        "colab": {
          "resources": {
            "http://localhost:8080/nbextensions/google.colab/files.js": {
              "data": "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",
              "ok": true,
              "headers": [
                [
                  "content-type",
                  "application/javascript"
                ]
              ],
              "status": 200,
              "status_text": ""
            }
          },
          "base_uri": "https://localhost:8080/",
          "height": 73
        },
        "id": "QcaH3K9NPKAN",
        "outputId": "59e2d04c-b764-42e7-ec9a-eb7a4ed95569"
      },
      "source": [
        "from google.colab import files\r\n",
        "files=files.upload()"
      ],
      "execution_count": 2,
      "outputs": [
        {
          "output_type": "display_data",
          "data": {
            "text/html": [
              "\n",
              "     <input type=\"file\" id=\"files-df8c729f-80e1-4c74-a652-cdcee7a6dbcb\" name=\"files[]\" multiple disabled\n",
              "        style=\"border:none\" />\n",
              "     <output id=\"result-df8c729f-80e1-4c74-a652-cdcee7a6dbcb\">\n",
              "      Upload widget is only available when the cell has been executed in the\n",
              "      current browser session. Please rerun this cell to enable.\n",
              "      </output>\n",
              "      <script src=\"/nbextensions/google.colab/files.js\"></script> "
            ],
            "text/plain": [
              "<IPython.core.display.HTML object>"
            ]
          },
          "metadata": {
            "tags": []
          }
        },
        {
          "output_type": "stream",
          "text": [
            "Saving Universities.csv to Universities.csv\n"
          ],
          "name": "stdout"
        }
      ]
    },
    {
      "cell_type": "code",
      "metadata": {
        "id": "oCe0LJlmPHxZ"
      },
      "source": [
        "import pandas as pd \n",
        "import numpy as np\n",
        "from sklearn.decomposition import PCA\n",
        "import matplotlib.pyplot as plt\n",
        "from sklearn.preprocessing import scale "
      ],
      "execution_count": 3,
      "outputs": []
    },
    {
      "cell_type": "code",
      "metadata": {
        "colab": {
          "base_uri": "https://localhost:8080/",
          "height": 198
        },
        "id": "g0EKrdK3PHxe",
        "outputId": "d7d6993f-a8c1-487a-c871-acab00c4f5c2"
      },
      "source": [
        "uni = pd.read_csv(\"Universities.csv\")\n",
        "uni.describe()\n",
        "uni.head()"
      ],
      "execution_count": 4,
      "outputs": [
        {
          "output_type": "execute_result",
          "data": {
            "text/html": [
              "<div>\n",
              "<style scoped>\n",
              "    .dataframe tbody tr th:only-of-type {\n",
              "        vertical-align: middle;\n",
              "    }\n",
              "\n",
              "    .dataframe tbody tr th {\n",
              "        vertical-align: top;\n",
              "    }\n",
              "\n",
              "    .dataframe thead th {\n",
              "        text-align: right;\n",
              "    }\n",
              "</style>\n",
              "<table border=\"1\" class=\"dataframe\">\n",
              "  <thead>\n",
              "    <tr style=\"text-align: right;\">\n",
              "      <th></th>\n",
              "      <th>Univ</th>\n",
              "      <th>SAT</th>\n",
              "      <th>Top10</th>\n",
              "      <th>Accept</th>\n",
              "      <th>SFRatio</th>\n",
              "      <th>Expenses</th>\n",
              "      <th>GradRate</th>\n",
              "    </tr>\n",
              "  </thead>\n",
              "  <tbody>\n",
              "    <tr>\n",
              "      <th>0</th>\n",
              "      <td>Brown</td>\n",
              "      <td>1310</td>\n",
              "      <td>89</td>\n",
              "      <td>22</td>\n",
              "      <td>13</td>\n",
              "      <td>22704</td>\n",
              "      <td>94</td>\n",
              "    </tr>\n",
              "    <tr>\n",
              "      <th>1</th>\n",
              "      <td>CalTech</td>\n",
              "      <td>1415</td>\n",
              "      <td>100</td>\n",
              "      <td>25</td>\n",
              "      <td>6</td>\n",
              "      <td>63575</td>\n",
              "      <td>81</td>\n",
              "    </tr>\n",
              "    <tr>\n",
              "      <th>2</th>\n",
              "      <td>CMU</td>\n",
              "      <td>1260</td>\n",
              "      <td>62</td>\n",
              "      <td>59</td>\n",
              "      <td>9</td>\n",
              "      <td>25026</td>\n",
              "      <td>72</td>\n",
              "    </tr>\n",
              "    <tr>\n",
              "      <th>3</th>\n",
              "      <td>Columbia</td>\n",
              "      <td>1310</td>\n",
              "      <td>76</td>\n",
              "      <td>24</td>\n",
              "      <td>12</td>\n",
              "      <td>31510</td>\n",
              "      <td>88</td>\n",
              "    </tr>\n",
              "    <tr>\n",
              "      <th>4</th>\n",
              "      <td>Cornell</td>\n",
              "      <td>1280</td>\n",
              "      <td>83</td>\n",
              "      <td>33</td>\n",
              "      <td>13</td>\n",
              "      <td>21864</td>\n",
              "      <td>90</td>\n",
              "    </tr>\n",
              "  </tbody>\n",
              "</table>\n",
              "</div>"
            ],
            "text/plain": [
              "       Univ   SAT  Top10  Accept  SFRatio  Expenses  GradRate\n",
              "0     Brown  1310     89      22       13     22704        94\n",
              "1   CalTech  1415    100      25        6     63575        81\n",
              "2       CMU  1260     62      59        9     25026        72\n",
              "3  Columbia  1310     76      24       12     31510        88\n",
              "4   Cornell  1280     83      33       13     21864        90"
            ]
          },
          "metadata": {
            "tags": []
          },
          "execution_count": 4
        }
      ]
    },
    {
      "cell_type": "code",
      "metadata": {
        "colab": {
          "base_uri": "https://localhost:8080/",
          "height": 198
        },
        "id": "oix_Kq-_PHxg",
        "outputId": "f0cd5e2c-cdf2-4a25-d310-67d8c5ee1872"
      },
      "source": [
        "# Considering only numerical data \n",
        "uni.data = uni.iloc[:,1:]\n",
        "uni.data.head()\n"
      ],
      "execution_count": 9,
      "outputs": [
        {
          "output_type": "execute_result",
          "data": {
            "text/html": [
              "<div>\n",
              "<style scoped>\n",
              "    .dataframe tbody tr th:only-of-type {\n",
              "        vertical-align: middle;\n",
              "    }\n",
              "\n",
              "    .dataframe tbody tr th {\n",
              "        vertical-align: top;\n",
              "    }\n",
              "\n",
              "    .dataframe thead th {\n",
              "        text-align: right;\n",
              "    }\n",
              "</style>\n",
              "<table border=\"1\" class=\"dataframe\">\n",
              "  <thead>\n",
              "    <tr style=\"text-align: right;\">\n",
              "      <th></th>\n",
              "      <th>SAT</th>\n",
              "      <th>Top10</th>\n",
              "      <th>Accept</th>\n",
              "      <th>SFRatio</th>\n",
              "      <th>Expenses</th>\n",
              "      <th>GradRate</th>\n",
              "    </tr>\n",
              "  </thead>\n",
              "  <tbody>\n",
              "    <tr>\n",
              "      <th>0</th>\n",
              "      <td>1310</td>\n",
              "      <td>89</td>\n",
              "      <td>22</td>\n",
              "      <td>13</td>\n",
              "      <td>22704</td>\n",
              "      <td>94</td>\n",
              "    </tr>\n",
              "    <tr>\n",
              "      <th>1</th>\n",
              "      <td>1415</td>\n",
              "      <td>100</td>\n",
              "      <td>25</td>\n",
              "      <td>6</td>\n",
              "      <td>63575</td>\n",
              "      <td>81</td>\n",
              "    </tr>\n",
              "    <tr>\n",
              "      <th>2</th>\n",
              "      <td>1260</td>\n",
              "      <td>62</td>\n",
              "      <td>59</td>\n",
              "      <td>9</td>\n",
              "      <td>25026</td>\n",
              "      <td>72</td>\n",
              "    </tr>\n",
              "    <tr>\n",
              "      <th>3</th>\n",
              "      <td>1310</td>\n",
              "      <td>76</td>\n",
              "      <td>24</td>\n",
              "      <td>12</td>\n",
              "      <td>31510</td>\n",
              "      <td>88</td>\n",
              "    </tr>\n",
              "    <tr>\n",
              "      <th>4</th>\n",
              "      <td>1280</td>\n",
              "      <td>83</td>\n",
              "      <td>33</td>\n",
              "      <td>13</td>\n",
              "      <td>21864</td>\n",
              "      <td>90</td>\n",
              "    </tr>\n",
              "  </tbody>\n",
              "</table>\n",
              "</div>"
            ],
            "text/plain": [
              "    SAT  Top10  Accept  SFRatio  Expenses  GradRate\n",
              "0  1310     89      22       13     22704        94\n",
              "1  1415    100      25        6     63575        81\n",
              "2  1260     62      59        9     25026        72\n",
              "3  1310     76      24       12     31510        88\n",
              "4  1280     83      33       13     21864        90"
            ]
          },
          "metadata": {
            "tags": []
          },
          "execution_count": 9
        }
      ]
    },
    {
      "cell_type": "code",
      "metadata": {
        "id": "OYj7r9a0PHxh"
      },
      "source": [
        "# Normalizing the numerical data \n",
        "uni_normal = scale(uni.data)"
      ],
      "execution_count": 10,
      "outputs": []
    },
    {
      "cell_type": "code",
      "metadata": {
        "colab": {
          "base_uri": "https://localhost:8080/"
        },
        "id": "O7uMNSGDPHxi",
        "outputId": "d9653668-969a-441a-db5d-a8866ed83d5e"
      },
      "source": [
        "uni_normal"
      ],
      "execution_count": 11,
      "outputs": [
        {
          "output_type": "execute_result",
          "data": {
            "text/plain": [
              "array([[ 0.41028362,  0.6575195 , -0.88986682,  0.07026045, -0.33141256,\n",
              "         0.82030265],\n",
              "       [ 1.39925928,  1.23521235, -0.73465749, -1.68625071,  2.56038138,\n",
              "        -0.64452351],\n",
              "       [-0.06065717, -0.76045386,  1.02438157, -0.93346022, -0.16712136,\n",
              "        -1.65863393],\n",
              "       [ 0.41028362, -0.02520842, -0.78639393, -0.18066972,  0.29164871,\n",
              "         0.14422904],\n",
              "       [ 0.12771914,  0.34241431, -0.32076595,  0.07026045, -0.39084607,\n",
              "         0.36958691],\n",
              "       [ 0.69284809,  0.6575195 , -0.83813038, -0.68253005,  0.33778044,\n",
              "         0.93298158],\n",
              "       [ 0.4573777 ,  0.71003703, -0.47597528, -0.18066972,  0.29695528,\n",
              "         0.93298158],\n",
              "       [-0.10775125, -0.13024348, -0.78639393, -0.18066972, -0.51381683,\n",
              "         0.59494478],\n",
              "       [ 1.25797704,  0.76255456, -1.30375836, -0.43159988,  0.85874344,\n",
              "         1.15833946],\n",
              "       [ 0.36318954, -0.07772595,  0.24833493, -1.43532055,  2.21481798,\n",
              "         0.0315501 ],\n",
              "       [ 1.06960072,  0.92010716, -0.47597528, -0.68253005,  0.52938275,\n",
              "         0.48226584],\n",
              "       [-0.06065717,  0.44744937, -0.01034729, -0.43159988,  0.04698077,\n",
              "         0.25690797],\n",
              "       [-0.10775125,  0.23737924,  0.14486204,  0.07026045, -0.86787073,\n",
              "         0.82030265],\n",
              "       [-1.7466252 , -2.02087462,  0.76569936,  1.32491127, -1.21718409,\n",
              "        -0.75720245],\n",
              "       [ 1.02250664,  0.76255456, -1.30375836, -1.18439038,  0.20037583,\n",
              "         0.93298158],\n",
              "       [-2.46245521, -2.54604994,  2.6282113 ,  1.57584144, -1.29635802,\n",
              "        -1.99667073],\n",
              "       [ 0.88122441,  0.71003703, -0.9933397 , -0.18066972,  0.64117435,\n",
              "         0.70762371],\n",
              "       [-1.8031381 , -1.44318177,  1.43827311,  3.08142243, -1.32197103,\n",
              "        -2.22202861],\n",
              "       [-0.24903349,  0.97262469,  0.04138915,  1.07398111, -0.86659715,\n",
              "        -0.98256032],\n",
              "       [ 0.2219073 , -0.07772595,  0.55875358,  0.07026045,  0.77772991,\n",
              "         0.0315501 ],\n",
              "       [-0.81416244, -0.60290126,  1.49000956,  0.82305094, -0.84324827,\n",
              "        -0.19380777],\n",
              "       [ 0.17481322,  0.18486171, -0.16555662, -0.43159988,  0.01167444,\n",
              "         0.36958691],\n",
              "       [-0.39031573,  0.02730912,  0.24833493,  0.32119061, -0.99331788,\n",
              "         0.59494478],\n",
              "       [-1.70894994, -1.91583956,  1.541746  ,  0.57212078, -1.09888311,\n",
              "        -1.77131286],\n",
              "       [ 1.02250664,  0.97262469, -1.04507615, -0.43159988,  1.14098185,\n",
              "         1.04566052]])"
            ]
          },
          "metadata": {
            "tags": []
          },
          "execution_count": 11
        }
      ]
    },
    {
      "cell_type": "code",
      "metadata": {
        "id": "ZJLkcik7PHxj"
      },
      "source": [
        "pca = PCA()\n",
        "pca_values = pca.fit_transform(uni_normal)"
      ],
      "execution_count": 19,
      "outputs": []
    },
    {
      "cell_type": "code",
      "metadata": {
        "colab": {
          "base_uri": "https://localhost:8080/"
        },
        "id": "2JrcayetPHxj",
        "outputId": "2ff3b83b-c544-4e4b-e79d-3a6b07870eae"
      },
      "source": [
        "pca_values"
      ],
      "execution_count": 20,
      "outputs": [
        {
          "output_type": "execute_result",
          "data": {
            "text/plain": [
              "array([[-1.00987445e+00, -1.06430962e+00,  8.10663051e-02,\n",
              "         5.69506350e-02, -1.28754245e-01, -3.46496377e-02],\n",
              "       [-2.82223781e+00,  2.25904458e+00,  8.36828830e-01,\n",
              "         1.43844644e-01, -1.25961913e-01, -1.80703168e-01],\n",
              "       [ 1.11246577e+00,  1.63120889e+00, -2.66786839e-01,\n",
              "         1.07507502e+00, -1.91814148e-01,  3.45679459e-01],\n",
              "       [-7.41741217e-01, -4.21874699e-02,  6.05008649e-02,\n",
              "        -1.57208116e-01, -5.77611392e-01,  1.09163092e-01],\n",
              "       [-3.11912064e-01, -6.35243572e-01,  1.02405189e-02,\n",
              "         1.71363672e-01,  1.27261287e-02, -1.69212696e-02],\n",
              "       [-1.69669089e+00, -3.44363283e-01, -2.53407507e-01,\n",
              "         1.25643278e-02, -5.26606002e-02, -2.71661600e-02],\n",
              "       [-1.24682093e+00, -4.90983662e-01, -3.20938196e-02,\n",
              "        -2.05643780e-01,  2.93505340e-01, -7.80119838e-02],\n",
              "       [-3.38749784e-01, -7.85168589e-01, -4.93584829e-01,\n",
              "         3.98563085e-02, -5.44978619e-01, -1.55371653e-01],\n",
              "       [-2.37415013e+00, -3.86538883e-01,  1.16098392e-01,\n",
              "        -4.53365617e-01, -2.30108300e-01,  2.66983932e-01],\n",
              "       [-1.40327739e+00,  2.11951503e+00, -4.42827141e-01,\n",
              "        -6.32543273e-01,  2.30053526e-01, -2.35615124e-01],\n",
              "       [-1.72610332e+00,  8.82371161e-02,  1.70403663e-01,\n",
              "         2.60901913e-01,  2.33318380e-01,  2.38968449e-01],\n",
              "       [-4.50857480e-01, -1.11329480e-02, -1.75746046e-01,\n",
              "         2.36165626e-01,  2.63250697e-01, -3.14843521e-01],\n",
              "       [ 4.02381405e-02, -1.00920438e+00, -4.96517167e-01,\n",
              "         2.29298758e-01,  4.48031921e-01,  4.93921533e-03],\n",
              "       [ 3.23373034e+00, -3.74580487e-01, -4.95372816e-01,\n",
              "        -5.21237711e-01, -6.39294809e-01, -9.00477852e-02],\n",
              "       [-2.23626502e+00, -3.71793294e-01, -3.98993653e-01,\n",
              "         4.06966479e-01, -4.16760680e-01,  5.06186327e-02],\n",
              "       [ 5.17299212e+00,  7.79915346e-01, -3.85912331e-01,\n",
              "        -2.32211711e-01,  1.79286976e-01, -3.09046943e-02],\n",
              "       [-1.69964377e+00, -3.05597453e-01,  3.18507851e-01,\n",
              "        -2.97462682e-01, -1.63424678e-01,  1.14422592e-01],\n",
              "       [ 4.57814600e+00, -3.47591363e-01,  1.49964176e+00,\n",
              "        -4.54251714e-01, -1.91141971e-01,  1.04149297e-01],\n",
              "       [ 8.22603117e-01, -6.98906146e-01,  1.42781145e+00,\n",
              "         7.60778800e-01,  1.84260335e-01, -2.51103268e-01],\n",
              "       [-9.77621343e-02,  6.50446454e-01,  1.00508440e-01,\n",
              "        -5.00097185e-01,  4.87217823e-01,  2.19242132e-01],\n",
              "       [ 1.96318260e+00, -2.24767561e-01, -2.55881433e-01,\n",
              "        -4.84741049e-02,  8.22745655e-01,  1.52246521e-01],\n",
              "       [-5.42288939e-01, -7.95888376e-02, -3.05393475e-01,\n",
              "         1.31698758e-01,  5.27399148e-02, -3.67264440e-02],\n",
              "       [ 5.32220920e-01, -1.01716720e+00, -4.23716362e-01,\n",
              "         1.69535706e-01,  3.57813210e-01, -6.60989993e-02],\n",
              "       [ 3.54869664e+00,  7.78461666e-01, -4.49363319e-01,\n",
              "         3.23678618e-01, -3.58332564e-01, -7.74564151e-02],\n",
              "       [-2.30590032e+00, -1.17704318e-01,  2.53988661e-01,\n",
              "        -5.16183372e-01,  5.58940129e-02, -1.07932007e-02]])"
            ]
          },
          "metadata": {
            "tags": []
          },
          "execution_count": 20
        }
      ]
    },
    {
      "cell_type": "code",
      "metadata": {
        "id": "kfe25-QrPHxk"
      },
      "source": [
        "#pca = PCA(n_components = 6)\n",
        "#pca_values = pca.fit_transform(uni_normal)"
      ],
      "execution_count": 14,
      "outputs": []
    },
    {
      "cell_type": "code",
      "metadata": {
        "colab": {
          "base_uri": "https://localhost:8080/",
          "height": 1000
        },
        "id": "582KFmReQKsQ",
        "outputId": "38003a97-e265-46c3-87b1-0a0280b9c935"
      },
      "source": [
        "import seaborn as sns\r\n",
        "sns.pairplot(pd.DataFrame(pca_values))"
      ],
      "execution_count": 21,
      "outputs": [
        {
          "output_type": "execute_result",
          "data": {
            "text/plain": [
              "<seaborn.axisgrid.PairGrid at 0x7f87e2ca8438>"
            ]
          },
          "metadata": {
            "tags": []
          },
          "execution_count": 21
        },
        {
          "output_type": "display_data",
          "data": {
            "image/png": "[encoded data removed]",
            "text/plain": [
              "<Figure size 1080x1080 with 42 Axes>"
            ]
          },
          "metadata": {
            "tags": [],
            "needs_background": "light"
          }
        }
      ]
    },
    {
      "cell_type": "code",
      "metadata": {
        "colab": {
          "base_uri": "https://localhost:8080/"
        },
        "id": "TlPwrm7KPHxl",
        "outputId": "aa005473-020a-475b-de2d-f96813450bf7"
      },
      "source": [
        "# The amount of variance that each PCA explains is \n",
        "var = pca.explained_variance_ratio_\n",
        "var"
      ],
      "execution_count": 22,
      "outputs": [
        {
          "output_type": "execute_result",
          "data": {
            "text/plain": [
              "array([0.76868084, 0.13113602, 0.04776031, 0.02729668, 0.0207177 ,\n",
              "       0.00440844])"
            ]
          },
          "metadata": {
            "tags": []
          },
          "execution_count": 22
        }
      ]
    },
    {
      "cell_type": "code",
      "metadata": {
        "colab": {
          "base_uri": "https://localhost:8080/"
        },
        "id": "Hi_GLcbJPHxm",
        "outputId": "7b9630b1-cf2c-4663-98d3-589a3877cbe1"
      },
      "source": [
        "# Cumulative variance \n",
        "var1 = np.cumsum(np.round(var,decimals = 4)*100)\n",
        "var1"
      ],
      "execution_count": 23,
      "outputs": [
        {
          "output_type": "execute_result",
          "data": {
            "text/plain": [
              "array([ 76.87,  89.98,  94.76,  97.49,  99.56, 100.  ])"
            ]
          },
          "metadata": {
            "tags": []
          },
          "execution_count": 23
        }
      ]
    },
    {
      "cell_type": "code",
      "metadata": {
        "colab": {
          "base_uri": "https://localhost:8080/"
        },
        "id": "DYnUWzIBPHxn",
        "outputId": "3bec6fed-50c2-48e0-81e2-4c58b52b23d5"
      },
      "source": [
        "pca.components_"
      ],
      "execution_count": 24,
      "outputs": [
        {
          "output_type": "execute_result",
          "data": {
            "text/plain": [
              "array([[-0.45774863, -0.42714437,  0.42430805,  0.39064831, -0.36252316,\n",
              "        -0.37940403],\n",
              "       [ 0.03968044, -0.19993153,  0.32089297, -0.43256441,  0.6344864 ,\n",
              "        -0.51555367],\n",
              "       [ 0.1870388 ,  0.49780855, -0.15627899,  0.60608085,  0.20474114,\n",
              "        -0.53247261],\n",
              "       [ 0.13124033,  0.37489567,  0.0612872 , -0.50739095, -0.62340055,\n",
              "        -0.43863341],\n",
              "       [ 0.02064583,  0.4820162 ,  0.8010936 ,  0.07682369,  0.07254775,\n",
              "         0.33810965],\n",
              "       [ 0.8580547 , -0.39607492,  0.21693361,  0.1720479 , -0.17376309,\n",
              "        -0.00353754]])"
            ]
          },
          "metadata": {
            "tags": []
          },
          "execution_count": 24
        }
      ]
    },
    {
      "cell_type": "code",
      "metadata": {
        "colab": {
          "base_uri": "https://localhost:8080/",
          "height": 283
        },
        "id": "dIwh7NKNPHxn",
        "outputId": "9f871cba-88aa-4a2e-f867-23d87429f436"
      },
      "source": [
        "# Variance plot for PCA components obtained \n",
        "plt.plot(var1,color=\"red\")"
      ],
      "execution_count": 25,
      "outputs": [
        {
          "output_type": "execute_result",
          "data": {
            "text/plain": [
              "[<matplotlib.lines.Line2D at 0x7f87df43f4a8>]"
            ]
          },
          "metadata": {
            "tags": []
          },
          "execution_count": 25
        },
        {
          "output_type": "display_data",
          "data": {
            "image/png": "[encoded data removed]",
            "text/plain": [
              "<Figure size 432x288 with 1 Axes>"
            ]
          },
          "metadata": {
            "tags": [],
            "needs_background": "light"
          }
        }
      ]
    },
    {
      "cell_type": "code",
      "metadata": {
        "colab": {
          "base_uri": "https://localhost:8080/"
        },
        "id": "yXUpcQ5dPHxo",
        "outputId": "c8f4e514-74c6-42a1-e0c9-921244e4ed59"
      },
      "source": [
        " pca_values[:,0:1]"
      ],
      "execution_count": 26,
      "outputs": [
        {
          "output_type": "execute_result",
          "data": {
            "text/plain": [
              "array([[-1.00987445],\n",
              "       [-2.82223781],\n",
              "       [ 1.11246577],\n",
              "       [-0.74174122],\n",
              "       [-0.31191206],\n",
              "       [-1.69669089],\n",
              "       [-1.24682093],\n",
              "       [-0.33874978],\n",
              "       [-2.37415013],\n",
              "       [-1.40327739],\n",
              "       [-1.72610332],\n",
              "       [-0.45085748],\n",
              "       [ 0.04023814],\n",
              "       [ 3.23373034],\n",
              "       [-2.23626502],\n",
              "       [ 5.17299212],\n",
              "       [-1.69964377],\n",
              "       [ 4.578146  ],\n",
              "       [ 0.82260312],\n",
              "       [-0.09776213],\n",
              "       [ 1.9631826 ],\n",
              "       [-0.54228894],\n",
              "       [ 0.53222092],\n",
              "       [ 3.54869664],\n",
              "       [-2.30590032]])"
            ]
          },
          "metadata": {
            "tags": []
          },
          "execution_count": 26
        }
      ]
    },
    {
      "cell_type": "code",
      "metadata": {
        "colab": {
          "base_uri": "https://localhost:8080/",
          "height": 283
        },
        "id": "HAkMQ2bIPHxp",
        "outputId": "79f00dd1-7166-4185-f5e6-49961d90bda2"
      },
      "source": [
        "# plot between PCA1 and PCA2 \n",
        "x = pca_values[:,0:1]\n",
        "y = pca_values[:,1:2]\n",
        "#z = pca_values[:2:3]\n",
        "plt.scatter(x,y)"
      ],
      "execution_count": 27,
      "outputs": [
        {
          "output_type": "execute_result",
          "data": {
            "text/plain": [
              "<matplotlib.collections.PathCollection at 0x7f87df4cf048>"
            ]
          },
          "metadata": {
            "tags": []
          },
          "execution_count": 27
        },
        {
          "output_type": "display_data",
          "data": {
            "image/png": "[encoded data removed]",
            "text/plain": [
              "<Figure size 432x288 with 1 Axes>"
            ]
          },
          "metadata": {
            "tags": [],
            "needs_background": "light"
          }
        }
      ]
    },
    {
      "cell_type": "code",
      "metadata": {
        "id": "-imGRxr2PHxp"
      },
      "source": [
        "finalDf = pd.concat([pd.DataFrame(pca_values[:,0:2],columns=['pc1','pc2']), uni[['Univ']]], axis = 1)"
      ],
      "execution_count": 28,
      "outputs": []
    },
    {
      "cell_type": "code",
      "metadata": {
        "colab": {
          "base_uri": "https://localhost:8080/",
          "height": 447
        },
        "id": "eHmapABQPHxq",
        "outputId": "a2273ebf-8c4d-4f36-d211-47c6ca8c3ba2"
      },
      "source": [
        "import seaborn as sns\n",
        "sns.scatterplot(data=finalDf,x='pc1',y='pc2',hue='Univ')"
      ],
      "execution_count": 29,
      "outputs": [
        {
          "output_type": "execute_result",
          "data": {
            "text/plain": [
              "<matplotlib.axes._subplots.AxesSubplot at 0x7f87df49d080>"
            ]
          },
          "metadata": {
            "tags": []
          },
          "execution_count": 29
        },
        {
          "output_type": "display_data",
          "data": {
            "image/png": "[encoded data removed]",
            "text/plain": [
              "<Figure size 432x288 with 1 Axes>"
            ]
          },
          "metadata": {
            "tags": [],
            "needs_background": "light"
          }
        }
      ]
    }
  ]
}