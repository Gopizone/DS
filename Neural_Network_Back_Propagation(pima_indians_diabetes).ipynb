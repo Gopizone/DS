{
  "nbformat": 4,
  "nbformat_minor": 0,
  "metadata": {
    "kernelspec": {
      "display_name": "Python 3",
      "language": "python",
      "name": "python3"
    },
    "language_info": {
      "codemirror_mode": {
        "name": "ipython",
        "version": 3
      },
      "file_extension": ".py",
      "mimetype": "text/x-python",
      "name": "python",
      "nbconvert_exporter": "python",
      "pygments_lexer": "ipython3",
      "version": "3.8.3"
    },
    "colab": {
      "name": "Neural Network_Back Propagation(pima-indians-diabetes).ipynb",
      "provenance": [],
      "include_colab_link": true
    }
  },
  "cells": [
    {
      "cell_type": "markdown",
      "metadata": {
        "id": "view-in-github",
        "colab_type": "text"
      },
      "source": [
        "<a href=\"https://colab.research.google.com/github/Gopizone/DS/blob/main/Neural_Network_Back_Propagation(pima_indians_diabetes).ipynb\" target=\"_parent\"><img src=\"https://colab.research.google.com/assets/colab-badge.svg\" alt=\"Open In Colab\"/></a>"
      ]
    },
    {
      "cell_type": "code",
      "metadata": {
        "id": "NBEm1oQMG5Im",
        "colab": {
          "base_uri": "https://localhost:8080/"
        },
        "outputId": "f0fcb190-1a8d-4a0b-f110-18c3ed38ba82"
      },
      "source": [
        "!pip install tensorflow"
      ],
      "execution_count": 1,
      "outputs": [
        {
          "output_type": "stream",
          "text": [
            "Requirement already satisfied: tensorflow in /usr/local/lib/python3.6/dist-packages (2.4.0)\n",
            "Requirement already satisfied: grpcio~=1.32.0 in /usr/local/lib/python3.6/dist-packages (from tensorflow) (1.32.0)\n",
            "Requirement already satisfied: six~=1.15.0 in /usr/local/lib/python3.6/dist-packages (from tensorflow) (1.15.0)\n",
            "Requirement already satisfied: termcolor~=1.1.0 in /usr/local/lib/python3.6/dist-packages (from tensorflow) (1.1.0)\n",
            "Requirement already satisfied: wheel~=0.35 in /usr/local/lib/python3.6/dist-packages (from tensorflow) (0.36.2)\n",
            "Requirement already satisfied: google-pasta~=0.2 in /usr/local/lib/python3.6/dist-packages (from tensorflow) (0.2.0)\n",
            "Requirement already satisfied: h5py~=2.10.0 in /usr/local/lib/python3.6/dist-packages (from tensorflow) (2.10.0)\n",
            "Requirement already satisfied: tensorflow-estimator<2.5.0,>=2.4.0rc0 in /usr/local/lib/python3.6/dist-packages (from tensorflow) (2.4.0)\n",
            "Requirement already satisfied: typing-extensions~=3.7.4 in /usr/local/lib/python3.6/dist-packages (from tensorflow) (3.7.4.3)\n",
            "Requirement already satisfied: numpy~=1.19.2 in /usr/local/lib/python3.6/dist-packages (from tensorflow) (1.19.4)\n",
            "Requirement already satisfied: flatbuffers~=1.12.0 in /usr/local/lib/python3.6/dist-packages (from tensorflow) (1.12)\n",
            "Requirement already satisfied: opt-einsum~=3.3.0 in /usr/local/lib/python3.6/dist-packages (from tensorflow) (3.3.0)\n",
            "Requirement already satisfied: protobuf>=3.9.2 in /usr/local/lib/python3.6/dist-packages (from tensorflow) (3.12.4)\n",
            "Requirement already satisfied: astunparse~=1.6.3 in /usr/local/lib/python3.6/dist-packages (from tensorflow) (1.6.3)\n",
            "Requirement already satisfied: absl-py~=0.10 in /usr/local/lib/python3.6/dist-packages (from tensorflow) (0.10.0)\n",
            "Requirement already satisfied: keras-preprocessing~=1.1.2 in /usr/local/lib/python3.6/dist-packages (from tensorflow) (1.1.2)\n",
            "Requirement already satisfied: gast==0.3.3 in /usr/local/lib/python3.6/dist-packages (from tensorflow) (0.3.3)\n",
            "Requirement already satisfied: wrapt~=1.12.1 in /usr/local/lib/python3.6/dist-packages (from tensorflow) (1.12.1)\n",
            "Requirement already satisfied: tensorboard~=2.4 in /usr/local/lib/python3.6/dist-packages (from tensorflow) (2.4.0)\n",
            "Requirement already satisfied: setuptools in /usr/local/lib/python3.6/dist-packages (from protobuf>=3.9.2->tensorflow) (51.1.1)\n",
            "Requirement already satisfied: google-auth<2,>=1.6.3 in /usr/local/lib/python3.6/dist-packages (from tensorboard~=2.4->tensorflow) (1.17.2)\n",
            "Requirement already satisfied: werkzeug>=0.11.15 in /usr/local/lib/python3.6/dist-packages (from tensorboard~=2.4->tensorflow) (1.0.1)\n",
            "Requirement already satisfied: markdown>=2.6.8 in /usr/local/lib/python3.6/dist-packages (from tensorboard~=2.4->tensorflow) (3.3.3)\n",
            "Requirement already satisfied: google-auth-oauthlib<0.5,>=0.4.1 in /usr/local/lib/python3.6/dist-packages (from tensorboard~=2.4->tensorflow) (0.4.2)\n",
            "Requirement already satisfied: tensorboard-plugin-wit>=1.6.0 in /usr/local/lib/python3.6/dist-packages (from tensorboard~=2.4->tensorflow) (1.7.0)\n",
            "Requirement already satisfied: requests<3,>=2.21.0 in /usr/local/lib/python3.6/dist-packages (from tensorboard~=2.4->tensorflow) (2.23.0)\n",
            "Requirement already satisfied: rsa<5,>=3.1.4; python_version >= \"3\" in /usr/local/lib/python3.6/dist-packages (from google-auth<2,>=1.6.3->tensorboard~=2.4->tensorflow) (4.6)\n",
            "Requirement already satisfied: pyasn1-modules>=0.2.1 in /usr/local/lib/python3.6/dist-packages (from google-auth<2,>=1.6.3->tensorboard~=2.4->tensorflow) (0.2.8)\n",
            "Requirement already satisfied: cachetools<5.0,>=2.0.0 in /usr/local/lib/python3.6/dist-packages (from google-auth<2,>=1.6.3->tensorboard~=2.4->tensorflow) (4.2.0)\n",
            "Requirement already satisfied: importlib-metadata; python_version < \"3.8\" in /usr/local/lib/python3.6/dist-packages (from markdown>=2.6.8->tensorboard~=2.4->tensorflow) (3.3.0)\n",
            "Requirement already satisfied: requests-oauthlib>=0.7.0 in /usr/local/lib/python3.6/dist-packages (from google-auth-oauthlib<0.5,>=0.4.1->tensorboard~=2.4->tensorflow) (1.3.0)\n",
            "Requirement already satisfied: urllib3!=1.25.0,!=1.25.1,<1.26,>=1.21.1 in /usr/local/lib/python3.6/dist-packages (from requests<3,>=2.21.0->tensorboard~=2.4->tensorflow) (1.24.3)\n",
            "Requirement already satisfied: chardet<4,>=3.0.2 in /usr/local/lib/python3.6/dist-packages (from requests<3,>=2.21.0->tensorboard~=2.4->tensorflow) (3.0.4)\n",
            "Requirement already satisfied: idna<3,>=2.5 in /usr/local/lib/python3.6/dist-packages (from requests<3,>=2.21.0->tensorboard~=2.4->tensorflow) (2.10)\n",
            "Requirement already satisfied: certifi>=2017.4.17 in /usr/local/lib/python3.6/dist-packages (from requests<3,>=2.21.0->tensorboard~=2.4->tensorflow) (2020.12.5)\n",
            "Requirement already satisfied: pyasn1>=0.1.3 in /usr/local/lib/python3.6/dist-packages (from rsa<5,>=3.1.4; python_version >= \"3\"->google-auth<2,>=1.6.3->tensorboard~=2.4->tensorflow) (0.4.8)\n",
            "Requirement already satisfied: zipp>=0.5 in /usr/local/lib/python3.6/dist-packages (from importlib-metadata; python_version < \"3.8\"->markdown>=2.6.8->tensorboard~=2.4->tensorflow) (3.4.0)\n",
            "Requirement already satisfied: oauthlib>=3.0.0 in /usr/local/lib/python3.6/dist-packages (from requests-oauthlib>=0.7.0->google-auth-oauthlib<0.5,>=0.4.1->tensorboard~=2.4->tensorflow) (3.1.0)\n"
          ],
          "name": "stdout"
        }
      ]
    },
    {
      "cell_type": "code",
      "metadata": {
        "id": "tekxN8UdG5I0",
        "colab": {
          "base_uri": "https://localhost:8080/"
        },
        "outputId": "0fcb24c7-a7d5-46e4-a378-2c0e8cc824b4"
      },
      "source": [
        "!pip install keras"
      ],
      "execution_count": 2,
      "outputs": [
        {
          "output_type": "stream",
          "text": [
            "Requirement already satisfied: keras in /usr/local/lib/python3.6/dist-packages (2.4.3)\n",
            "Requirement already satisfied: h5py in /usr/local/lib/python3.6/dist-packages (from keras) (2.10.0)\n",
            "Requirement already satisfied: pyyaml in /usr/local/lib/python3.6/dist-packages (from keras) (3.13)\n",
            "Requirement already satisfied: scipy>=0.14 in /usr/local/lib/python3.6/dist-packages (from keras) (1.4.1)\n",
            "Requirement already satisfied: numpy>=1.9.1 in /usr/local/lib/python3.6/dist-packages (from keras) (1.19.4)\n",
            "Requirement already satisfied: six in /usr/local/lib/python3.6/dist-packages (from h5py->keras) (1.15.0)\n"
          ],
          "name": "stdout"
        }
      ]
    },
    {
      "cell_type": "code",
      "metadata": {
        "id": "uPe4LN3hG5I2"
      },
      "source": [
        "# Create your first MLP in Keras\n",
        "import tensorflow as tf\n",
        "from tensorflow import keras\n",
        "from tensorflow.keras import layers\n",
        "from tensorflow.keras.models import Sequential, load_model\n",
        "import numpy"
      ],
      "execution_count": 3,
      "outputs": []
    },
    {
      "cell_type": "code",
      "metadata": {
        "colab": {
          "resources": {
            "http://localhost:8080/nbextensions/google.colab/files.js": {
              "data": "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",
              "ok": true,
              "headers": [
                [
                  "content-type",
                  "application/javascript"
                ]
              ],
              "status": 200,
              "status_text": ""
            }
          },
          "base_uri": "https://localhost:8080/",
          "height": 73
        },
        "id": "GZvHwYBZHTUj",
        "outputId": "5dffd3d2-966e-4932-9b39-92658d1a4de7"
      },
      "source": [
        "from google.colab import files\r\n",
        "uploaded = files.upload()"
      ],
      "execution_count": 4,
      "outputs": [
        {
          "output_type": "display_data",
          "data": {
            "text/html": [
              "\n",
              "     <input type=\"file\" id=\"files-ad498080-0ab1-48f9-97bb-2511e8d82f96\" name=\"files[]\" multiple disabled\n",
              "        style=\"border:none\" />\n",
              "     <output id=\"result-ad498080-0ab1-48f9-97bb-2511e8d82f96\">\n",
              "      Upload widget is only available when the cell has been executed in the\n",
              "      current browser session. Please rerun this cell to enable.\n",
              "      </output>\n",
              "      <script src=\"/nbextensions/google.colab/files.js\"></script> "
            ],
            "text/plain": [
              "<IPython.core.display.HTML object>"
            ]
          },
          "metadata": {
            "tags": []
          }
        },
        {
          "output_type": "stream",
          "text": [
            "Saving pima-indians-diabetes.csv to pima-indians-diabetes.csv\n"
          ],
          "name": "stdout"
        }
      ]
    },
    {
      "cell_type": "code",
      "metadata": {
        "id": "xPftZn5vG5I2"
      },
      "source": [
        "# fix random seed for reproducibility\n",
        "seed = 7\n",
        "numpy.random.seed(seed)\n",
        "# load pima indians dataset\n",
        "dataset = numpy.loadtxt(\"pima-indians-diabetes.csv\", delimiter=\",\")\n",
        "#dataset = numpy.loadtxt(\"C:\\\\Users\\\\UNME\\\\Downloads\\\\DS Course\\\\Neural Networks\\\\pima-indians-diabetes.csv\", delimiter=\",\")\n",
        "# split into input (X) and output (Y) variables\n",
        "X = dataset[:,0:8]\n",
        "Y = dataset[:,8]\n"
      ],
      "execution_count": 5,
      "outputs": []
    },
    {
      "cell_type": "code",
      "metadata": {
        "id": "kNMmbg8oG5I3"
      },
      "source": [
        "# create model\n",
        "model = Sequential()\n",
        "model.add(layers.Dense(50, input_dim=8,  activation='relu'))\n",
        "model.add(layers.Dense(8,  activation='relu'))\n",
        "model.add(layers.Dense(1, activation='sigmoid'))"
      ],
      "execution_count": 6,
      "outputs": []
    },
    {
      "cell_type": "markdown",
      "metadata": {
        "id": "ezQAZ1gyG5I3"
      },
      "source": [
        "![image.png](attachment:image.png)"
      ]
    },
    {
      "cell_type": "code",
      "metadata": {
        "id": "Xbph9wPzG5I4"
      },
      "source": [
        "# Compile model\n",
        "model.compile(loss='binary_crossentropy', optimizer='adam', metrics=['acc'])"
      ],
      "execution_count": 7,
      "outputs": []
    },
    {
      "cell_type": "code",
      "metadata": {
        "colab": {
          "base_uri": "https://localhost:8080/"
        },
        "id": "5iUcqhu2G5I4",
        "outputId": "62b1a1eb-23c2-4def-d622-c0edcc722deb"
      },
      "source": [
        "# Fit the model\n",
        "history = model.fit(X, Y, validation_split=0.33, epochs=250, batch_size=10)"
      ],
      "execution_count": 8,
      "outputs": [
        {
          "output_type": "stream",
          "text": [
            "Epoch 1/250\n",
            "52/52 [==============================] - 1s 8ms/step - loss: 3.7008 - acc: 0.5467 - val_loss: 1.4906 - val_acc: 0.5433\n",
            "Epoch 2/250\n",
            "52/52 [==============================] - 0s 2ms/step - loss: 1.1871 - acc: 0.5942 - val_loss: 1.0598 - val_acc: 0.6654\n",
            "Epoch 3/250\n",
            "52/52 [==============================] - 0s 2ms/step - loss: 0.8399 - acc: 0.6323 - val_loss: 0.8381 - val_acc: 0.5669\n",
            "Epoch 4/250\n",
            "52/52 [==============================] - 0s 2ms/step - loss: 0.6991 - acc: 0.6162 - val_loss: 1.2148 - val_acc: 0.4724\n",
            "Epoch 5/250\n",
            "52/52 [==============================] - 0s 2ms/step - loss: 0.7844 - acc: 0.6548 - val_loss: 0.7379 - val_acc: 0.6142\n",
            "Epoch 6/250\n",
            "52/52 [==============================] - 0s 2ms/step - loss: 0.6478 - acc: 0.6943 - val_loss: 0.7811 - val_acc: 0.6496\n",
            "Epoch 7/250\n",
            "52/52 [==============================] - 0s 2ms/step - loss: 0.6530 - acc: 0.6851 - val_loss: 0.8089 - val_acc: 0.6654\n",
            "Epoch 8/250\n",
            "52/52 [==============================] - 0s 2ms/step - loss: 0.8761 - acc: 0.6434 - val_loss: 0.7078 - val_acc: 0.6732\n",
            "Epoch 9/250\n",
            "52/52 [==============================] - 0s 2ms/step - loss: 0.7130 - acc: 0.6867 - val_loss: 0.6999 - val_acc: 0.6693\n",
            "Epoch 10/250\n",
            "52/52 [==============================] - 0s 2ms/step - loss: 0.7608 - acc: 0.6566 - val_loss: 0.7096 - val_acc: 0.6654\n",
            "Epoch 11/250\n",
            "52/52 [==============================] - 0s 2ms/step - loss: 0.7403 - acc: 0.6660 - val_loss: 0.7871 - val_acc: 0.5315\n",
            "Epoch 12/250\n",
            "52/52 [==============================] - 0s 2ms/step - loss: 0.6793 - acc: 0.6674 - val_loss: 0.7384 - val_acc: 0.5945\n",
            "Epoch 13/250\n",
            "52/52 [==============================] - 0s 2ms/step - loss: 0.7436 - acc: 0.6385 - val_loss: 0.7071 - val_acc: 0.6299\n",
            "Epoch 14/250\n",
            "52/52 [==============================] - 0s 2ms/step - loss: 0.6241 - acc: 0.7121 - val_loss: 0.6743 - val_acc: 0.6378\n",
            "Epoch 15/250\n",
            "52/52 [==============================] - 0s 2ms/step - loss: 0.6393 - acc: 0.7050 - val_loss: 0.7595 - val_acc: 0.6614\n",
            "Epoch 16/250\n",
            "52/52 [==============================] - 0s 2ms/step - loss: 0.6378 - acc: 0.6774 - val_loss: 0.8094 - val_acc: 0.5433\n",
            "Epoch 17/250\n",
            "52/52 [==============================] - 0s 2ms/step - loss: 0.5869 - acc: 0.7113 - val_loss: 0.7417 - val_acc: 0.5866\n",
            "Epoch 18/250\n",
            "52/52 [==============================] - 0s 2ms/step - loss: 0.6215 - acc: 0.6753 - val_loss: 0.6420 - val_acc: 0.6575\n",
            "Epoch 19/250\n",
            "52/52 [==============================] - 0s 2ms/step - loss: 0.5814 - acc: 0.7381 - val_loss: 0.7229 - val_acc: 0.6535\n",
            "Epoch 20/250\n",
            "52/52 [==============================] - 0s 2ms/step - loss: 0.5287 - acc: 0.7618 - val_loss: 0.7052 - val_acc: 0.6024\n",
            "Epoch 21/250\n",
            "52/52 [==============================] - 0s 2ms/step - loss: 0.5541 - acc: 0.7294 - val_loss: 0.6590 - val_acc: 0.6693\n",
            "Epoch 22/250\n",
            "52/52 [==============================] - 0s 2ms/step - loss: 0.5871 - acc: 0.6872 - val_loss: 0.7264 - val_acc: 0.6496\n",
            "Epoch 23/250\n",
            "52/52 [==============================] - 0s 2ms/step - loss: 0.5283 - acc: 0.7511 - val_loss: 0.7003 - val_acc: 0.6181\n",
            "Epoch 24/250\n",
            "52/52 [==============================] - 0s 2ms/step - loss: 0.6829 - acc: 0.6554 - val_loss: 0.7420 - val_acc: 0.6811\n",
            "Epoch 25/250\n",
            "52/52 [==============================] - 0s 2ms/step - loss: 0.6084 - acc: 0.6960 - val_loss: 0.6972 - val_acc: 0.6417\n",
            "Epoch 26/250\n",
            "52/52 [==============================] - 0s 2ms/step - loss: 0.6165 - acc: 0.7119 - val_loss: 0.7099 - val_acc: 0.6535\n",
            "Epoch 27/250\n",
            "52/52 [==============================] - 0s 2ms/step - loss: 0.6906 - acc: 0.6833 - val_loss: 0.6946 - val_acc: 0.6496\n",
            "Epoch 28/250\n",
            "52/52 [==============================] - 0s 2ms/step - loss: 0.6163 - acc: 0.6938 - val_loss: 0.6796 - val_acc: 0.6850\n",
            "Epoch 29/250\n",
            "52/52 [==============================] - 0s 2ms/step - loss: 0.5829 - acc: 0.7153 - val_loss: 0.7432 - val_acc: 0.6693\n",
            "Epoch 30/250\n",
            "52/52 [==============================] - 0s 2ms/step - loss: 0.6733 - acc: 0.6793 - val_loss: 0.7261 - val_acc: 0.6772\n",
            "Epoch 31/250\n",
            "52/52 [==============================] - 0s 2ms/step - loss: 0.5580 - acc: 0.7301 - val_loss: 0.6657 - val_acc: 0.6969\n",
            "Epoch 32/250\n",
            "52/52 [==============================] - 0s 2ms/step - loss: 0.5733 - acc: 0.7098 - val_loss: 0.6927 - val_acc: 0.6732\n",
            "Epoch 33/250\n",
            "52/52 [==============================] - 0s 2ms/step - loss: 0.5679 - acc: 0.6855 - val_loss: 0.6337 - val_acc: 0.6654\n",
            "Epoch 34/250\n",
            "52/52 [==============================] - 0s 3ms/step - loss: 0.5456 - acc: 0.7545 - val_loss: 0.6526 - val_acc: 0.6575\n",
            "Epoch 35/250\n",
            "52/52 [==============================] - 0s 2ms/step - loss: 0.5177 - acc: 0.7242 - val_loss: 0.6256 - val_acc: 0.6850\n",
            "Epoch 36/250\n",
            "52/52 [==============================] - 0s 2ms/step - loss: 0.5514 - acc: 0.7296 - val_loss: 0.6607 - val_acc: 0.6181\n",
            "Epoch 37/250\n",
            "52/52 [==============================] - 0s 2ms/step - loss: 0.5254 - acc: 0.7455 - val_loss: 0.7159 - val_acc: 0.6535\n",
            "Epoch 38/250\n",
            "52/52 [==============================] - 0s 2ms/step - loss: 0.5596 - acc: 0.7394 - val_loss: 0.6981 - val_acc: 0.6260\n",
            "Epoch 39/250\n",
            "52/52 [==============================] - 0s 2ms/step - loss: 0.5925 - acc: 0.6655 - val_loss: 0.6954 - val_acc: 0.6732\n",
            "Epoch 40/250\n",
            "52/52 [==============================] - 0s 2ms/step - loss: 0.4989 - acc: 0.7613 - val_loss: 0.6461 - val_acc: 0.6654\n",
            "Epoch 41/250\n",
            "52/52 [==============================] - 0s 2ms/step - loss: 0.5624 - acc: 0.7168 - val_loss: 0.7374 - val_acc: 0.6654\n",
            "Epoch 42/250\n",
            "52/52 [==============================] - 0s 2ms/step - loss: 0.5990 - acc: 0.7147 - val_loss: 0.7076 - val_acc: 0.6772\n",
            "Epoch 43/250\n",
            "52/52 [==============================] - 0s 2ms/step - loss: 0.5375 - acc: 0.7437 - val_loss: 0.9008 - val_acc: 0.5472\n",
            "Epoch 44/250\n",
            "52/52 [==============================] - 0s 2ms/step - loss: 0.6345 - acc: 0.6981 - val_loss: 0.7277 - val_acc: 0.6772\n",
            "Epoch 45/250\n",
            "52/52 [==============================] - 0s 2ms/step - loss: 0.6436 - acc: 0.6821 - val_loss: 0.6910 - val_acc: 0.6299\n",
            "Epoch 46/250\n",
            "52/52 [==============================] - 0s 2ms/step - loss: 0.5453 - acc: 0.7475 - val_loss: 0.6984 - val_acc: 0.6693\n",
            "Epoch 47/250\n",
            "52/52 [==============================] - 0s 2ms/step - loss: 0.5449 - acc: 0.7376 - val_loss: 0.6652 - val_acc: 0.6890\n",
            "Epoch 48/250\n",
            "52/52 [==============================] - 0s 2ms/step - loss: 0.5481 - acc: 0.7213 - val_loss: 0.6695 - val_acc: 0.6850\n",
            "Epoch 49/250\n",
            "52/52 [==============================] - 0s 2ms/step - loss: 0.5175 - acc: 0.7604 - val_loss: 0.6218 - val_acc: 0.6929\n",
            "Epoch 50/250\n",
            "52/52 [==============================] - 0s 2ms/step - loss: 0.5083 - acc: 0.7565 - val_loss: 0.6204 - val_acc: 0.6850\n",
            "Epoch 51/250\n",
            "52/52 [==============================] - 0s 2ms/step - loss: 0.4872 - acc: 0.7593 - val_loss: 0.6458 - val_acc: 0.6850\n",
            "Epoch 52/250\n",
            "52/52 [==============================] - 0s 2ms/step - loss: 0.5788 - acc: 0.7172 - val_loss: 0.7544 - val_acc: 0.6654\n",
            "Epoch 53/250\n",
            "52/52 [==============================] - 0s 2ms/step - loss: 0.5211 - acc: 0.7665 - val_loss: 0.8900 - val_acc: 0.5354\n",
            "Epoch 54/250\n",
            "52/52 [==============================] - 0s 2ms/step - loss: 0.6352 - acc: 0.6953 - val_loss: 0.6378 - val_acc: 0.7205\n",
            "Epoch 55/250\n",
            "52/52 [==============================] - 0s 2ms/step - loss: 0.5198 - acc: 0.7682 - val_loss: 0.6273 - val_acc: 0.6969\n",
            "Epoch 56/250\n",
            "52/52 [==============================] - 0s 2ms/step - loss: 0.5492 - acc: 0.7198 - val_loss: 0.6361 - val_acc: 0.6535\n",
            "Epoch 57/250\n",
            "52/52 [==============================] - 0s 2ms/step - loss: 0.4996 - acc: 0.7394 - val_loss: 0.7613 - val_acc: 0.6220\n",
            "Epoch 58/250\n",
            "52/52 [==============================] - 0s 2ms/step - loss: 0.5792 - acc: 0.7217 - val_loss: 0.6122 - val_acc: 0.7047\n",
            "Epoch 59/250\n",
            "52/52 [==============================] - 0s 2ms/step - loss: 0.4940 - acc: 0.7580 - val_loss: 0.6563 - val_acc: 0.7047\n",
            "Epoch 60/250\n",
            "52/52 [==============================] - 0s 2ms/step - loss: 0.4920 - acc: 0.7615 - val_loss: 0.7030 - val_acc: 0.6929\n",
            "Epoch 61/250\n",
            "52/52 [==============================] - 0s 2ms/step - loss: 0.5652 - acc: 0.7289 - val_loss: 0.7350 - val_acc: 0.6142\n",
            "Epoch 62/250\n",
            "52/52 [==============================] - 0s 2ms/step - loss: 0.5509 - acc: 0.7049 - val_loss: 0.6124 - val_acc: 0.6614\n",
            "Epoch 63/250\n",
            "52/52 [==============================] - 0s 2ms/step - loss: 0.5071 - acc: 0.7219 - val_loss: 0.6078 - val_acc: 0.7087\n",
            "Epoch 64/250\n",
            "52/52 [==============================] - 0s 2ms/step - loss: 0.4897 - acc: 0.7517 - val_loss: 0.6081 - val_acc: 0.7008\n",
            "Epoch 65/250\n",
            "52/52 [==============================] - 0s 2ms/step - loss: 0.4907 - acc: 0.7493 - val_loss: 0.6778 - val_acc: 0.6417\n",
            "Epoch 66/250\n",
            "52/52 [==============================] - 0s 2ms/step - loss: 0.5176 - acc: 0.7297 - val_loss: 0.6292 - val_acc: 0.6732\n",
            "Epoch 67/250\n",
            "52/52 [==============================] - 0s 2ms/step - loss: 0.5149 - acc: 0.7583 - val_loss: 0.6449 - val_acc: 0.6772\n",
            "Epoch 68/250\n",
            "52/52 [==============================] - 0s 2ms/step - loss: 0.4598 - acc: 0.7836 - val_loss: 0.6355 - val_acc: 0.6693\n",
            "Epoch 69/250\n",
            "52/52 [==============================] - 0s 2ms/step - loss: 0.5412 - acc: 0.7443 - val_loss: 0.6192 - val_acc: 0.6890\n",
            "Epoch 70/250\n",
            "52/52 [==============================] - 0s 2ms/step - loss: 0.5803 - acc: 0.7166 - val_loss: 0.9426 - val_acc: 0.4921\n",
            "Epoch 71/250\n",
            "52/52 [==============================] - 0s 2ms/step - loss: 0.5263 - acc: 0.7405 - val_loss: 0.6292 - val_acc: 0.6811\n",
            "Epoch 72/250\n",
            "52/52 [==============================] - 0s 2ms/step - loss: 0.5454 - acc: 0.7302 - val_loss: 0.6005 - val_acc: 0.7087\n",
            "Epoch 73/250\n",
            "52/52 [==============================] - 0s 2ms/step - loss: 0.6316 - acc: 0.6650 - val_loss: 0.6050 - val_acc: 0.7047\n",
            "Epoch 74/250\n",
            "52/52 [==============================] - 0s 3ms/step - loss: 0.4899 - acc: 0.7495 - val_loss: 0.7295 - val_acc: 0.6693\n",
            "Epoch 75/250\n",
            "52/52 [==============================] - 0s 2ms/step - loss: 0.6276 - acc: 0.7841 - val_loss: 0.6113 - val_acc: 0.7008\n",
            "Epoch 76/250\n",
            "52/52 [==============================] - 0s 2ms/step - loss: 0.4921 - acc: 0.7454 - val_loss: 0.5976 - val_acc: 0.7205\n",
            "Epoch 77/250\n",
            "52/52 [==============================] - 0s 2ms/step - loss: 0.4873 - acc: 0.7367 - val_loss: 0.5969 - val_acc: 0.7087\n",
            "Epoch 78/250\n",
            "52/52 [==============================] - 0s 2ms/step - loss: 0.4858 - acc: 0.7627 - val_loss: 0.6333 - val_acc: 0.6614\n",
            "Epoch 79/250\n",
            "52/52 [==============================] - 0s 2ms/step - loss: 0.5107 - acc: 0.7365 - val_loss: 0.6434 - val_acc: 0.6969\n",
            "Epoch 80/250\n",
            "52/52 [==============================] - 0s 2ms/step - loss: 0.4973 - acc: 0.7458 - val_loss: 0.6040 - val_acc: 0.7008\n",
            "Epoch 81/250\n",
            "52/52 [==============================] - 0s 2ms/step - loss: 0.4952 - acc: 0.7697 - val_loss: 0.6458 - val_acc: 0.6890\n",
            "Epoch 82/250\n",
            "52/52 [==============================] - 0s 2ms/step - loss: 0.4964 - acc: 0.7594 - val_loss: 0.5975 - val_acc: 0.7165\n",
            "Epoch 83/250\n",
            "52/52 [==============================] - 0s 2ms/step - loss: 0.4942 - acc: 0.7537 - val_loss: 0.6554 - val_acc: 0.6969\n",
            "Epoch 84/250\n",
            "52/52 [==============================] - 0s 2ms/step - loss: 0.4859 - acc: 0.7608 - val_loss: 0.6209 - val_acc: 0.7205\n",
            "Epoch 85/250\n",
            "52/52 [==============================] - 0s 2ms/step - loss: 0.4776 - acc: 0.7686 - val_loss: 0.5918 - val_acc: 0.7165\n",
            "Epoch 86/250\n",
            "52/52 [==============================] - 0s 2ms/step - loss: 0.4798 - acc: 0.7846 - val_loss: 0.6060 - val_acc: 0.7008\n",
            "Epoch 87/250\n",
            "52/52 [==============================] - 0s 2ms/step - loss: 0.4888 - acc: 0.7570 - val_loss: 0.6145 - val_acc: 0.6772\n",
            "Epoch 88/250\n",
            "52/52 [==============================] - 0s 2ms/step - loss: 0.4551 - acc: 0.7954 - val_loss: 0.6163 - val_acc: 0.7087\n",
            "Epoch 89/250\n",
            "52/52 [==============================] - 0s 2ms/step - loss: 0.4357 - acc: 0.8027 - val_loss: 0.6386 - val_acc: 0.6654\n",
            "Epoch 90/250\n",
            "52/52 [==============================] - 0s 2ms/step - loss: 0.4907 - acc: 0.7488 - val_loss: 0.7015 - val_acc: 0.6850\n",
            "Epoch 91/250\n",
            "52/52 [==============================] - 0s 2ms/step - loss: 0.5192 - acc: 0.7844 - val_loss: 0.6000 - val_acc: 0.7362\n",
            "Epoch 92/250\n",
            "52/52 [==============================] - 0s 2ms/step - loss: 0.5570 - acc: 0.7300 - val_loss: 0.6939 - val_acc: 0.6614\n",
            "Epoch 93/250\n",
            "52/52 [==============================] - 0s 2ms/step - loss: 0.5345 - acc: 0.7257 - val_loss: 0.7087 - val_acc: 0.6850\n",
            "Epoch 94/250\n",
            "52/52 [==============================] - 0s 2ms/step - loss: 0.4725 - acc: 0.7741 - val_loss: 0.6419 - val_acc: 0.6811\n",
            "Epoch 95/250\n",
            "52/52 [==============================] - 0s 2ms/step - loss: 0.4705 - acc: 0.7627 - val_loss: 0.6208 - val_acc: 0.7087\n",
            "Epoch 96/250\n",
            "52/52 [==============================] - 0s 2ms/step - loss: 0.5057 - acc: 0.7518 - val_loss: 0.5990 - val_acc: 0.7205\n",
            "Epoch 97/250\n",
            "52/52 [==============================] - 0s 2ms/step - loss: 0.4304 - acc: 0.7923 - val_loss: 0.6105 - val_acc: 0.7244\n",
            "Epoch 98/250\n",
            "52/52 [==============================] - 0s 2ms/step - loss: 0.4746 - acc: 0.7613 - val_loss: 0.6129 - val_acc: 0.7244\n",
            "Epoch 99/250\n",
            "52/52 [==============================] - 0s 2ms/step - loss: 0.4421 - acc: 0.7739 - val_loss: 0.6319 - val_acc: 0.7008\n",
            "Epoch 100/250\n",
            "52/52 [==============================] - 0s 2ms/step - loss: 0.4803 - acc: 0.7575 - val_loss: 0.6425 - val_acc: 0.6969\n",
            "Epoch 101/250\n",
            "52/52 [==============================] - 0s 2ms/step - loss: 0.4947 - acc: 0.7448 - val_loss: 0.6658 - val_acc: 0.6654\n",
            "Epoch 102/250\n",
            "52/52 [==============================] - 0s 2ms/step - loss: 0.5397 - acc: 0.7224 - val_loss: 0.7987 - val_acc: 0.6220\n",
            "Epoch 103/250\n",
            "52/52 [==============================] - 0s 2ms/step - loss: 0.4888 - acc: 0.7381 - val_loss: 0.6694 - val_acc: 0.7008\n",
            "Epoch 104/250\n",
            "52/52 [==============================] - 0s 2ms/step - loss: 0.5453 - acc: 0.7483 - val_loss: 0.6398 - val_acc: 0.7126\n",
            "Epoch 105/250\n",
            "52/52 [==============================] - 0s 2ms/step - loss: 0.4622 - acc: 0.7832 - val_loss: 0.6532 - val_acc: 0.6457\n",
            "Epoch 106/250\n",
            "52/52 [==============================] - 0s 2ms/step - loss: 0.5119 - acc: 0.7373 - val_loss: 0.6446 - val_acc: 0.7008\n",
            "Epoch 107/250\n",
            "52/52 [==============================] - 0s 2ms/step - loss: 0.4418 - acc: 0.7718 - val_loss: 0.5993 - val_acc: 0.7283\n",
            "Epoch 108/250\n",
            "52/52 [==============================] - 0s 2ms/step - loss: 0.4675 - acc: 0.7643 - val_loss: 0.6161 - val_acc: 0.6969\n",
            "Epoch 109/250\n",
            "52/52 [==============================] - 0s 2ms/step - loss: 0.4293 - acc: 0.8020 - val_loss: 0.6641 - val_acc: 0.6575\n",
            "Epoch 110/250\n",
            "52/52 [==============================] - 0s 2ms/step - loss: 0.4621 - acc: 0.7788 - val_loss: 0.6299 - val_acc: 0.7008\n",
            "Epoch 111/250\n",
            "52/52 [==============================] - 0s 2ms/step - loss: 0.4771 - acc: 0.7645 - val_loss: 0.7023 - val_acc: 0.7047\n",
            "Epoch 112/250\n",
            "52/52 [==============================] - 0s 2ms/step - loss: 0.5088 - acc: 0.7304 - val_loss: 0.5840 - val_acc: 0.7283\n",
            "Epoch 113/250\n",
            "52/52 [==============================] - 0s 2ms/step - loss: 0.4501 - acc: 0.7692 - val_loss: 0.6334 - val_acc: 0.6850\n",
            "Epoch 114/250\n",
            "52/52 [==============================] - 0s 2ms/step - loss: 0.4586 - acc: 0.7861 - val_loss: 0.6612 - val_acc: 0.6969\n",
            "Epoch 115/250\n",
            "52/52 [==============================] - 0s 2ms/step - loss: 0.4603 - acc: 0.7735 - val_loss: 0.6307 - val_acc: 0.7205\n",
            "Epoch 116/250\n",
            "52/52 [==============================] - 0s 2ms/step - loss: 0.4762 - acc: 0.7589 - val_loss: 0.6000 - val_acc: 0.7205\n",
            "Epoch 117/250\n",
            "52/52 [==============================] - 0s 2ms/step - loss: 0.4367 - acc: 0.7901 - val_loss: 0.6281 - val_acc: 0.7047\n",
            "Epoch 118/250\n",
            "52/52 [==============================] - 0s 2ms/step - loss: 0.4291 - acc: 0.7950 - val_loss: 0.6126 - val_acc: 0.7205\n",
            "Epoch 119/250\n",
            "52/52 [==============================] - 0s 2ms/step - loss: 0.4573 - acc: 0.7838 - val_loss: 0.6136 - val_acc: 0.7323\n",
            "Epoch 120/250\n",
            "52/52 [==============================] - 0s 2ms/step - loss: 0.4573 - acc: 0.7543 - val_loss: 0.7024 - val_acc: 0.7008\n",
            "Epoch 121/250\n",
            "52/52 [==============================] - 0s 2ms/step - loss: 0.4397 - acc: 0.7583 - val_loss: 0.6315 - val_acc: 0.7283\n",
            "Epoch 122/250\n",
            "52/52 [==============================] - 0s 2ms/step - loss: 0.4641 - acc: 0.7728 - val_loss: 0.6234 - val_acc: 0.7126\n",
            "Epoch 123/250\n",
            "52/52 [==============================] - 0s 2ms/step - loss: 0.4243 - acc: 0.7960 - val_loss: 0.5955 - val_acc: 0.7323\n",
            "Epoch 124/250\n",
            "52/52 [==============================] - 0s 3ms/step - loss: 0.4336 - acc: 0.7821 - val_loss: 0.6134 - val_acc: 0.7323\n",
            "Epoch 125/250\n",
            "52/52 [==============================] - 0s 2ms/step - loss: 0.4822 - acc: 0.7689 - val_loss: 0.7171 - val_acc: 0.6654\n",
            "Epoch 126/250\n",
            "52/52 [==============================] - 0s 2ms/step - loss: 0.4912 - acc: 0.7760 - val_loss: 0.6171 - val_acc: 0.7402\n",
            "Epoch 127/250\n",
            "52/52 [==============================] - 0s 2ms/step - loss: 0.5267 - acc: 0.7417 - val_loss: 0.6175 - val_acc: 0.7165\n",
            "Epoch 128/250\n",
            "52/52 [==============================] - 0s 2ms/step - loss: 0.4783 - acc: 0.7781 - val_loss: 0.6233 - val_acc: 0.7520\n",
            "Epoch 129/250\n",
            "52/52 [==============================] - 0s 2ms/step - loss: 0.4529 - acc: 0.7603 - val_loss: 0.5703 - val_acc: 0.7402\n",
            "Epoch 130/250\n",
            "52/52 [==============================] - 0s 2ms/step - loss: 0.4424 - acc: 0.7689 - val_loss: 0.6707 - val_acc: 0.7008\n",
            "Epoch 131/250\n",
            "52/52 [==============================] - 0s 2ms/step - loss: 0.5845 - acc: 0.7459 - val_loss: 0.6136 - val_acc: 0.7323\n",
            "Epoch 132/250\n",
            "52/52 [==============================] - 0s 2ms/step - loss: 0.4454 - acc: 0.7882 - val_loss: 0.6228 - val_acc: 0.7205\n",
            "Epoch 133/250\n",
            "52/52 [==============================] - 0s 2ms/step - loss: 0.4729 - acc: 0.7689 - val_loss: 0.6410 - val_acc: 0.6969\n",
            "Epoch 134/250\n",
            "52/52 [==============================] - 0s 2ms/step - loss: 0.4608 - acc: 0.7448 - val_loss: 0.7672 - val_acc: 0.6850\n",
            "Epoch 135/250\n",
            "52/52 [==============================] - 0s 2ms/step - loss: 0.4847 - acc: 0.7461 - val_loss: 0.6351 - val_acc: 0.7362\n",
            "Epoch 136/250\n",
            "52/52 [==============================] - 0s 2ms/step - loss: 0.4485 - acc: 0.7872 - val_loss: 0.7170 - val_acc: 0.6654\n",
            "Epoch 137/250\n",
            "52/52 [==============================] - 0s 2ms/step - loss: 0.4698 - acc: 0.7603 - val_loss: 0.6324 - val_acc: 0.7402\n",
            "Epoch 138/250\n",
            "52/52 [==============================] - 0s 2ms/step - loss: 0.4044 - acc: 0.8139 - val_loss: 0.7104 - val_acc: 0.6614\n",
            "Epoch 139/250\n",
            "52/52 [==============================] - 0s 2ms/step - loss: 0.5037 - acc: 0.7605 - val_loss: 0.6133 - val_acc: 0.7598\n",
            "Epoch 140/250\n",
            "52/52 [==============================] - 0s 2ms/step - loss: 0.4255 - acc: 0.7918 - val_loss: 0.7572 - val_acc: 0.6732\n",
            "Epoch 141/250\n",
            "52/52 [==============================] - 0s 2ms/step - loss: 0.4387 - acc: 0.7726 - val_loss: 0.5972 - val_acc: 0.7402\n",
            "Epoch 142/250\n",
            "52/52 [==============================] - 0s 2ms/step - loss: 0.4537 - acc: 0.7899 - val_loss: 0.6097 - val_acc: 0.7402\n",
            "Epoch 143/250\n",
            "52/52 [==============================] - 0s 2ms/step - loss: 0.5236 - acc: 0.7458 - val_loss: 0.6046 - val_acc: 0.7362\n",
            "Epoch 144/250\n",
            "52/52 [==============================] - 0s 2ms/step - loss: 0.4773 - acc: 0.7684 - val_loss: 0.6058 - val_acc: 0.7441\n",
            "Epoch 145/250\n",
            "52/52 [==============================] - 0s 2ms/step - loss: 0.4651 - acc: 0.7666 - val_loss: 0.6106 - val_acc: 0.7362\n",
            "Epoch 146/250\n",
            "52/52 [==============================] - 0s 2ms/step - loss: 0.4713 - acc: 0.7982 - val_loss: 0.6443 - val_acc: 0.7205\n",
            "Epoch 147/250\n",
            "52/52 [==============================] - 0s 2ms/step - loss: 0.4630 - acc: 0.7555 - val_loss: 0.6683 - val_acc: 0.6929\n",
            "Epoch 148/250\n",
            "52/52 [==============================] - 0s 2ms/step - loss: 0.4380 - acc: 0.7806 - val_loss: 0.6112 - val_acc: 0.7323\n",
            "Epoch 149/250\n",
            "52/52 [==============================] - 0s 2ms/step - loss: 0.4456 - acc: 0.7603 - val_loss: 0.6266 - val_acc: 0.7323\n",
            "Epoch 150/250\n",
            "52/52 [==============================] - 0s 2ms/step - loss: 0.4534 - acc: 0.7633 - val_loss: 0.6553 - val_acc: 0.7283\n",
            "Epoch 151/250\n",
            "52/52 [==============================] - 0s 2ms/step - loss: 0.4990 - acc: 0.7478 - val_loss: 0.6266 - val_acc: 0.7402\n",
            "Epoch 152/250\n",
            "52/52 [==============================] - 0s 2ms/step - loss: 0.4427 - acc: 0.7815 - val_loss: 0.8210 - val_acc: 0.5984\n",
            "Epoch 153/250\n",
            "52/52 [==============================] - 0s 2ms/step - loss: 0.4938 - acc: 0.7382 - val_loss: 0.6287 - val_acc: 0.7402\n",
            "Epoch 154/250\n",
            "52/52 [==============================] - 0s 2ms/step - loss: 0.4328 - acc: 0.7935 - val_loss: 0.7014 - val_acc: 0.7087\n",
            "Epoch 155/250\n",
            "52/52 [==============================] - 0s 2ms/step - loss: 0.4300 - acc: 0.8076 - val_loss: 0.6385 - val_acc: 0.7126\n",
            "Epoch 156/250\n",
            "52/52 [==============================] - 0s 2ms/step - loss: 0.4879 - acc: 0.7678 - val_loss: 0.6465 - val_acc: 0.7126\n",
            "Epoch 157/250\n",
            "52/52 [==============================] - 0s 2ms/step - loss: 0.4389 - acc: 0.7714 - val_loss: 0.6842 - val_acc: 0.7126\n",
            "Epoch 158/250\n",
            "52/52 [==============================] - 0s 2ms/step - loss: 0.4723 - acc: 0.7247 - val_loss: 0.6801 - val_acc: 0.6693\n",
            "Epoch 159/250\n",
            "52/52 [==============================] - 0s 2ms/step - loss: 0.4358 - acc: 0.7768 - val_loss: 0.6139 - val_acc: 0.7480\n",
            "Epoch 160/250\n",
            "52/52 [==============================] - 0s 2ms/step - loss: 0.4670 - acc: 0.7788 - val_loss: 0.6279 - val_acc: 0.7205\n",
            "Epoch 161/250\n",
            "52/52 [==============================] - 0s 2ms/step - loss: 0.4569 - acc: 0.7679 - val_loss: 0.6452 - val_acc: 0.7323\n",
            "Epoch 162/250\n",
            "52/52 [==============================] - 0s 2ms/step - loss: 0.4388 - acc: 0.8023 - val_loss: 0.6882 - val_acc: 0.6969\n",
            "Epoch 163/250\n",
            "52/52 [==============================] - 0s 2ms/step - loss: 0.4923 - acc: 0.7731 - val_loss: 0.6443 - val_acc: 0.7283\n",
            "Epoch 164/250\n",
            "52/52 [==============================] - 0s 2ms/step - loss: 0.4740 - acc: 0.7767 - val_loss: 0.7922 - val_acc: 0.5709\n",
            "Epoch 165/250\n",
            "52/52 [==============================] - 0s 3ms/step - loss: 0.4970 - acc: 0.7432 - val_loss: 0.6990 - val_acc: 0.6732\n",
            "Epoch 166/250\n",
            "52/52 [==============================] - 0s 2ms/step - loss: 0.4469 - acc: 0.7721 - val_loss: 0.6552 - val_acc: 0.7087\n",
            "Epoch 167/250\n",
            "52/52 [==============================] - 0s 2ms/step - loss: 0.4499 - acc: 0.7746 - val_loss: 0.6361 - val_acc: 0.7441\n",
            "Epoch 168/250\n",
            "52/52 [==============================] - 0s 2ms/step - loss: 0.4384 - acc: 0.7854 - val_loss: 0.6937 - val_acc: 0.7323\n",
            "Epoch 169/250\n",
            "52/52 [==============================] - 0s 2ms/step - loss: 0.4369 - acc: 0.8115 - val_loss: 0.6381 - val_acc: 0.7244\n",
            "Epoch 170/250\n",
            "52/52 [==============================] - 0s 2ms/step - loss: 0.4619 - acc: 0.8128 - val_loss: 0.6326 - val_acc: 0.7402\n",
            "Epoch 171/250\n",
            "52/52 [==============================] - 0s 2ms/step - loss: 0.4100 - acc: 0.8058 - val_loss: 0.6388 - val_acc: 0.7402\n",
            "Epoch 172/250\n",
            "52/52 [==============================] - 0s 2ms/step - loss: 0.4552 - acc: 0.7741 - val_loss: 0.8067 - val_acc: 0.6811\n",
            "Epoch 173/250\n",
            "52/52 [==============================] - 0s 2ms/step - loss: 0.4953 - acc: 0.7401 - val_loss: 0.6603 - val_acc: 0.7323\n",
            "Epoch 174/250\n",
            "52/52 [==============================] - 0s 2ms/step - loss: 0.4825 - acc: 0.7440 - val_loss: 0.6119 - val_acc: 0.7441\n",
            "Epoch 175/250\n",
            "52/52 [==============================] - 0s 2ms/step - loss: 0.3984 - acc: 0.8159 - val_loss: 0.6219 - val_acc: 0.7283\n",
            "Epoch 176/250\n",
            "52/52 [==============================] - 0s 2ms/step - loss: 0.4223 - acc: 0.8118 - val_loss: 0.6764 - val_acc: 0.7520\n",
            "Epoch 177/250\n",
            "52/52 [==============================] - 0s 2ms/step - loss: 0.4318 - acc: 0.7969 - val_loss: 0.6356 - val_acc: 0.7244\n",
            "Epoch 178/250\n",
            "52/52 [==============================] - 0s 2ms/step - loss: 0.4072 - acc: 0.8056 - val_loss: 0.6816 - val_acc: 0.6654\n",
            "Epoch 179/250\n",
            "52/52 [==============================] - 0s 2ms/step - loss: 0.4715 - acc: 0.7632 - val_loss: 0.6981 - val_acc: 0.6496\n",
            "Epoch 180/250\n",
            "52/52 [==============================] - 0s 2ms/step - loss: 0.4307 - acc: 0.7775 - val_loss: 0.6434 - val_acc: 0.7441\n",
            "Epoch 181/250\n",
            "52/52 [==============================] - 0s 2ms/step - loss: 0.4441 - acc: 0.8004 - val_loss: 0.6208 - val_acc: 0.7402\n",
            "Epoch 182/250\n",
            "52/52 [==============================] - 0s 2ms/step - loss: 0.4460 - acc: 0.7647 - val_loss: 0.7563 - val_acc: 0.6496\n",
            "Epoch 183/250\n",
            "52/52 [==============================] - 0s 2ms/step - loss: 0.4584 - acc: 0.7833 - val_loss: 0.7159 - val_acc: 0.6969\n",
            "Epoch 184/250\n",
            "52/52 [==============================] - 0s 2ms/step - loss: 0.4840 - acc: 0.7707 - val_loss: 0.6745 - val_acc: 0.7244\n",
            "Epoch 185/250\n",
            "52/52 [==============================] - 0s 2ms/step - loss: 0.3916 - acc: 0.8142 - val_loss: 0.6610 - val_acc: 0.7087\n",
            "Epoch 186/250\n",
            "52/52 [==============================] - 0s 2ms/step - loss: 0.3991 - acc: 0.8265 - val_loss: 0.7244 - val_acc: 0.6496\n",
            "Epoch 187/250\n",
            "52/52 [==============================] - 0s 2ms/step - loss: 0.4436 - acc: 0.7958 - val_loss: 0.6162 - val_acc: 0.7559\n",
            "Epoch 188/250\n",
            "52/52 [==============================] - 0s 2ms/step - loss: 0.4103 - acc: 0.8159 - val_loss: 0.6267 - val_acc: 0.7480\n",
            "Epoch 189/250\n",
            "52/52 [==============================] - 0s 2ms/step - loss: 0.4577 - acc: 0.7552 - val_loss: 0.8831 - val_acc: 0.6181\n",
            "Epoch 190/250\n",
            "52/52 [==============================] - 0s 2ms/step - loss: 0.5061 - acc: 0.7609 - val_loss: 0.6364 - val_acc: 0.7559\n",
            "Epoch 191/250\n",
            "52/52 [==============================] - 0s 2ms/step - loss: 0.3988 - acc: 0.8029 - val_loss: 0.6118 - val_acc: 0.7441\n",
            "Epoch 192/250\n",
            "52/52 [==============================] - 0s 2ms/step - loss: 0.3925 - acc: 0.8160 - val_loss: 0.6541 - val_acc: 0.7402\n",
            "Epoch 193/250\n",
            "52/52 [==============================] - 0s 2ms/step - loss: 0.4494 - acc: 0.7661 - val_loss: 0.7491 - val_acc: 0.7047\n",
            "Epoch 194/250\n",
            "52/52 [==============================] - 0s 2ms/step - loss: 0.4278 - acc: 0.7980 - val_loss: 0.6825 - val_acc: 0.7047\n",
            "Epoch 195/250\n",
            "52/52 [==============================] - 0s 2ms/step - loss: 0.4017 - acc: 0.8046 - val_loss: 0.7328 - val_acc: 0.6614\n",
            "Epoch 196/250\n",
            "52/52 [==============================] - 0s 2ms/step - loss: 0.4246 - acc: 0.7800 - val_loss: 0.6411 - val_acc: 0.7283\n",
            "Epoch 197/250\n",
            "52/52 [==============================] - 0s 2ms/step - loss: 0.4243 - acc: 0.7869 - val_loss: 0.6468 - val_acc: 0.7362\n",
            "Epoch 198/250\n",
            "52/52 [==============================] - 0s 2ms/step - loss: 0.4331 - acc: 0.7903 - val_loss: 0.6293 - val_acc: 0.7402\n",
            "Epoch 199/250\n",
            "52/52 [==============================] - 0s 2ms/step - loss: 0.3863 - acc: 0.8146 - val_loss: 0.7417 - val_acc: 0.6457\n",
            "Epoch 200/250\n",
            "52/52 [==============================] - 0s 2ms/step - loss: 0.4273 - acc: 0.7438 - val_loss: 0.6666 - val_acc: 0.7362\n",
            "Epoch 201/250\n",
            "52/52 [==============================] - 0s 2ms/step - loss: 0.4140 - acc: 0.7973 - val_loss: 0.6723 - val_acc: 0.7126\n",
            "Epoch 202/250\n",
            "52/52 [==============================] - 0s 2ms/step - loss: 0.4089 - acc: 0.7756 - val_loss: 0.6498 - val_acc: 0.7441\n",
            "Epoch 203/250\n",
            "52/52 [==============================] - 0s 2ms/step - loss: 0.4031 - acc: 0.7988 - val_loss: 0.6400 - val_acc: 0.7244\n",
            "Epoch 204/250\n",
            "52/52 [==============================] - 0s 2ms/step - loss: 0.4000 - acc: 0.7968 - val_loss: 0.6466 - val_acc: 0.7283\n",
            "Epoch 205/250\n",
            "52/52 [==============================] - 0s 2ms/step - loss: 0.4307 - acc: 0.7827 - val_loss: 0.6814 - val_acc: 0.6496\n",
            "Epoch 206/250\n",
            "52/52 [==============================] - 0s 2ms/step - loss: 0.4327 - acc: 0.8036 - val_loss: 0.6384 - val_acc: 0.7362\n",
            "Epoch 207/250\n",
            "52/52 [==============================] - 0s 2ms/step - loss: 0.5260 - acc: 0.7390 - val_loss: 0.6477 - val_acc: 0.7598\n",
            "Epoch 208/250\n",
            "52/52 [==============================] - 0s 2ms/step - loss: 0.4064 - acc: 0.8215 - val_loss: 0.6644 - val_acc: 0.7047\n",
            "Epoch 209/250\n",
            "52/52 [==============================] - 0s 2ms/step - loss: 0.4242 - acc: 0.7991 - val_loss: 0.6245 - val_acc: 0.7480\n",
            "Epoch 210/250\n",
            "52/52 [==============================] - 0s 2ms/step - loss: 0.4196 - acc: 0.8017 - val_loss: 0.6934 - val_acc: 0.7244\n",
            "Epoch 211/250\n",
            "52/52 [==============================] - 0s 2ms/step - loss: 0.4550 - acc: 0.7541 - val_loss: 0.6846 - val_acc: 0.7244\n",
            "Epoch 212/250\n",
            "52/52 [==============================] - 0s 2ms/step - loss: 0.3828 - acc: 0.8187 - val_loss: 0.6528 - val_acc: 0.7323\n",
            "Epoch 213/250\n",
            "52/52 [==============================] - 0s 2ms/step - loss: 0.4480 - acc: 0.7749 - val_loss: 0.7877 - val_acc: 0.6929\n",
            "Epoch 214/250\n",
            "52/52 [==============================] - 0s 2ms/step - loss: 0.4436 - acc: 0.7834 - val_loss: 0.6395 - val_acc: 0.7559\n",
            "Epoch 215/250\n",
            "52/52 [==============================] - 0s 3ms/step - loss: 0.4002 - acc: 0.8075 - val_loss: 0.7032 - val_acc: 0.7283\n",
            "Epoch 216/250\n",
            "52/52 [==============================] - 0s 2ms/step - loss: 0.4353 - acc: 0.8060 - val_loss: 0.6450 - val_acc: 0.7283\n",
            "Epoch 217/250\n",
            "52/52 [==============================] - 0s 2ms/step - loss: 0.4079 - acc: 0.8064 - val_loss: 0.6584 - val_acc: 0.7165\n",
            "Epoch 218/250\n",
            "52/52 [==============================] - 0s 2ms/step - loss: 0.4722 - acc: 0.7526 - val_loss: 0.7665 - val_acc: 0.6260\n",
            "Epoch 219/250\n",
            "52/52 [==============================] - 0s 2ms/step - loss: 0.4330 - acc: 0.7675 - val_loss: 0.6453 - val_acc: 0.7480\n",
            "Epoch 220/250\n",
            "52/52 [==============================] - 0s 2ms/step - loss: 0.4123 - acc: 0.7971 - val_loss: 0.6641 - val_acc: 0.7402\n",
            "Epoch 221/250\n",
            "52/52 [==============================] - 0s 2ms/step - loss: 0.3972 - acc: 0.8000 - val_loss: 0.6568 - val_acc: 0.7441\n",
            "Epoch 222/250\n",
            "52/52 [==============================] - 0s 2ms/step - loss: 0.3969 - acc: 0.7988 - val_loss: 0.6878 - val_acc: 0.7323\n",
            "Epoch 223/250\n",
            "52/52 [==============================] - 0s 2ms/step - loss: 0.4340 - acc: 0.7459 - val_loss: 0.6484 - val_acc: 0.7323\n",
            "Epoch 224/250\n",
            "52/52 [==============================] - 0s 2ms/step - loss: 0.3733 - acc: 0.8378 - val_loss: 0.6911 - val_acc: 0.6850\n",
            "Epoch 225/250\n",
            "52/52 [==============================] - 0s 2ms/step - loss: 0.4305 - acc: 0.7754 - val_loss: 0.7069 - val_acc: 0.7402\n",
            "Epoch 226/250\n",
            "52/52 [==============================] - 0s 2ms/step - loss: 0.4294 - acc: 0.7990 - val_loss: 0.6973 - val_acc: 0.7441\n",
            "Epoch 227/250\n",
            "52/52 [==============================] - 0s 2ms/step - loss: 0.4043 - acc: 0.7958 - val_loss: 0.6664 - val_acc: 0.7323\n",
            "Epoch 228/250\n",
            "52/52 [==============================] - 0s 2ms/step - loss: 0.4244 - acc: 0.7978 - val_loss: 0.7282 - val_acc: 0.7047\n",
            "Epoch 229/250\n",
            "52/52 [==============================] - 0s 2ms/step - loss: 0.4925 - acc: 0.7208 - val_loss: 0.6843 - val_acc: 0.7677\n",
            "Epoch 230/250\n",
            "52/52 [==============================] - 0s 2ms/step - loss: 0.3958 - acc: 0.8360 - val_loss: 0.6902 - val_acc: 0.7402\n",
            "Epoch 231/250\n",
            "52/52 [==============================] - 0s 2ms/step - loss: 0.4074 - acc: 0.8148 - val_loss: 0.7788 - val_acc: 0.6890\n",
            "Epoch 232/250\n",
            "52/52 [==============================] - 0s 2ms/step - loss: 0.4614 - acc: 0.7578 - val_loss: 0.7369 - val_acc: 0.7283\n",
            "Epoch 233/250\n",
            "52/52 [==============================] - 0s 2ms/step - loss: 0.4384 - acc: 0.7839 - val_loss: 0.6865 - val_acc: 0.6929\n",
            "Epoch 234/250\n",
            "52/52 [==============================] - 0s 2ms/step - loss: 0.3728 - acc: 0.8249 - val_loss: 0.6628 - val_acc: 0.7480\n",
            "Epoch 235/250\n",
            "52/52 [==============================] - 0s 2ms/step - loss: 0.4132 - acc: 0.7896 - val_loss: 0.6689 - val_acc: 0.7402\n",
            "Epoch 236/250\n",
            "52/52 [==============================] - 0s 2ms/step - loss: 0.4134 - acc: 0.7838 - val_loss: 0.7203 - val_acc: 0.7283\n",
            "Epoch 237/250\n",
            "52/52 [==============================] - 0s 2ms/step - loss: 0.4285 - acc: 0.7904 - val_loss: 0.6855 - val_acc: 0.7638\n",
            "Epoch 238/250\n",
            "52/52 [==============================] - 0s 2ms/step - loss: 0.4216 - acc: 0.7892 - val_loss: 0.8667 - val_acc: 0.5945\n",
            "Epoch 239/250\n",
            "52/52 [==============================] - 0s 2ms/step - loss: 0.4284 - acc: 0.8065 - val_loss: 0.7491 - val_acc: 0.7480\n",
            "Epoch 240/250\n",
            "52/52 [==============================] - 0s 2ms/step - loss: 0.4679 - acc: 0.7763 - val_loss: 0.7362 - val_acc: 0.7283\n",
            "Epoch 241/250\n",
            "52/52 [==============================] - 0s 2ms/step - loss: 0.3933 - acc: 0.8131 - val_loss: 0.6824 - val_acc: 0.7244\n",
            "Epoch 242/250\n",
            "52/52 [==============================] - 0s 2ms/step - loss: 0.3829 - acc: 0.8121 - val_loss: 0.6964 - val_acc: 0.7362\n",
            "Epoch 243/250\n",
            "52/52 [==============================] - 0s 2ms/step - loss: 0.4157 - acc: 0.7877 - val_loss: 0.7188 - val_acc: 0.7047\n",
            "Epoch 244/250\n",
            "52/52 [==============================] - 0s 2ms/step - loss: 0.4492 - acc: 0.7908 - val_loss: 0.6888 - val_acc: 0.7441\n",
            "Epoch 245/250\n",
            "52/52 [==============================] - 0s 2ms/step - loss: 0.3742 - acc: 0.8208 - val_loss: 0.7137 - val_acc: 0.7598\n",
            "Epoch 246/250\n",
            "52/52 [==============================] - 0s 2ms/step - loss: 0.4249 - acc: 0.7930 - val_loss: 0.7268 - val_acc: 0.7362\n",
            "Epoch 247/250\n",
            "52/52 [==============================] - 0s 2ms/step - loss: 0.3952 - acc: 0.7908 - val_loss: 0.6872 - val_acc: 0.7638\n",
            "Epoch 248/250\n",
            "52/52 [==============================] - 0s 2ms/step - loss: 0.4385 - acc: 0.7515 - val_loss: 0.7685 - val_acc: 0.7520\n",
            "Epoch 249/250\n",
            "52/52 [==============================] - 0s 2ms/step - loss: 0.4474 - acc: 0.7736 - val_loss: 0.6857 - val_acc: 0.7480\n",
            "Epoch 250/250\n",
            "52/52 [==============================] - 0s 2ms/step - loss: 0.3830 - acc: 0.8264 - val_loss: 0.6276 - val_acc: 0.7402\n"
          ],
          "name": "stdout"
        }
      ]
    },
    {
      "cell_type": "code",
      "metadata": {
        "colab": {
          "base_uri": "https://localhost:8080/"
        },
        "id": "spxXtHe3G5I5",
        "outputId": "29499eb2-909a-4824-b95c-0882d31dff27"
      },
      "source": [
        "# evaluate the model\n",
        "scores = model.evaluate(X, Y)\n",
        "print(\"%s: %.2f%%\" % (model.metrics_names[1], scores[1]*100))"
      ],
      "execution_count": 9,
      "outputs": [
        {
          "output_type": "stream",
          "text": [
            "24/24 [==============================] - 0s 1ms/step - loss: 0.4691 - acc: 0.7852\n",
            "acc: 78.52%\n"
          ],
          "name": "stdout"
        }
      ]
    },
    {
      "cell_type": "code",
      "metadata": {
        "colab": {
          "base_uri": "https://localhost:8080/"
        },
        "id": "Sn1MD348G5I6",
        "outputId": "a0647070-cdbc-4540-cc2a-6c9141b2249a"
      },
      "source": [
        "# Visualize training history\n",
        "\n",
        "# list all data in history\n",
        "history.history.keys()\n"
      ],
      "execution_count": 10,
      "outputs": [
        {
          "output_type": "execute_result",
          "data": {
            "text/plain": [
              "dict_keys(['loss', 'acc', 'val_loss', 'val_acc'])"
            ]
          },
          "metadata": {
            "tags": []
          },
          "execution_count": 10
        }
      ]
    },
    {
      "cell_type": "code",
      "metadata": {
        "colab": {
          "base_uri": "https://localhost:8080/",
          "height": 573
        },
        "id": "KskOA4z_G5I7",
        "outputId": "798060a2-2c44-4d08-af18-534b004acf83"
      },
      "source": [
        "# summarize history for accuracy\n",
        "import matplotlib.pyplot as plt\n",
        "%matplotlib inline\n",
        "plt.plot(history.history['acc'])\n",
        "plt.plot(history.history['val_acc'])\n",
        "plt.title('model accuracy')\n",
        "plt.ylabel('accuracy')\n",
        "plt.xlabel('epoch')\n",
        "plt.legend(['train', 'test'], loc='upper left')\n",
        "plt.show()\n",
        "# summarize history for loss\n",
        "plt.plot(history.history['loss'])\n",
        "plt.plot(history.history['val_loss'])\n",
        "plt.title('model loss')\n",
        "plt.ylabel('loss')\n",
        "plt.xlabel('epoch')\n",
        "plt.legend(['train', 'test'], loc='upper left')\n",
        "plt.show()\n"
      ],
      "execution_count": 11,
      "outputs": [
        {
          "output_type": "display_data",
          "data": {
            "image/png": "[encoded data removed]",
            "text/plain": [
              "<Figure size 432x288 with 1 Axes>"
            ]
          },
          "metadata": {
            "tags": [],
            "needs_background": "light"
          }
        },
        {
          "output_type": "display_data",
          "data": {
            "image/png": "[encoded data removed]",
            "text/plain": [
              "<Figure size 432x288 with 1 Axes>"
            ]
          },
          "metadata": {
            "tags": [],
            "needs_background": "light"
          }
        }
      ]
    },
    {
      "cell_type": "code",
      "metadata": {
        "id": "SIZ_rZHCG5I7"
      },
      "source": [
        ""
      ],
      "execution_count": 11,
      "outputs": []
    }
  ]
}