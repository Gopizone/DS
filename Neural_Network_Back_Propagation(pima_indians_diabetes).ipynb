{
  "nbformat": 4,
  "nbformat_minor": 0,
  "metadata": {
    "kernelspec": {
      "display_name": "Python 3",
      "language": "python",
      "name": "python3"
    },
    "language_info": {
      "codemirror_mode": {
        "name": "ipython",
        "version": 3
      },
      "file_extension": ".py",
      "mimetype": "text/x-python",
      "name": "python",
      "nbconvert_exporter": "python",
      "pygments_lexer": "ipython3",
      "version": "3.8.3"
    },
    "colab": {
      "name": "Neural Network_Back Propagation(pima-indians-diabetes).ipynb",
      "provenance": [],
      "include_colab_link": true
    }
  },
  "cells": [
    {
      "cell_type": "markdown",
      "metadata": {
        "id": "view-in-github",
        "colab_type": "text"
      },
      "source": [
        "<a href=\"https://colab.research.google.com/github/Gopizone/DS/blob/main/Neural_Network_Back_Propagation(pima_indians_diabetes).ipynb\" target=\"_parent\"><img src=\"https://colab.research.google.com/assets/colab-badge.svg\" alt=\"Open In Colab\"/></a>"
      ]
    },
    {
      "cell_type": "code",
      "metadata": {
        "id": "NBEm1oQMG5Im"
      },
      "source": [
        "!pip install tensorflow"
      ],
      "execution_count": null,
      "outputs": []
    },
    {
      "cell_type": "code",
      "metadata": {
        "id": "tekxN8UdG5I0"
      },
      "source": [
        "!pip install keras"
      ],
      "execution_count": null,
      "outputs": []
    },
    {
      "cell_type": "code",
      "metadata": {
        "id": "uPe4LN3hG5I2"
      },
      "source": [
        "# Create your first MLP in Keras\n",
        "import tensorflow as tf\n",
        "from tensorflow import keras\n",
        "from tensorflow.keras import layers\n",
        "from tensorflow.keras.models import Sequential, load_model\n",
        "import numpy"
      ],
      "execution_count": null,
      "outputs": []
    },
    {
      "cell_type": "code",
      "metadata": {
        "colab": {
          "resources": {
            "http://localhost:8080/nbextensions/google.colab/files.js": {
              "data": "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",
              "ok": true,
              "headers": [
                [
                  "content-type",
                  "application/javascript"
                ]
              ],
              "status": 200,
              "status_text": ""
            }
          },
          "base_uri": "https://localhost:8080/",
          "height": 73
        },
        "id": "GZvHwYBZHTUj",
        "outputId": "732f1ae3-8f3c-4439-c1ad-b234c9d7054b"
      },
      "source": [
        "from google.colab import files\r\n",
        "uploaded = files.upload()"
      ],
      "execution_count": null,
      "outputs": [
        {
          "output_type": "display_data",
          "data": {
            "text/html": [
              "\n",
              "     <input type=\"file\" id=\"files-a1b386e3-ca07-449b-81b0-9188111f14ee\" name=\"files[]\" multiple disabled\n",
              "        style=\"border:none\" />\n",
              "     <output id=\"result-a1b386e3-ca07-449b-81b0-9188111f14ee\">\n",
              "      Upload widget is only available when the cell has been executed in the\n",
              "      current browser session. Please rerun this cell to enable.\n",
              "      </output>\n",
              "      <script src=\"/nbextensions/google.colab/files.js\"></script> "
            ],
            "text/plain": [
              "<IPython.core.display.HTML object>"
            ]
          },
          "metadata": {
            "tags": []
          }
        },
        {
          "output_type": "stream",
          "text": [
            "Saving pima-indians-diabetes.csv to pima-indians-diabetes.csv\n"
          ],
          "name": "stdout"
        }
      ]
    },
    {
      "cell_type": "code",
      "metadata": {
        "id": "xPftZn5vG5I2"
      },
      "source": [
        "# fix random seed for reproducibility\n",
        "seed = 7\n",
        "numpy.random.seed(seed)\n",
        "# load pima indians dataset\n",
        "dataset = numpy.loadtxt(\"pima-indians-diabetes.csv\", delimiter=\",\")\n",
        "#dataset = numpy.loadtxt(\"C:\\\\Users\\\\UNME\\\\Downloads\\\\DS Course\\\\Neural Networks\\\\pima-indians-diabetes.csv\", delimiter=\",\")\n",
        "# split into input (X) and output (Y) variables\n",
        "X = dataset[:,0:8]\n",
        "Y = dataset[:,8]\n"
      ],
      "execution_count": null,
      "outputs": []
    },
    {
      "cell_type": "code",
      "metadata": {
        "id": "kNMmbg8oG5I3"
      },
      "source": [
        "# create model\n",
        "model = Sequential()\n",
        "model.add(layers.Dense(50, input_dim=8,  activation='relu'))\n",
        "model.add(layers.Dense(8,  activation='relu'))\n",
        "model.add(layers.Dense(1, activation='sigmoid'))"
      ],
      "execution_count": null,
      "outputs": []
    },
    {
      "cell_type": "markdown",
      "metadata": {
        "id": "ezQAZ1gyG5I3"
      },
      "source": [
        "![image.png](attachment:image.png)"
      ]
    },
    {
      "cell_type": "code",
      "metadata": {
        "id": "Xbph9wPzG5I4"
      },
      "source": [
        "# Compile model\n",
        "model.compile(loss='binary_crossentropy', optimizer='adam', metrics=['acc'])"
      ],
      "execution_count": null,
      "outputs": []
    },
    {
      "cell_type": "code",
      "metadata": {
        "colab": {
          "base_uri": "https://localhost:8080/"
        },
        "id": "5iUcqhu2G5I4",
        "outputId": "56ed7498-b227-4fbe-cf0b-f4e13f145cac"
      },
      "source": [
        "# Fit the model\n",
        "history = model.fit(X, Y, validation_split=0.33, epochs=250, batch_size=10)"
      ],
      "execution_count": null,
      "outputs": [
        {
          "output_type": "stream",
          "text": [
            "Epoch 1/250\n",
            "52/52 [==============================] - 0s 6ms/step - loss: 1.7969 - acc: 0.5350 - val_loss: 1.0028 - val_acc: 0.5984\n",
            "Epoch 2/250\n",
            "52/52 [==============================] - 0s 1ms/step - loss: 0.9869 - acc: 0.6128 - val_loss: 0.9006 - val_acc: 0.6693\n",
            "Epoch 3/250\n",
            "52/52 [==============================] - 0s 1ms/step - loss: 0.8088 - acc: 0.6245 - val_loss: 0.7318 - val_acc: 0.6772\n",
            "Epoch 4/250\n",
            "52/52 [==============================] - 0s 1ms/step - loss: 0.8760 - acc: 0.6401 - val_loss: 0.7296 - val_acc: 0.6850\n",
            "Epoch 5/250\n",
            "52/52 [==============================] - 0s 1ms/step - loss: 0.7220 - acc: 0.6576 - val_loss: 0.6871 - val_acc: 0.6654\n",
            "Epoch 6/250\n",
            "52/52 [==============================] - 0s 1ms/step - loss: 0.7238 - acc: 0.6401 - val_loss: 0.6857 - val_acc: 0.6378\n",
            "Epoch 7/250\n",
            "52/52 [==============================] - 0s 1ms/step - loss: 0.6534 - acc: 0.6732 - val_loss: 0.6925 - val_acc: 0.6024\n",
            "Epoch 8/250\n",
            "52/52 [==============================] - 0s 1ms/step - loss: 0.6521 - acc: 0.6946 - val_loss: 0.7433 - val_acc: 0.6142\n",
            "Epoch 9/250\n",
            "52/52 [==============================] - 0s 1ms/step - loss: 0.6481 - acc: 0.6809 - val_loss: 0.7165 - val_acc: 0.6457\n",
            "Epoch 10/250\n",
            "52/52 [==============================] - 0s 1ms/step - loss: 0.7366 - acc: 0.6440 - val_loss: 1.0041 - val_acc: 0.4921\n",
            "Epoch 11/250\n",
            "52/52 [==============================] - 0s 1ms/step - loss: 0.7275 - acc: 0.6576 - val_loss: 0.7400 - val_acc: 0.6850\n",
            "Epoch 12/250\n",
            "52/52 [==============================] - 0s 2ms/step - loss: 0.7131 - acc: 0.6770 - val_loss: 0.6871 - val_acc: 0.6417\n",
            "Epoch 13/250\n",
            "52/52 [==============================] - 0s 1ms/step - loss: 0.6038 - acc: 0.7101 - val_loss: 0.6573 - val_acc: 0.6614\n",
            "Epoch 14/250\n",
            "52/52 [==============================] - 0s 1ms/step - loss: 0.6189 - acc: 0.7257 - val_loss: 0.8018 - val_acc: 0.5630\n",
            "Epoch 15/250\n",
            "52/52 [==============================] - 0s 2ms/step - loss: 0.6928 - acc: 0.6732 - val_loss: 0.7530 - val_acc: 0.5748\n",
            "Epoch 16/250\n",
            "52/52 [==============================] - 0s 2ms/step - loss: 0.5967 - acc: 0.7023 - val_loss: 0.6523 - val_acc: 0.6575\n",
            "Epoch 17/250\n",
            "52/52 [==============================] - 0s 1ms/step - loss: 0.6188 - acc: 0.7043 - val_loss: 0.6191 - val_acc: 0.7047\n",
            "Epoch 18/250\n",
            "52/52 [==============================] - 0s 1ms/step - loss: 0.6536 - acc: 0.6829 - val_loss: 0.7452 - val_acc: 0.6811\n",
            "Epoch 19/250\n",
            "52/52 [==============================] - 0s 1ms/step - loss: 0.6856 - acc: 0.6673 - val_loss: 0.6514 - val_acc: 0.7008\n",
            "Epoch 20/250\n",
            "52/52 [==============================] - 0s 1ms/step - loss: 0.6712 - acc: 0.6926 - val_loss: 0.7577 - val_acc: 0.6417\n",
            "Epoch 21/250\n",
            "52/52 [==============================] - 0s 1ms/step - loss: 0.6356 - acc: 0.6965 - val_loss: 0.8548 - val_acc: 0.5079\n",
            "Epoch 22/250\n",
            "52/52 [==============================] - 0s 1ms/step - loss: 0.6845 - acc: 0.6673 - val_loss: 0.6415 - val_acc: 0.7047\n",
            "Epoch 23/250\n",
            "52/52 [==============================] - 0s 1ms/step - loss: 0.6665 - acc: 0.6654 - val_loss: 0.7416 - val_acc: 0.5669\n",
            "Epoch 24/250\n",
            "52/52 [==============================] - 0s 2ms/step - loss: 0.6103 - acc: 0.6809 - val_loss: 0.6264 - val_acc: 0.6772\n",
            "Epoch 25/250\n",
            "52/52 [==============================] - 0s 1ms/step - loss: 0.6246 - acc: 0.6848 - val_loss: 0.6226 - val_acc: 0.6811\n",
            "Epoch 26/250\n",
            "52/52 [==============================] - 0s 1ms/step - loss: 0.5607 - acc: 0.7296 - val_loss: 0.6284 - val_acc: 0.6693\n",
            "Epoch 27/250\n",
            "52/52 [==============================] - 0s 1ms/step - loss: 0.5562 - acc: 0.7296 - val_loss: 0.6397 - val_acc: 0.6890\n",
            "Epoch 28/250\n",
            "52/52 [==============================] - 0s 1ms/step - loss: 0.5781 - acc: 0.7140 - val_loss: 0.6186 - val_acc: 0.6929\n",
            "Epoch 29/250\n",
            "52/52 [==============================] - 0s 1ms/step - loss: 0.6454 - acc: 0.6673 - val_loss: 0.5989 - val_acc: 0.7087\n",
            "Epoch 30/250\n",
            "52/52 [==============================] - 0s 2ms/step - loss: 0.5532 - acc: 0.7198 - val_loss: 0.5884 - val_acc: 0.7047\n",
            "Epoch 31/250\n",
            "52/52 [==============================] - 0s 1ms/step - loss: 0.5925 - acc: 0.7082 - val_loss: 0.7590 - val_acc: 0.5945\n",
            "Epoch 32/250\n",
            "52/52 [==============================] - 0s 2ms/step - loss: 0.5726 - acc: 0.6926 - val_loss: 0.6327 - val_acc: 0.6654\n",
            "Epoch 33/250\n",
            "52/52 [==============================] - 0s 1ms/step - loss: 0.5440 - acc: 0.7374 - val_loss: 0.7049 - val_acc: 0.6260\n",
            "Epoch 34/250\n",
            "52/52 [==============================] - 0s 1ms/step - loss: 0.5652 - acc: 0.7082 - val_loss: 0.6482 - val_acc: 0.6496\n",
            "Epoch 35/250\n",
            "52/52 [==============================] - 0s 2ms/step - loss: 0.5407 - acc: 0.7412 - val_loss: 0.6245 - val_acc: 0.6772\n",
            "Epoch 36/250\n",
            "52/52 [==============================] - 0s 2ms/step - loss: 0.6108 - acc: 0.6965 - val_loss: 0.6287 - val_acc: 0.6811\n",
            "Epoch 37/250\n",
            "52/52 [==============================] - 0s 2ms/step - loss: 0.5834 - acc: 0.7237 - val_loss: 0.5983 - val_acc: 0.6890\n",
            "Epoch 38/250\n",
            "52/52 [==============================] - 0s 1ms/step - loss: 0.5353 - acc: 0.7237 - val_loss: 0.7417 - val_acc: 0.6142\n",
            "Epoch 39/250\n",
            "52/52 [==============================] - 0s 1ms/step - loss: 0.5548 - acc: 0.7237 - val_loss: 0.6461 - val_acc: 0.7008\n",
            "Epoch 40/250\n",
            "52/52 [==============================] - 0s 1ms/step - loss: 0.5649 - acc: 0.7179 - val_loss: 0.6469 - val_acc: 0.7008\n",
            "Epoch 41/250\n",
            "52/52 [==============================] - 0s 1ms/step - loss: 0.5784 - acc: 0.7296 - val_loss: 0.7613 - val_acc: 0.6890\n",
            "Epoch 42/250\n",
            "52/52 [==============================] - 0s 1ms/step - loss: 0.5805 - acc: 0.7101 - val_loss: 0.5901 - val_acc: 0.6929\n",
            "Epoch 43/250\n",
            "52/52 [==============================] - 0s 1ms/step - loss: 0.5525 - acc: 0.7237 - val_loss: 0.7348 - val_acc: 0.5787\n",
            "Epoch 44/250\n",
            "52/52 [==============================] - 0s 2ms/step - loss: 0.5999 - acc: 0.7043 - val_loss: 0.5905 - val_acc: 0.7126\n",
            "Epoch 45/250\n",
            "52/52 [==============================] - 0s 1ms/step - loss: 0.6250 - acc: 0.7082 - val_loss: 0.6357 - val_acc: 0.6614\n",
            "Epoch 46/250\n",
            "52/52 [==============================] - 0s 1ms/step - loss: 0.5302 - acc: 0.7374 - val_loss: 0.6058 - val_acc: 0.7047\n",
            "Epoch 47/250\n",
            "52/52 [==============================] - 0s 1ms/step - loss: 0.5652 - acc: 0.7160 - val_loss: 0.5853 - val_acc: 0.7126\n",
            "Epoch 48/250\n",
            "52/52 [==============================] - 0s 2ms/step - loss: 0.5471 - acc: 0.7237 - val_loss: 0.6080 - val_acc: 0.7165\n",
            "Epoch 49/250\n",
            "52/52 [==============================] - 0s 2ms/step - loss: 0.5234 - acc: 0.7510 - val_loss: 0.6184 - val_acc: 0.6732\n",
            "Epoch 50/250\n",
            "52/52 [==============================] - 0s 2ms/step - loss: 0.5716 - acc: 0.7082 - val_loss: 0.6440 - val_acc: 0.6811\n",
            "Epoch 51/250\n",
            "52/52 [==============================] - 0s 1ms/step - loss: 0.5408 - acc: 0.7374 - val_loss: 0.7021 - val_acc: 0.6811\n",
            "Epoch 52/250\n",
            "52/52 [==============================] - 0s 2ms/step - loss: 0.5197 - acc: 0.7432 - val_loss: 0.7258 - val_acc: 0.6969\n",
            "Epoch 53/250\n",
            "52/52 [==============================] - 0s 1ms/step - loss: 0.5657 - acc: 0.7082 - val_loss: 0.6106 - val_acc: 0.6890\n",
            "Epoch 54/250\n",
            "52/52 [==============================] - 0s 1ms/step - loss: 0.5362 - acc: 0.7374 - val_loss: 0.6662 - val_acc: 0.7087\n",
            "Epoch 55/250\n",
            "52/52 [==============================] - 0s 1ms/step - loss: 0.5257 - acc: 0.7412 - val_loss: 0.5943 - val_acc: 0.7126\n",
            "Epoch 56/250\n",
            "52/52 [==============================] - 0s 1ms/step - loss: 0.4980 - acc: 0.7588 - val_loss: 0.6350 - val_acc: 0.6654\n",
            "Epoch 57/250\n",
            "52/52 [==============================] - 0s 1ms/step - loss: 0.5481 - acc: 0.7237 - val_loss: 0.8246 - val_acc: 0.5630\n",
            "Epoch 58/250\n",
            "52/52 [==============================] - 0s 2ms/step - loss: 0.5585 - acc: 0.7218 - val_loss: 0.7309 - val_acc: 0.6732\n",
            "Epoch 59/250\n",
            "52/52 [==============================] - 0s 2ms/step - loss: 0.5453 - acc: 0.7432 - val_loss: 0.6908 - val_acc: 0.6457\n",
            "Epoch 60/250\n",
            "52/52 [==============================] - 0s 1ms/step - loss: 0.5109 - acc: 0.7490 - val_loss: 0.5945 - val_acc: 0.7047\n",
            "Epoch 61/250\n",
            "52/52 [==============================] - 0s 2ms/step - loss: 0.5371 - acc: 0.7257 - val_loss: 0.7781 - val_acc: 0.6339\n",
            "Epoch 62/250\n",
            "52/52 [==============================] - 0s 1ms/step - loss: 0.5950 - acc: 0.7218 - val_loss: 0.6266 - val_acc: 0.6693\n",
            "Epoch 63/250\n",
            "52/52 [==============================] - 0s 2ms/step - loss: 0.5186 - acc: 0.7432 - val_loss: 0.7447 - val_acc: 0.6811\n",
            "Epoch 64/250\n",
            "52/52 [==============================] - 0s 2ms/step - loss: 0.6024 - acc: 0.7179 - val_loss: 0.6104 - val_acc: 0.7008\n",
            "Epoch 65/250\n",
            "52/52 [==============================] - 0s 2ms/step - loss: 0.5105 - acc: 0.7471 - val_loss: 0.6074 - val_acc: 0.7126\n",
            "Epoch 66/250\n",
            "52/52 [==============================] - 0s 1ms/step - loss: 0.5287 - acc: 0.7374 - val_loss: 0.6298 - val_acc: 0.6929\n",
            "Epoch 67/250\n",
            "52/52 [==============================] - 0s 1ms/step - loss: 0.5641 - acc: 0.7082 - val_loss: 0.6383 - val_acc: 0.7126\n",
            "Epoch 68/250\n",
            "52/52 [==============================] - 0s 2ms/step - loss: 0.5235 - acc: 0.7471 - val_loss: 0.5957 - val_acc: 0.7126\n",
            "Epoch 69/250\n",
            "52/52 [==============================] - 0s 1ms/step - loss: 0.5104 - acc: 0.7335 - val_loss: 0.6035 - val_acc: 0.6969\n",
            "Epoch 70/250\n",
            "52/52 [==============================] - 0s 1ms/step - loss: 0.5348 - acc: 0.7510 - val_loss: 0.7332 - val_acc: 0.5945\n",
            "Epoch 71/250\n",
            "52/52 [==============================] - 0s 2ms/step - loss: 0.5629 - acc: 0.7257 - val_loss: 0.6003 - val_acc: 0.7008\n",
            "Epoch 72/250\n",
            "52/52 [==============================] - 0s 1ms/step - loss: 0.5079 - acc: 0.7588 - val_loss: 0.5934 - val_acc: 0.7205\n",
            "Epoch 73/250\n",
            "52/52 [==============================] - 0s 2ms/step - loss: 0.5325 - acc: 0.7276 - val_loss: 0.6269 - val_acc: 0.6654\n",
            "Epoch 74/250\n",
            "52/52 [==============================] - 0s 2ms/step - loss: 0.5484 - acc: 0.7432 - val_loss: 0.8433 - val_acc: 0.6339\n",
            "Epoch 75/250\n",
            "52/52 [==============================] - 0s 1ms/step - loss: 0.5707 - acc: 0.7082 - val_loss: 0.6672 - val_acc: 0.6260\n",
            "Epoch 76/250\n",
            "52/52 [==============================] - 0s 2ms/step - loss: 0.5135 - acc: 0.7335 - val_loss: 0.6407 - val_acc: 0.6850\n",
            "Epoch 77/250\n",
            "52/52 [==============================] - 0s 1ms/step - loss: 0.5242 - acc: 0.7412 - val_loss: 0.6052 - val_acc: 0.6890\n",
            "Epoch 78/250\n",
            "52/52 [==============================] - 0s 1ms/step - loss: 0.5012 - acc: 0.7626 - val_loss: 0.6185 - val_acc: 0.7126\n",
            "Epoch 79/250\n",
            "52/52 [==============================] - 0s 1ms/step - loss: 0.5179 - acc: 0.7451 - val_loss: 0.6722 - val_acc: 0.6220\n",
            "Epoch 80/250\n",
            "52/52 [==============================] - 0s 1ms/step - loss: 0.5350 - acc: 0.7607 - val_loss: 0.5879 - val_acc: 0.7047\n",
            "Epoch 81/250\n",
            "52/52 [==============================] - 0s 1ms/step - loss: 0.4975 - acc: 0.7490 - val_loss: 0.5724 - val_acc: 0.7323\n",
            "Epoch 82/250\n",
            "52/52 [==============================] - 0s 1ms/step - loss: 0.4925 - acc: 0.7568 - val_loss: 0.5767 - val_acc: 0.7362\n",
            "Epoch 83/250\n",
            "52/52 [==============================] - 0s 2ms/step - loss: 0.4928 - acc: 0.7568 - val_loss: 0.6489 - val_acc: 0.6850\n",
            "Epoch 84/250\n",
            "52/52 [==============================] - 0s 2ms/step - loss: 0.5224 - acc: 0.7568 - val_loss: 0.6266 - val_acc: 0.7126\n",
            "Epoch 85/250\n",
            "52/52 [==============================] - 0s 1ms/step - loss: 0.5306 - acc: 0.7257 - val_loss: 0.6890 - val_acc: 0.7047\n",
            "Epoch 86/250\n",
            "52/52 [==============================] - 0s 1ms/step - loss: 0.5462 - acc: 0.7315 - val_loss: 0.7358 - val_acc: 0.6063\n",
            "Epoch 87/250\n",
            "52/52 [==============================] - 0s 1ms/step - loss: 0.4896 - acc: 0.7646 - val_loss: 0.6791 - val_acc: 0.7008\n",
            "Epoch 88/250\n",
            "52/52 [==============================] - 0s 1ms/step - loss: 0.4992 - acc: 0.7471 - val_loss: 0.6491 - val_acc: 0.6496\n",
            "Epoch 89/250\n",
            "52/52 [==============================] - 0s 1ms/step - loss: 0.5116 - acc: 0.7529 - val_loss: 0.6146 - val_acc: 0.7047\n",
            "Epoch 90/250\n",
            "52/52 [==============================] - 0s 1ms/step - loss: 0.4961 - acc: 0.7510 - val_loss: 0.5676 - val_acc: 0.7205\n",
            "Epoch 91/250\n",
            "52/52 [==============================] - 0s 2ms/step - loss: 0.5039 - acc: 0.7393 - val_loss: 0.6414 - val_acc: 0.6693\n",
            "Epoch 92/250\n",
            "52/52 [==============================] - 0s 2ms/step - loss: 0.5340 - acc: 0.7179 - val_loss: 0.6868 - val_acc: 0.7008\n",
            "Epoch 93/250\n",
            "52/52 [==============================] - 0s 2ms/step - loss: 0.5239 - acc: 0.7549 - val_loss: 0.7501 - val_acc: 0.6339\n",
            "Epoch 94/250\n",
            "52/52 [==============================] - 0s 2ms/step - loss: 0.5070 - acc: 0.7432 - val_loss: 0.7104 - val_acc: 0.6575\n",
            "Epoch 95/250\n",
            "52/52 [==============================] - 0s 2ms/step - loss: 0.5125 - acc: 0.7588 - val_loss: 0.5787 - val_acc: 0.7165\n",
            "Epoch 96/250\n",
            "52/52 [==============================] - 0s 1ms/step - loss: 0.4716 - acc: 0.7763 - val_loss: 0.5804 - val_acc: 0.7087\n",
            "Epoch 97/250\n",
            "52/52 [==============================] - 0s 1ms/step - loss: 0.4826 - acc: 0.7821 - val_loss: 0.6300 - val_acc: 0.6654\n",
            "Epoch 98/250\n",
            "52/52 [==============================] - 0s 1ms/step - loss: 0.4790 - acc: 0.7918 - val_loss: 0.6301 - val_acc: 0.6850\n",
            "Epoch 99/250\n",
            "52/52 [==============================] - 0s 2ms/step - loss: 0.4717 - acc: 0.7724 - val_loss: 0.6420 - val_acc: 0.6811\n",
            "Epoch 100/250\n",
            "52/52 [==============================] - 0s 2ms/step - loss: 0.4976 - acc: 0.7471 - val_loss: 0.6059 - val_acc: 0.6850\n",
            "Epoch 101/250\n",
            "52/52 [==============================] - 0s 2ms/step - loss: 0.4818 - acc: 0.7685 - val_loss: 0.6237 - val_acc: 0.6850\n",
            "Epoch 102/250\n",
            "52/52 [==============================] - 0s 2ms/step - loss: 0.4869 - acc: 0.7646 - val_loss: 0.5610 - val_acc: 0.7126\n",
            "Epoch 103/250\n",
            "52/52 [==============================] - 0s 2ms/step - loss: 0.4724 - acc: 0.7568 - val_loss: 0.6645 - val_acc: 0.6654\n",
            "Epoch 104/250\n",
            "52/52 [==============================] - 0s 1ms/step - loss: 0.4987 - acc: 0.7529 - val_loss: 0.6295 - val_acc: 0.6929\n",
            "Epoch 105/250\n",
            "52/52 [==============================] - 0s 1ms/step - loss: 0.5006 - acc: 0.7665 - val_loss: 0.6972 - val_acc: 0.6181\n",
            "Epoch 106/250\n",
            "52/52 [==============================] - 0s 2ms/step - loss: 0.5033 - acc: 0.7588 - val_loss: 0.5667 - val_acc: 0.7283\n",
            "Epoch 107/250\n",
            "52/52 [==============================] - 0s 1ms/step - loss: 0.5031 - acc: 0.7529 - val_loss: 0.6011 - val_acc: 0.7283\n",
            "Epoch 108/250\n",
            "52/52 [==============================] - 0s 1ms/step - loss: 0.5249 - acc: 0.7568 - val_loss: 0.5856 - val_acc: 0.7165\n",
            "Epoch 109/250\n",
            "52/52 [==============================] - 0s 2ms/step - loss: 0.4613 - acc: 0.7607 - val_loss: 0.6212 - val_acc: 0.7126\n",
            "Epoch 110/250\n",
            "52/52 [==============================] - 0s 1ms/step - loss: 0.5742 - acc: 0.7374 - val_loss: 0.7294 - val_acc: 0.6378\n",
            "Epoch 111/250\n",
            "52/52 [==============================] - 0s 2ms/step - loss: 0.4889 - acc: 0.7685 - val_loss: 0.6940 - val_acc: 0.6181\n",
            "Epoch 112/250\n",
            "52/52 [==============================] - 0s 2ms/step - loss: 0.5033 - acc: 0.7471 - val_loss: 0.5834 - val_acc: 0.7165\n",
            "Epoch 113/250\n",
            "52/52 [==============================] - 0s 2ms/step - loss: 0.4645 - acc: 0.7938 - val_loss: 0.6751 - val_acc: 0.6890\n",
            "Epoch 114/250\n",
            "52/52 [==============================] - 0s 2ms/step - loss: 0.5333 - acc: 0.7549 - val_loss: 0.5827 - val_acc: 0.7244\n",
            "Epoch 115/250\n",
            "52/52 [==============================] - 0s 2ms/step - loss: 0.4827 - acc: 0.7646 - val_loss: 0.7229 - val_acc: 0.5906\n",
            "Epoch 116/250\n",
            "52/52 [==============================] - 0s 2ms/step - loss: 0.4946 - acc: 0.7743 - val_loss: 0.6502 - val_acc: 0.7087\n",
            "Epoch 117/250\n",
            "52/52 [==============================] - 0s 1ms/step - loss: 0.5010 - acc: 0.7529 - val_loss: 0.6284 - val_acc: 0.6969\n",
            "Epoch 118/250\n",
            "52/52 [==============================] - 0s 2ms/step - loss: 0.4844 - acc: 0.7724 - val_loss: 0.6192 - val_acc: 0.6850\n",
            "Epoch 119/250\n",
            "52/52 [==============================] - 0s 2ms/step - loss: 0.5187 - acc: 0.7393 - val_loss: 0.5971 - val_acc: 0.7087\n",
            "Epoch 120/250\n",
            "52/52 [==============================] - 0s 2ms/step - loss: 0.5315 - acc: 0.7412 - val_loss: 0.5908 - val_acc: 0.7165\n",
            "Epoch 121/250\n",
            "52/52 [==============================] - 0s 2ms/step - loss: 0.4672 - acc: 0.7763 - val_loss: 0.5617 - val_acc: 0.7520\n",
            "Epoch 122/250\n",
            "52/52 [==============================] - 0s 2ms/step - loss: 0.4669 - acc: 0.7665 - val_loss: 0.5765 - val_acc: 0.7047\n",
            "Epoch 123/250\n",
            "52/52 [==============================] - 0s 1ms/step - loss: 0.4748 - acc: 0.7860 - val_loss: 0.6551 - val_acc: 0.6693\n",
            "Epoch 124/250\n",
            "52/52 [==============================] - 0s 2ms/step - loss: 0.4757 - acc: 0.7743 - val_loss: 0.6474 - val_acc: 0.6969\n",
            "Epoch 125/250\n",
            "52/52 [==============================] - 0s 1ms/step - loss: 0.4986 - acc: 0.7782 - val_loss: 0.6130 - val_acc: 0.7087\n",
            "Epoch 126/250\n",
            "52/52 [==============================] - 0s 2ms/step - loss: 0.4859 - acc: 0.7471 - val_loss: 0.6832 - val_acc: 0.6457\n",
            "Epoch 127/250\n",
            "52/52 [==============================] - 0s 2ms/step - loss: 0.4981 - acc: 0.7724 - val_loss: 0.5377 - val_acc: 0.7323\n",
            "Epoch 128/250\n",
            "52/52 [==============================] - 0s 2ms/step - loss: 0.4645 - acc: 0.7918 - val_loss: 0.6430 - val_acc: 0.6654\n",
            "Epoch 129/250\n",
            "52/52 [==============================] - 0s 2ms/step - loss: 0.4804 - acc: 0.7549 - val_loss: 0.5700 - val_acc: 0.7047\n",
            "Epoch 130/250\n",
            "52/52 [==============================] - 0s 2ms/step - loss: 0.4796 - acc: 0.7665 - val_loss: 0.6041 - val_acc: 0.6811\n",
            "Epoch 131/250\n",
            "52/52 [==============================] - 0s 2ms/step - loss: 0.4788 - acc: 0.7626 - val_loss: 0.5701 - val_acc: 0.7205\n",
            "Epoch 132/250\n",
            "52/52 [==============================] - 0s 1ms/step - loss: 0.4760 - acc: 0.7646 - val_loss: 0.6496 - val_acc: 0.6929\n",
            "Epoch 133/250\n",
            "52/52 [==============================] - 0s 1ms/step - loss: 0.4934 - acc: 0.7568 - val_loss: 0.5744 - val_acc: 0.7165\n",
            "Epoch 134/250\n",
            "52/52 [==============================] - 0s 2ms/step - loss: 0.4541 - acc: 0.7763 - val_loss: 0.5706 - val_acc: 0.7165\n",
            "Epoch 135/250\n",
            "52/52 [==============================] - 0s 2ms/step - loss: 0.4513 - acc: 0.7918 - val_loss: 0.6311 - val_acc: 0.7087\n",
            "Epoch 136/250\n",
            "52/52 [==============================] - 0s 2ms/step - loss: 0.4895 - acc: 0.7588 - val_loss: 0.5806 - val_acc: 0.7205\n",
            "Epoch 137/250\n",
            "52/52 [==============================] - 0s 2ms/step - loss: 0.4366 - acc: 0.7996 - val_loss: 0.6254 - val_acc: 0.7047\n",
            "Epoch 138/250\n",
            "52/52 [==============================] - 0s 2ms/step - loss: 0.4693 - acc: 0.7763 - val_loss: 0.5747 - val_acc: 0.7087\n",
            "Epoch 139/250\n",
            "52/52 [==============================] - 0s 2ms/step - loss: 0.4524 - acc: 0.7802 - val_loss: 0.5994 - val_acc: 0.7244\n",
            "Epoch 140/250\n",
            "52/52 [==============================] - 0s 2ms/step - loss: 0.5096 - acc: 0.7685 - val_loss: 0.5489 - val_acc: 0.7402\n",
            "Epoch 141/250\n",
            "52/52 [==============================] - 0s 2ms/step - loss: 0.4674 - acc: 0.7588 - val_loss: 0.5598 - val_acc: 0.7283\n",
            "Epoch 142/250\n",
            "52/52 [==============================] - 0s 2ms/step - loss: 0.4634 - acc: 0.7802 - val_loss: 0.6225 - val_acc: 0.7008\n",
            "Epoch 143/250\n",
            "52/52 [==============================] - 0s 2ms/step - loss: 0.4670 - acc: 0.7704 - val_loss: 0.6860 - val_acc: 0.6378\n",
            "Epoch 144/250\n",
            "52/52 [==============================] - 0s 1ms/step - loss: 0.4580 - acc: 0.7743 - val_loss: 0.5744 - val_acc: 0.7087\n",
            "Epoch 145/250\n",
            "52/52 [==============================] - 0s 1ms/step - loss: 0.4506 - acc: 0.7782 - val_loss: 0.5739 - val_acc: 0.7087\n",
            "Epoch 146/250\n",
            "52/52 [==============================] - 0s 1ms/step - loss: 0.4629 - acc: 0.7743 - val_loss: 0.5766 - val_acc: 0.7244\n",
            "Epoch 147/250\n",
            "52/52 [==============================] - 0s 1ms/step - loss: 0.4791 - acc: 0.7782 - val_loss: 0.5958 - val_acc: 0.7047\n",
            "Epoch 148/250\n",
            "52/52 [==============================] - 0s 1ms/step - loss: 0.4898 - acc: 0.7607 - val_loss: 0.6668 - val_acc: 0.6496\n",
            "Epoch 149/250\n",
            "52/52 [==============================] - 0s 2ms/step - loss: 0.4679 - acc: 0.7743 - val_loss: 0.6292 - val_acc: 0.6929\n",
            "Epoch 150/250\n",
            "52/52 [==============================] - 0s 1ms/step - loss: 0.4420 - acc: 0.8016 - val_loss: 0.6652 - val_acc: 0.6496\n",
            "Epoch 151/250\n",
            "52/52 [==============================] - 0s 2ms/step - loss: 0.4597 - acc: 0.7763 - val_loss: 0.5896 - val_acc: 0.7362\n",
            "Epoch 152/250\n",
            "52/52 [==============================] - 0s 2ms/step - loss: 0.4366 - acc: 0.8035 - val_loss: 0.6623 - val_acc: 0.6969\n",
            "Epoch 153/250\n",
            "52/52 [==============================] - 0s 2ms/step - loss: 0.4932 - acc: 0.7471 - val_loss: 0.6061 - val_acc: 0.6969\n",
            "Epoch 154/250\n",
            "52/52 [==============================] - 0s 2ms/step - loss: 0.4354 - acc: 0.8113 - val_loss: 0.7039 - val_acc: 0.6181\n",
            "Epoch 155/250\n",
            "52/52 [==============================] - 0s 2ms/step - loss: 0.5159 - acc: 0.7432 - val_loss: 0.6689 - val_acc: 0.6772\n",
            "Epoch 156/250\n",
            "52/52 [==============================] - 0s 2ms/step - loss: 0.4740 - acc: 0.7646 - val_loss: 0.6031 - val_acc: 0.6969\n",
            "Epoch 157/250\n",
            "52/52 [==============================] - 0s 2ms/step - loss: 0.4386 - acc: 0.7957 - val_loss: 0.5614 - val_acc: 0.7323\n",
            "Epoch 158/250\n",
            "52/52 [==============================] - 0s 2ms/step - loss: 0.4478 - acc: 0.7665 - val_loss: 0.5775 - val_acc: 0.7323\n",
            "Epoch 159/250\n",
            "52/52 [==============================] - 0s 2ms/step - loss: 0.4312 - acc: 0.7977 - val_loss: 0.5716 - val_acc: 0.7165\n",
            "Epoch 160/250\n",
            "52/52 [==============================] - 0s 2ms/step - loss: 0.4605 - acc: 0.7860 - val_loss: 0.6775 - val_acc: 0.7126\n",
            "Epoch 161/250\n",
            "52/52 [==============================] - 0s 2ms/step - loss: 0.4973 - acc: 0.7510 - val_loss: 0.5603 - val_acc: 0.7165\n",
            "Epoch 162/250\n",
            "52/52 [==============================] - 0s 2ms/step - loss: 0.4509 - acc: 0.7802 - val_loss: 0.6335 - val_acc: 0.7126\n",
            "Epoch 163/250\n",
            "52/52 [==============================] - 0s 2ms/step - loss: 0.4493 - acc: 0.7996 - val_loss: 0.6559 - val_acc: 0.6732\n",
            "Epoch 164/250\n",
            "52/52 [==============================] - 0s 2ms/step - loss: 0.4509 - acc: 0.7704 - val_loss: 0.5993 - val_acc: 0.7008\n",
            "Epoch 165/250\n",
            "52/52 [==============================] - 0s 2ms/step - loss: 0.4391 - acc: 0.7821 - val_loss: 0.5979 - val_acc: 0.7165\n",
            "Epoch 166/250\n",
            "52/52 [==============================] - 0s 2ms/step - loss: 0.4502 - acc: 0.7879 - val_loss: 0.6273 - val_acc: 0.6575\n",
            "Epoch 167/250\n",
            "52/52 [==============================] - 0s 2ms/step - loss: 0.4281 - acc: 0.7918 - val_loss: 0.6152 - val_acc: 0.6929\n",
            "Epoch 168/250\n",
            "52/52 [==============================] - 0s 2ms/step - loss: 0.4381 - acc: 0.7879 - val_loss: 0.5663 - val_acc: 0.7362\n",
            "Epoch 169/250\n",
            "52/52 [==============================] - 0s 2ms/step - loss: 0.4368 - acc: 0.7938 - val_loss: 0.5727 - val_acc: 0.7165\n",
            "Epoch 170/250\n",
            "52/52 [==============================] - 0s 2ms/step - loss: 0.4833 - acc: 0.7724 - val_loss: 0.6597 - val_acc: 0.7126\n",
            "Epoch 171/250\n",
            "52/52 [==============================] - 0s 2ms/step - loss: 0.4487 - acc: 0.7899 - val_loss: 0.6394 - val_acc: 0.7402\n",
            "Epoch 172/250\n",
            "52/52 [==============================] - 0s 2ms/step - loss: 0.4489 - acc: 0.7938 - val_loss: 0.5919 - val_acc: 0.7283\n",
            "Epoch 173/250\n",
            "52/52 [==============================] - 0s 2ms/step - loss: 0.4521 - acc: 0.7918 - val_loss: 0.5710 - val_acc: 0.7205\n",
            "Epoch 174/250\n",
            "52/52 [==============================] - 0s 2ms/step - loss: 0.4772 - acc: 0.7821 - val_loss: 0.6091 - val_acc: 0.7087\n",
            "Epoch 175/250\n",
            "52/52 [==============================] - 0s 2ms/step - loss: 0.4359 - acc: 0.7938 - val_loss: 0.5732 - val_acc: 0.7244\n",
            "Epoch 176/250\n",
            "52/52 [==============================] - 0s 2ms/step - loss: 0.4618 - acc: 0.7802 - val_loss: 0.5739 - val_acc: 0.7126\n",
            "Epoch 177/250\n",
            "52/52 [==============================] - 0s 1ms/step - loss: 0.4515 - acc: 0.7840 - val_loss: 0.6106 - val_acc: 0.7008\n",
            "Epoch 178/250\n",
            "52/52 [==============================] - 0s 1ms/step - loss: 0.4441 - acc: 0.7743 - val_loss: 0.6576 - val_acc: 0.7126\n",
            "Epoch 179/250\n",
            "52/52 [==============================] - 0s 1ms/step - loss: 0.4803 - acc: 0.7724 - val_loss: 0.6029 - val_acc: 0.6890\n",
            "Epoch 180/250\n",
            "52/52 [==============================] - 0s 2ms/step - loss: 0.4383 - acc: 0.7840 - val_loss: 0.5878 - val_acc: 0.7165\n",
            "Epoch 181/250\n",
            "52/52 [==============================] - 0s 1ms/step - loss: 0.4282 - acc: 0.7977 - val_loss: 0.6238 - val_acc: 0.6929\n",
            "Epoch 182/250\n",
            "52/52 [==============================] - 0s 2ms/step - loss: 0.4413 - acc: 0.7899 - val_loss: 0.6423 - val_acc: 0.7047\n",
            "Epoch 183/250\n",
            "52/52 [==============================] - 0s 1ms/step - loss: 0.4629 - acc: 0.7763 - val_loss: 0.6342 - val_acc: 0.7323\n",
            "Epoch 184/250\n",
            "52/52 [==============================] - 0s 2ms/step - loss: 0.4372 - acc: 0.8035 - val_loss: 0.6110 - val_acc: 0.6929\n",
            "Epoch 185/250\n",
            "52/52 [==============================] - 0s 1ms/step - loss: 0.4157 - acc: 0.7918 - val_loss: 0.6432 - val_acc: 0.6890\n",
            "Epoch 186/250\n",
            "52/52 [==============================] - 0s 1ms/step - loss: 0.4424 - acc: 0.7802 - val_loss: 0.6261 - val_acc: 0.7087\n",
            "Epoch 187/250\n",
            "52/52 [==============================] - 0s 2ms/step - loss: 0.4851 - acc: 0.7588 - val_loss: 0.5855 - val_acc: 0.7047\n",
            "Epoch 188/250\n",
            "52/52 [==============================] - 0s 2ms/step - loss: 0.4332 - acc: 0.7957 - val_loss: 0.6098 - val_acc: 0.7047\n",
            "Epoch 189/250\n",
            "52/52 [==============================] - 0s 2ms/step - loss: 0.4386 - acc: 0.7879 - val_loss: 0.6387 - val_acc: 0.7362\n",
            "Epoch 190/250\n",
            "52/52 [==============================] - 0s 2ms/step - loss: 0.4585 - acc: 0.7724 - val_loss: 0.6282 - val_acc: 0.6969\n",
            "Epoch 191/250\n",
            "52/52 [==============================] - 0s 2ms/step - loss: 0.4327 - acc: 0.7840 - val_loss: 0.5631 - val_acc: 0.7402\n",
            "Epoch 192/250\n",
            "52/52 [==============================] - 0s 2ms/step - loss: 0.4381 - acc: 0.7782 - val_loss: 0.6177 - val_acc: 0.7205\n",
            "Epoch 193/250\n",
            "52/52 [==============================] - 0s 2ms/step - loss: 0.4294 - acc: 0.7957 - val_loss: 0.6022 - val_acc: 0.7126\n",
            "Epoch 194/250\n",
            "52/52 [==============================] - 0s 2ms/step - loss: 0.4301 - acc: 0.7821 - val_loss: 0.5601 - val_acc: 0.7362\n",
            "Epoch 195/250\n",
            "52/52 [==============================] - 0s 2ms/step - loss: 0.4943 - acc: 0.7588 - val_loss: 0.7694 - val_acc: 0.5945\n",
            "Epoch 196/250\n",
            "52/52 [==============================] - 0s 2ms/step - loss: 0.4385 - acc: 0.7938 - val_loss: 0.5988 - val_acc: 0.7087\n",
            "Epoch 197/250\n",
            "52/52 [==============================] - 0s 2ms/step - loss: 0.4617 - acc: 0.7840 - val_loss: 0.6670 - val_acc: 0.7323\n",
            "Epoch 198/250\n",
            "52/52 [==============================] - 0s 2ms/step - loss: 0.5097 - acc: 0.7529 - val_loss: 0.6658 - val_acc: 0.6850\n",
            "Epoch 199/250\n",
            "52/52 [==============================] - 0s 1ms/step - loss: 0.4251 - acc: 0.8093 - val_loss: 0.5781 - val_acc: 0.7520\n",
            "Epoch 200/250\n",
            "52/52 [==============================] - 0s 2ms/step - loss: 0.4303 - acc: 0.7899 - val_loss: 0.6003 - val_acc: 0.7205\n",
            "Epoch 201/250\n",
            "52/52 [==============================] - 0s 2ms/step - loss: 0.4301 - acc: 0.7996 - val_loss: 0.6054 - val_acc: 0.7165\n",
            "Epoch 202/250\n",
            "52/52 [==============================] - 0s 2ms/step - loss: 0.4495 - acc: 0.7802 - val_loss: 0.6535 - val_acc: 0.6969\n",
            "Epoch 203/250\n",
            "52/52 [==============================] - 0s 2ms/step - loss: 0.4494 - acc: 0.7918 - val_loss: 0.5859 - val_acc: 0.7165\n",
            "Epoch 204/250\n",
            "52/52 [==============================] - 0s 2ms/step - loss: 0.4258 - acc: 0.7879 - val_loss: 0.5989 - val_acc: 0.6969\n",
            "Epoch 205/250\n",
            "52/52 [==============================] - 0s 2ms/step - loss: 0.4282 - acc: 0.7918 - val_loss: 0.5608 - val_acc: 0.7480\n",
            "Epoch 206/250\n",
            "52/52 [==============================] - 0s 2ms/step - loss: 0.4411 - acc: 0.7782 - val_loss: 0.5947 - val_acc: 0.7323\n",
            "Epoch 207/250\n",
            "52/52 [==============================] - 0s 2ms/step - loss: 0.4733 - acc: 0.7510 - val_loss: 0.5785 - val_acc: 0.7126\n",
            "Epoch 208/250\n",
            "52/52 [==============================] - 0s 2ms/step - loss: 0.4174 - acc: 0.7977 - val_loss: 0.5776 - val_acc: 0.7244\n",
            "Epoch 209/250\n",
            "52/52 [==============================] - 0s 2ms/step - loss: 0.4260 - acc: 0.7860 - val_loss: 0.6028 - val_acc: 0.7047\n",
            "Epoch 210/250\n",
            "52/52 [==============================] - 0s 2ms/step - loss: 0.4096 - acc: 0.8113 - val_loss: 0.6067 - val_acc: 0.7047\n",
            "Epoch 211/250\n",
            "52/52 [==============================] - 0s 2ms/step - loss: 0.4127 - acc: 0.8016 - val_loss: 0.5994 - val_acc: 0.7205\n",
            "Epoch 212/250\n",
            "52/52 [==============================] - 0s 2ms/step - loss: 0.4386 - acc: 0.7821 - val_loss: 0.7089 - val_acc: 0.6260\n",
            "Epoch 213/250\n",
            "52/52 [==============================] - 0s 2ms/step - loss: 0.4365 - acc: 0.7840 - val_loss: 0.6061 - val_acc: 0.7323\n",
            "Epoch 214/250\n",
            "52/52 [==============================] - 0s 1ms/step - loss: 0.4343 - acc: 0.7860 - val_loss: 0.5876 - val_acc: 0.7087\n",
            "Epoch 215/250\n",
            "52/52 [==============================] - 0s 2ms/step - loss: 0.4208 - acc: 0.8016 - val_loss: 0.6006 - val_acc: 0.7165\n",
            "Epoch 216/250\n",
            "52/52 [==============================] - 0s 2ms/step - loss: 0.4163 - acc: 0.7938 - val_loss: 0.6174 - val_acc: 0.7087\n",
            "Epoch 217/250\n",
            "52/52 [==============================] - 0s 2ms/step - loss: 0.4387 - acc: 0.7860 - val_loss: 0.6557 - val_acc: 0.6732\n",
            "Epoch 218/250\n",
            "52/52 [==============================] - 0s 2ms/step - loss: 0.4339 - acc: 0.7860 - val_loss: 0.6453 - val_acc: 0.7362\n",
            "Epoch 219/250\n",
            "52/52 [==============================] - 0s 2ms/step - loss: 0.4577 - acc: 0.7646 - val_loss: 0.7120 - val_acc: 0.6929\n",
            "Epoch 220/250\n",
            "52/52 [==============================] - 0s 2ms/step - loss: 0.4302 - acc: 0.7899 - val_loss: 0.6123 - val_acc: 0.7126\n",
            "Epoch 221/250\n",
            "52/52 [==============================] - 0s 1ms/step - loss: 0.4414 - acc: 0.8113 - val_loss: 0.6871 - val_acc: 0.6890\n",
            "Epoch 222/250\n",
            "52/52 [==============================] - 0s 2ms/step - loss: 0.4348 - acc: 0.7840 - val_loss: 0.5954 - val_acc: 0.7165\n",
            "Epoch 223/250\n",
            "52/52 [==============================] - 0s 2ms/step - loss: 0.4214 - acc: 0.8093 - val_loss: 0.6107 - val_acc: 0.7323\n",
            "Epoch 224/250\n",
            "52/52 [==============================] - 0s 2ms/step - loss: 0.4089 - acc: 0.7957 - val_loss: 0.6018 - val_acc: 0.6929\n",
            "Epoch 225/250\n",
            "52/52 [==============================] - 0s 2ms/step - loss: 0.4192 - acc: 0.8054 - val_loss: 0.6403 - val_acc: 0.6969\n",
            "Epoch 226/250\n",
            "52/52 [==============================] - 0s 2ms/step - loss: 0.4174 - acc: 0.8054 - val_loss: 0.5874 - val_acc: 0.7126\n",
            "Epoch 227/250\n",
            "52/52 [==============================] - 0s 2ms/step - loss: 0.4556 - acc: 0.7763 - val_loss: 0.6522 - val_acc: 0.6929\n",
            "Epoch 228/250\n",
            "52/52 [==============================] - 0s 2ms/step - loss: 0.4457 - acc: 0.7918 - val_loss: 0.6011 - val_acc: 0.7244\n",
            "Epoch 229/250\n",
            "52/52 [==============================] - 0s 2ms/step - loss: 0.4086 - acc: 0.8093 - val_loss: 0.6056 - val_acc: 0.7126\n",
            "Epoch 230/250\n",
            "52/52 [==============================] - 0s 2ms/step - loss: 0.4065 - acc: 0.8113 - val_loss: 0.6369 - val_acc: 0.7008\n",
            "Epoch 231/250\n",
            "52/52 [==============================] - 0s 2ms/step - loss: 0.4171 - acc: 0.8016 - val_loss: 0.6126 - val_acc: 0.7205\n",
            "Epoch 232/250\n",
            "52/52 [==============================] - 0s 2ms/step - loss: 0.4131 - acc: 0.7996 - val_loss: 0.6311 - val_acc: 0.7165\n",
            "Epoch 233/250\n",
            "52/52 [==============================] - 0s 2ms/step - loss: 0.4174 - acc: 0.8035 - val_loss: 0.5789 - val_acc: 0.7126\n",
            "Epoch 234/250\n",
            "52/52 [==============================] - 0s 2ms/step - loss: 0.4070 - acc: 0.7938 - val_loss: 0.6194 - val_acc: 0.7087\n",
            "Epoch 235/250\n",
            "52/52 [==============================] - 0s 2ms/step - loss: 0.4085 - acc: 0.8093 - val_loss: 0.7377 - val_acc: 0.6339\n",
            "Epoch 236/250\n",
            "52/52 [==============================] - 0s 1ms/step - loss: 0.4181 - acc: 0.7918 - val_loss: 0.6884 - val_acc: 0.6772\n",
            "Epoch 237/250\n",
            "52/52 [==============================] - 0s 2ms/step - loss: 0.4090 - acc: 0.8113 - val_loss: 0.5937 - val_acc: 0.6929\n",
            "Epoch 238/250\n",
            "52/52 [==============================] - 0s 2ms/step - loss: 0.4111 - acc: 0.8074 - val_loss: 0.6215 - val_acc: 0.7126\n",
            "Epoch 239/250\n",
            "52/52 [==============================] - 0s 2ms/step - loss: 0.4218 - acc: 0.7782 - val_loss: 0.6622 - val_acc: 0.7047\n",
            "Epoch 240/250\n",
            "52/52 [==============================] - 0s 2ms/step - loss: 0.4562 - acc: 0.7840 - val_loss: 0.6007 - val_acc: 0.6929\n",
            "Epoch 241/250\n",
            "52/52 [==============================] - 0s 1ms/step - loss: 0.4299 - acc: 0.8035 - val_loss: 0.6222 - val_acc: 0.7205\n",
            "Epoch 242/250\n",
            "52/52 [==============================] - 0s 2ms/step - loss: 0.4459 - acc: 0.7879 - val_loss: 0.7523 - val_acc: 0.6575\n",
            "Epoch 243/250\n",
            "52/52 [==============================] - 0s 2ms/step - loss: 0.4771 - acc: 0.7743 - val_loss: 0.5478 - val_acc: 0.7520\n",
            "Epoch 244/250\n",
            "52/52 [==============================] - 0s 2ms/step - loss: 0.4423 - acc: 0.8035 - val_loss: 0.5602 - val_acc: 0.7283\n",
            "Epoch 245/250\n",
            "52/52 [==============================] - 0s 2ms/step - loss: 0.4338 - acc: 0.7899 - val_loss: 0.5514 - val_acc: 0.7441\n",
            "Epoch 246/250\n",
            "52/52 [==============================] - 0s 2ms/step - loss: 0.4389 - acc: 0.7899 - val_loss: 0.6782 - val_acc: 0.6575\n",
            "Epoch 247/250\n",
            "52/52 [==============================] - 0s 2ms/step - loss: 0.4212 - acc: 0.8230 - val_loss: 0.5562 - val_acc: 0.7402\n",
            "Epoch 248/250\n",
            "52/52 [==============================] - 0s 2ms/step - loss: 0.4280 - acc: 0.7996 - val_loss: 0.5742 - val_acc: 0.7205\n",
            "Epoch 249/250\n",
            "52/52 [==============================] - 0s 2ms/step - loss: 0.4133 - acc: 0.7879 - val_loss: 0.5590 - val_acc: 0.7126\n",
            "Epoch 250/250\n",
            "52/52 [==============================] - 0s 2ms/step - loss: 0.4052 - acc: 0.8035 - val_loss: 0.5827 - val_acc: 0.7480\n"
          ],
          "name": "stdout"
        }
      ]
    },
    {
      "cell_type": "code",
      "metadata": {
        "colab": {
          "base_uri": "https://localhost:8080/"
        },
        "id": "spxXtHe3G5I5",
        "outputId": "deae6968-cc91-4fe9-f199-65e279048293"
      },
      "source": [
        "# evaluate the model\n",
        "scores = model.evaluate(X, Y)\n",
        "print(\"%s: %.2f%%\" % (model.metrics_names[1], scores[1]*100))"
      ],
      "execution_count": null,
      "outputs": [
        {
          "output_type": "stream",
          "text": [
            "24/24 [==============================] - 0s 1ms/step - loss: 0.4837 - acc: 0.7812\n",
            "acc: 78.12%\n"
          ],
          "name": "stdout"
        }
      ]
    },
    {
      "cell_type": "code",
      "metadata": {
        "colab": {
          "base_uri": "https://localhost:8080/"
        },
        "id": "Sn1MD348G5I6",
        "outputId": "2e4aa1f7-fe8a-4f04-d540-7c6e57e79879"
      },
      "source": [
        "# Visualize training history\n",
        "\n",
        "# list all data in history\n",
        "history.history.keys()\n"
      ],
      "execution_count": null,
      "outputs": [
        {
          "output_type": "execute_result",
          "data": {
            "text/plain": [
              "dict_keys(['loss', 'acc', 'val_loss', 'val_acc'])"
            ]
          },
          "metadata": {
            "tags": []
          },
          "execution_count": 9
        }
      ]
    },
    {
      "cell_type": "code",
      "metadata": {
        "colab": {
          "base_uri": "https://localhost:8080/",
          "height": 573
        },
        "id": "KskOA4z_G5I7",
        "outputId": "a490c80f-02ba-4bd5-ee3c-c9d434c2d64b"
      },
      "source": [
        "# summarize history for accuracy\n",
        "import matplotlib.pyplot as plt\n",
        "%matplotlib inline\n",
        "plt.plot(history.history['acc'])\n",
        "plt.plot(history.history['val_acc'])\n",
        "plt.title('model accuracy')\n",
        "plt.ylabel('accuracy')\n",
        "plt.xlabel('epoch')\n",
        "plt.legend(['train', 'test'], loc='upper left')\n",
        "plt.show()\n",
        "# summarize history for loss\n",
        "plt.plot(history.history['loss'])\n",
        "plt.plot(history.history['val_loss'])\n",
        "plt.title('model loss')\n",
        "plt.ylabel('loss')\n",
        "plt.xlabel('epoch')\n",
        "plt.legend(['train', 'test'], loc='upper left')\n",
        "plt.show()\n"
      ],
      "execution_count": null,
      "outputs": [
        {
          "output_type": "display_data",
          "data": {
            "image/png": "[encoded data removed]",
            "text/plain": [
              "<Figure size 432x288 with 1 Axes>"
            ]
          },
          "metadata": {
            "tags": [],
            "needs_background": "light"
          }
        },
        {
          "output_type": "display_data",
          "data": {
            "image/png": "[encoded data removed]",
            "text/plain": [
              "<Figure size 432x288 with 1 Axes>"
            ]
          },
          "metadata": {
            "tags": [],
            "needs_background": "light"
          }
        }
      ]
    },
    {
      "cell_type": "code",
      "metadata": {
        "id": "SIZ_rZHCG5I7"
      },
      "source": [
        ""
      ],
      "execution_count": null,
      "outputs": []
    }
  ]
}