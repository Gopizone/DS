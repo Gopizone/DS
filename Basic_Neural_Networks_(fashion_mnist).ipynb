{
  "nbformat": 4,
  "nbformat_minor": 0,
  "metadata": {
    "kernelspec": {
      "display_name": "gpudl",
      "language": "python",
      "name": "gpudl"
    },
    "language_info": {
      "codemirror_mode": {
        "name": "ipython",
        "version": 3
      },
      "file_extension": ".py",
      "mimetype": "text/x-python",
      "name": "python",
      "nbconvert_exporter": "python",
      "pygments_lexer": "ipython3",
      "version": "3.7.9"
    },
    "colab": {
      "name": "Basic Neural Networks (fashion_mnist).ipynb",
      "provenance": [],
      "include_colab_link": true
    }
  },
  "cells": [
    {
      "cell_type": "markdown",
      "metadata": {
        "id": "view-in-github",
        "colab_type": "text"
      },
      "source": [
        "<a href=\"https://colab.research.google.com/github/Gopizone/DataScience/blob/main/Basic_Neural_Networks_(fashion_mnist).ipynb\" target=\"_parent\"><img src=\"https://colab.research.google.com/assets/colab-badge.svg\" alt=\"Open In Colab\"/></a>"
      ]
    },
    {
      "cell_type": "code",
      "metadata": {
        "colab": {
          "base_uri": "https://localhost:8080/"
        },
        "id": "nYwc41cpg4f_",
        "outputId": "822e206f-7fc4-4f67-e1fa-a323947fd334"
      },
      "source": [
        "import tensorflow as tf\n",
        "from tensorflow import keras\n",
        "\n",
        "\n",
        "(x_train,y_train),(x_val,y_val) = keras.datasets.fashion_mnist.load_data()"
      ],
      "execution_count": 1,
      "outputs": [
        {
          "output_type": "stream",
          "text": [
            "Downloading data from https://storage.googleapis.com/tensorflow/tf-keras-datasets/train-labels-idx1-ubyte.gz\n",
            "32768/29515 [=================================] - 0s 0us/step\n",
            "Downloading data from https://storage.googleapis.com/tensorflow/tf-keras-datasets/train-images-idx3-ubyte.gz\n",
            "26427392/26421880 [==============================] - 0s 0us/step\n",
            "Downloading data from https://storage.googleapis.com/tensorflow/tf-keras-datasets/t10k-labels-idx1-ubyte.gz\n",
            "8192/5148 [===============================================] - 0s 0us/step\n",
            "Downloading data from https://storage.googleapis.com/tensorflow/tf-keras-datasets/t10k-images-idx3-ubyte.gz\n",
            "4423680/4422102 [==============================] - 0s 0us/step\n"
          ],
          "name": "stdout"
        }
      ]
    },
    {
      "cell_type": "code",
      "metadata": {
        "id": "X6tSqR88g4gC"
      },
      "source": [
        "def preprocess(x, y):\n",
        "    x = tf.cast(x, tf.float32) / 255.0\n",
        "    y = tf.cast(y, tf.int64)\n",
        "    return x, y\n",
        "\n",
        "def create_dataset(xs, ys, n_classes=10):\n",
        "    ys = tf.one_hot(ys, depth=n_classes)\n",
        "    return tf.data.Dataset.from_tensor_slices((xs, ys)).map(preprocess).shuffle(len(ys)).batch(128)"
      ],
      "execution_count": 2,
      "outputs": []
    },
    {
      "cell_type": "code",
      "metadata": {
        "id": "tuoSw-gSg4gD"
      },
      "source": [
        "train_data_set = create_dataset(x_train,y_train)\n",
        "validation_data_set = create_dataset(x_val,y_val)"
      ],
      "execution_count": 3,
      "outputs": []
    },
    {
      "cell_type": "code",
      "metadata": {
        "id": "FGIXCZ0Ig4gE"
      },
      "source": [
        "model = keras.Sequential([\n",
        "    keras.layers.Reshape(target_shape=(28 * 28,), input_shape=(28, 28)),\n",
        "    keras.layers.Dense(units=256, activation='relu'),\n",
        "    keras.layers.Dense(units=192, activation='relu'),\n",
        "    keras.layers.Dense(units=128, activation='relu'),\n",
        "    keras.layers.Dense(units=10, activation='softmax')\n",
        "])"
      ],
      "execution_count": 4,
      "outputs": []
    },
    {
      "cell_type": "code",
      "metadata": {
        "colab": {
          "base_uri": "https://localhost:8080/"
        },
        "id": "qbgCksFeg4gF",
        "outputId": "86193d79-0381-450b-b231-dbcf0f0e3ddc"
      },
      "source": [
        "model.compile(optimizer='adam', \n",
        "              loss=tf.losses.CategoricalCrossentropy(from_logits=True),\n",
        "              metrics=['accuracy'])\n",
        "\n",
        "\n",
        "\n",
        "history = model.fit(\n",
        "    train_data_set.repeat(), \n",
        "    epochs=10, \n",
        "    steps_per_epoch=500,\n",
        "    validation_data=validation_data_set.repeat(), \n",
        "    validation_steps=2\n",
        ")"
      ],
      "execution_count": 5,
      "outputs": [
        {
          "output_type": "stream",
          "text": [
            "Epoch 1/10\n",
            "500/500 [==============================] - 8s 10ms/step - loss: 0.6591 - accuracy: 0.7737 - val_loss: 0.4543 - val_accuracy: 0.8398\n",
            "Epoch 2/10\n",
            "500/500 [==============================] - 5s 9ms/step - loss: 0.3643 - accuracy: 0.8660 - val_loss: 0.3802 - val_accuracy: 0.8555\n",
            "Epoch 3/10\n",
            "500/500 [==============================] - 5s 9ms/step - loss: 0.3207 - accuracy: 0.8812 - val_loss: 0.2984 - val_accuracy: 0.8945\n",
            "Epoch 4/10\n",
            "500/500 [==============================] - 5s 9ms/step - loss: 0.2937 - accuracy: 0.8911 - val_loss: 0.4504 - val_accuracy: 0.8203\n",
            "Epoch 5/10\n",
            "500/500 [==============================] - 5s 9ms/step - loss: 0.2828 - accuracy: 0.8930 - val_loss: 0.4301 - val_accuracy: 0.8438\n",
            "Epoch 6/10\n",
            "500/500 [==============================] - 5s 10ms/step - loss: 0.2697 - accuracy: 0.9007 - val_loss: 0.3876 - val_accuracy: 0.8516\n",
            "Epoch 7/10\n",
            "500/500 [==============================] - 5s 9ms/step - loss: 0.2560 - accuracy: 0.9032 - val_loss: 0.3192 - val_accuracy: 0.8906\n",
            "Epoch 8/10\n",
            "500/500 [==============================] - 5s 9ms/step - loss: 0.2489 - accuracy: 0.9075 - val_loss: 0.3076 - val_accuracy: 0.8750\n",
            "Epoch 9/10\n",
            "500/500 [==============================] - 5s 9ms/step - loss: 0.2281 - accuracy: 0.9145 - val_loss: 0.3115 - val_accuracy: 0.8828\n",
            "Epoch 10/10\n",
            "500/500 [==============================] - 5s 9ms/step - loss: 0.2185 - accuracy: 0.9163 - val_loss: 0.3439 - val_accuracy: 0.8711\n"
          ],
          "name": "stdout"
        }
      ]
    },
    {
      "cell_type": "code",
      "metadata": {
        "id": "Gn5OxK_Pg4gH"
      },
      "source": [
        "predicted_value = model.predict(validation_data_set)"
      ],
      "execution_count": 6,
      "outputs": []
    },
    {
      "cell_type": "code",
      "metadata": {
        "colab": {
          "base_uri": "https://localhost:8080/"
        },
        "id": "EE4_lE7Hg4gH",
        "outputId": "866e49cd-6285-45df-a37b-ac8362bc9949"
      },
      "source": [
        "print (predicted_value[0])"
      ],
      "execution_count": 7,
      "outputs": [
        {
          "output_type": "stream",
          "text": [
            "[4.3216350e-08 2.0512708e-08 2.7897747e-07 3.2691628e-07 2.7888422e-08\n",
            " 3.0404012e-04 9.0259618e-08 9.9957627e-01 6.5671935e-09 1.1884590e-04]\n"
          ],
          "name": "stdout"
        }
      ]
    },
    {
      "cell_type": "code",
      "metadata": {
        "colab": {
          "base_uri": "https://localhost:8080/"
        },
        "id": "qmsMZR6dg4gI",
        "outputId": "0fca833b-77f9-45a0-ae4c-4422c217de34"
      },
      "source": [
        "import numpy as np\n",
        "np.argmax(predicted_value[0])"
      ],
      "execution_count": 8,
      "outputs": [
        {
          "output_type": "execute_result",
          "data": {
            "text/plain": [
              "7"
            ]
          },
          "metadata": {
            "tags": []
          },
          "execution_count": 8
        }
      ]
    },
    {
      "cell_type": "markdown",
      "metadata": {
        "id": "nPVKo3icmq6V"
      },
      "source": [
        "The First Record in the Dataset is Sneaker"
      ]
    },
    {
      "cell_type": "markdown",
      "metadata": {
        "id": "KXTQ3raImiKn"
      },
      "source": [
        "![image.png](data:image/png;base64,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)"
      ]
    }
  ]
}