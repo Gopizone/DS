{
  "nbformat": 4,
  "nbformat_minor": 0,
  "metadata": {
    "colab": {
      "name": "DBSCAN(InsuranceDataset).ipynb",
      "provenance": [],
      "collapsed_sections": [],
      "authorship_tag": "ABX9TyOj27s1kBVqtRA/k+sUYKzi",
      "include_colab_link": true
    },
    "kernelspec": {
      "name": "python3",
      "display_name": "Python 3"
    }
  },
  "cells": [
    {
      "cell_type": "markdown",
      "metadata": {
        "id": "view-in-github",
        "colab_type": "text"
      },
      "source": [
        "<a href=\"https://colab.research.google.com/github/Gopizone/DS/blob/main/DBSCAN(InsuranceDataset).ipynb\" target=\"_parent\"><img src=\"https://colab.research.google.com/assets/colab-badge.svg\" alt=\"Open In Colab\"/></a>"
      ]
    },
    {
      "cell_type": "code",
      "metadata": {
        "colab": {
          "resources": {
            "http://localhost:8080/nbextensions/google.colab/files.js": {
              "data": "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",
              "ok": true,
              "headers": [
                [
                  "content-type",
                  "application/javascript"
                ]
              ],
              "status": 200,
              "status_text": ""
            }
          },
          "base_uri": "https://localhost:8080/",
          "height": 73
        },
        "id": "Buk14I5JJZX5",
        "outputId": "7c3dadef-0c18-4ef2-cd86-1148d8f652c8"
      },
      "source": [
        "from google.colab import files\r\n",
        "files=files.upload()"
      ],
      "execution_count": 1,
      "outputs": [
        {
          "output_type": "display_data",
          "data": {
            "text/html": [
              "\n",
              "     <input type=\"file\" id=\"files-d9f0598a-4a42-4256-809e-9a485806bfa1\" name=\"files[]\" multiple disabled\n",
              "        style=\"border:none\" />\n",
              "     <output id=\"result-d9f0598a-4a42-4256-809e-9a485806bfa1\">\n",
              "      Upload widget is only available when the cell has been executed in the\n",
              "      current browser session. Please rerun this cell to enable.\n",
              "      </output>\n",
              "      <script src=\"/nbextensions/google.colab/files.js\"></script> "
            ],
            "text/plain": [
              "<IPython.core.display.HTML object>"
            ]
          },
          "metadata": {
            "tags": []
          }
        },
        {
          "output_type": "stream",
          "text": [
            "Saving InsuranceDataset.csv to InsuranceDataset.csv\n"
          ],
          "name": "stdout"
        }
      ]
    },
    {
      "cell_type": "code",
      "metadata": {
        "id": "gqhBXJ-oH--q"
      },
      "source": [
        "#Import the libraries\n",
        "from sklearn.cluster import DBSCAN\n",
        "from sklearn.preprocessing import StandardScaler\n",
        "import numpy as np\n",
        "import pandas as pd\n",
        "import matplotlib.pyplot as plt"
      ],
      "execution_count": 2,
      "outputs": []
    },
    {
      "cell_type": "code",
      "metadata": {
        "colab": {
          "base_uri": "https://localhost:8080/"
        },
        "id": "uzXHWKCZH--8",
        "outputId": "05004adf-66d5-4a51-c829-8f3df5cf2d92"
      },
      "source": [
        "# Import .csv file and convert it to a DataFrame object\n",
        "df = pd.read_csv(\"InsuranceDataset.csv\");\n",
        "\n",
        "print(df.head())\n"
      ],
      "execution_count": 3,
      "outputs": [
        {
          "output_type": "stream",
          "text": [
            "   Premiums Paid  Age  Days to Renew  Claims made  Income\n",
            "0           2800   26            233  3890.076336   28000\n",
            "1           2950   27            130  2294.444444   29500\n",
            "2           3100   28            144  2564.545455   31000\n",
            "3           3250   30             65  1978.260870   32500\n",
            "4           3400   32             56  2009.090909   34000\n"
          ],
          "name": "stdout"
        }
      ]
    },
    {
      "cell_type": "code",
      "metadata": {
        "colab": {
          "base_uri": "https://localhost:8080/"
        },
        "id": "RpVlf2NJH--_",
        "outputId": "3225ce0d-7338-4671-a6e4-aaea6ef0e907"
      },
      "source": [
        "print(df.info())"
      ],
      "execution_count": 4,
      "outputs": [
        {
          "output_type": "stream",
          "text": [
            "<class 'pandas.core.frame.DataFrame'>\n",
            "RangeIndex: 100 entries, 0 to 99\n",
            "Data columns (total 5 columns):\n",
            " #   Column         Non-Null Count  Dtype  \n",
            "---  ------         --------------  -----  \n",
            " 0   Premiums Paid  100 non-null    int64  \n",
            " 1   Age            100 non-null    int64  \n",
            " 2   Days to Renew  100 non-null    int64  \n",
            " 3   Claims made    100 non-null    float64\n",
            " 4   Income         100 non-null    int64  \n",
            "dtypes: float64(1), int64(4)\n",
            "memory usage: 4.0 KB\n",
            "None\n"
          ],
          "name": "stdout"
        }
      ]
    },
    {
      "cell_type": "code",
      "metadata": {
        "id": "roTFx8BgH-_D"
      },
      "source": [
        "stscaler = StandardScaler().fit(df)\n",
        "X = stscaler.transform(df)"
      ],
      "execution_count": 5,
      "outputs": []
    },
    {
      "cell_type": "code",
      "metadata": {
        "colab": {
          "base_uri": "https://localhost:8080/"
        },
        "id": "UqqU61n-H-_D",
        "outputId": "86c13418-1ac3-468e-ff69-49f35f0dc0f2"
      },
      "source": [
        "X"
      ],
      "execution_count": 6,
      "outputs": [
        {
          "output_type": "execute_result",
          "data": {
            "text/plain": [
              "array([[-1.44186667e+00, -1.45534514e+00,  1.28517712e+00,\n",
              "        -6.37613145e-01, -1.71481604e+00],\n",
              "       [-1.41966646e+00, -1.38297591e+00,  1.09571051e-01,\n",
              "        -7.54704362e-01, -1.68017329e+00],\n",
              "       [-1.39746625e+00, -1.31060669e+00,  2.69362168e-01,\n",
              "        -7.34883716e-01, -1.64553055e+00],\n",
              "       [-1.37526604e+00, -1.16586823e+00, -6.32316276e-01,\n",
              "        -7.77906656e-01, -1.61088780e+00],\n",
              "       [-1.35306583e+00, -1.02112978e+00, -7.35039137e-01,\n",
              "        -7.75644275e-01, -1.57624505e+00],\n",
              "       [-1.33086562e+00, -8.04022103e-01, -3.58388647e-01,\n",
              "        -7.50667592e-01, -1.54160230e+00],\n",
              "       [-1.30866541e+00, -1.52699067e-01, -2.89906740e-01,\n",
              "        -7.39374696e-01, -1.50695955e+00],\n",
              "       [-1.28646520e+00, -8.03298411e-02, -8.26348346e-01,\n",
              "        -7.60357693e-01, -1.47231680e+00],\n",
              "       [-1.26426499e+00, -7.96061488e-03, -5.06766113e-01,\n",
              "        -7.37581814e-01, -1.43767406e+00],\n",
              "       [-9.34961864e-01,  7.15731647e-01,  9.08526635e-01,\n",
              "        -4.16133813e-01, -1.40303131e+00],\n",
              "       [-9.01661549e-01,  1.51179314e+00,  1.03407680e+00,\n",
              "        -3.60046413e-01, -1.36838856e+00],\n",
              "       [-8.68361233e-01,  1.65653159e+00,  1.42214094e+00,\n",
              "        -1.73928631e-01, -1.33374581e+00],\n",
              "       [-8.35060917e-01,  1.72890081e+00,  1.60475936e+00,\n",
              "        -2.83813836e-02, -1.29910306e+00],\n",
              "       [-1.15326393e+00, -8.76391330e-01,  1.79879143e+00,\n",
              "        -1.85412818e-01, -1.26446031e+00],\n",
              "       [-1.13106372e+00, -1.52699067e-01,  7.03080913e-01,\n",
              "        -5.63502574e-01, -1.22981757e+00],\n",
              "       [-7.35159970e-01, -8.03298411e-02, -6.89384532e-01,\n",
              "        -5.90284718e-01, -1.19517482e+00],\n",
              "       [-1.08666330e+00, -1.67245282e+00, -1.23723979e+00,\n",
              "        -7.25777633e-01, -1.16053207e+00],\n",
              "       [-6.68559339e-01,  4.98623969e-01, -1.35137630e+00,\n",
              "        -6.27002632e-01, -1.12588932e+00],\n",
              "       [-1.04226288e+00,  1.36777838e-01, -1.36278995e+00,\n",
              "        -7.20718698e-01, -1.09124657e+00],\n",
              "       [-1.02006267e+00,  2.09147064e-01, -1.21441249e+00,\n",
              "        -7.07478744e-01, -1.05660382e+00],\n",
              "       [-9.97862461e-01, -3.69806746e-01, -1.18017153e+00,\n",
              "        -6.99841481e-01, -1.02196108e+00],\n",
              "       [-9.75662250e-01, -2.97437520e-01, -6.32316276e-01,\n",
              "        -6.57304360e-01, -9.87318327e-01],\n",
              "       [-5.02057760e-01,  2.81516290e-01, -7.35039137e-01,\n",
              "        -5.26311065e-01, -9.52675579e-01],\n",
              "       [-9.31261829e-01, -1.45534514e+00, -3.58388647e-01,\n",
              "        -6.19540005e-01, -9.18032831e-01],\n",
              "       [-9.09061619e-01, -1.38297591e+00, -2.89906740e-01,\n",
              "        -6.05322329e-01, -8.83390082e-01],\n",
              "       [-8.86861408e-01, -1.31060669e+00, -8.26348346e-01,\n",
              "        -6.46243495e-01, -8.48747334e-01],\n",
              "       [-8.64661198e-01, -1.16586823e+00, -5.06766113e-01,\n",
              "        -6.12373180e-01, -8.14104586e-01],\n",
              "       [-8.42460987e-01, -1.02112978e+00, -9.29071207e-01,\n",
              "        -6.41581394e-01, -7.79461837e-01],\n",
              "       [-8.20260777e-01, -8.04022103e-01, -9.86139463e-01,\n",
              "        -6.39775743e-01, -7.44819089e-01],\n",
              "       [-7.98060566e-01, -1.52699067e-01, -7.23625486e-01,\n",
              "        -6.12025756e-01, -7.10176341e-01],\n",
              "       [-7.75860356e-01, -8.03298411e-02, -4.04043252e-01,\n",
              "        -5.73628812e-01, -6.75533592e-01],\n",
              "       [-7.53660145e-01, -7.96061488e-03,  5.09048843e-01,\n",
              "        -4.23080470e-01, -6.40890844e-01],\n",
              "       [-1.69054603e-01,  7.15731647e-01,  1.29659078e+00,\n",
              "         2.48106210e-01, -6.06248096e-01],\n",
              "       [-1.35754287e-01,  1.51179314e+00,  1.54769110e+00,\n",
              "         5.14504522e-01, -5.71605347e-01],\n",
              "       [-1.02453971e-01,  1.65653159e+00,  1.28517712e+00,\n",
              "         2.85043860e-01, -5.36962599e-01],\n",
              "       [-6.91536556e-02,  1.72890081e+00,  2.28957843e+00,\n",
              "         2.82735927e+00, -5.02319851e-01],\n",
              "       [-6.42659093e-01, -8.76391330e-01,  1.28517712e+00,\n",
              "        -8.70774739e-02, -4.67677102e-01],\n",
              "       [-2.55302421e-03, -1.52699067e-01,  1.09571051e-01,\n",
              "        -2.08209699e-01, -4.33034354e-01],\n",
              "       [ 3.07472915e-02, -8.03298411e-02,  2.69362168e-01,\n",
              "        -1.49059078e-01, -3.98391606e-01],\n",
              "       [ 6.40476072e-02, -1.67245282e+00, -6.32316276e-01,\n",
              "        -3.43515053e-01, -3.63748857e-01],\n",
              "       [ 9.73479230e-02,  4.98623969e-01, -7.35039137e-01,\n",
              "        -3.50693761e-01, -3.29106109e-01],\n",
              "       [-5.31658041e-01,  1.36777838e-01, -3.58388647e-01,\n",
              "        -4.88412417e-01, -2.94463361e-01],\n",
              "       [-5.09457830e-01,  2.09147064e-01, -2.89906740e-01,\n",
              "        -4.71269963e-01, -2.59820612e-01],\n",
              "       [-4.87257620e-01, -3.69806746e-01, -8.26348346e-01,\n",
              "        -5.32129298e-01, -2.25177864e-01],\n",
              "       [-4.65057409e-01, -2.97437520e-01, -5.06766113e-01,\n",
              "        -4.87164547e-01, -1.90535116e-01],\n",
              "       [ 2.63849502e-01,  2.81516290e-01,  2.96754931e-02,\n",
              "        -1.29222177e-01, -1.55892367e-01],\n",
              "       [-4.20656988e-01, -1.45534514e+00,  4.06325982e-01,\n",
              "        -3.00243396e-01, -1.21249619e-01],\n",
              "       [-3.98456778e-01, -1.38297591e+00,  1.42214094e+00,\n",
              "         1.82407424e-01, -8.66068708e-02],\n",
              "       [-3.76256567e-01, -1.31060669e+00,  1.60475936e+00,\n",
              "         3.73582903e-01, -5.19641225e-02],\n",
              "       [-3.54056357e-01, -1.16586823e+00,  1.79879143e+00,\n",
              "         6.53193844e-01, -1.73213742e-02],\n",
              "       [-3.31856146e-01, -1.02112978e+00,  7.03080913e-01,\n",
              "        -1.67237888e-01,  1.73213742e-02],\n",
              "       [-3.09655936e-01, -8.04022103e-01, -6.89384532e-01,\n",
              "        -4.63977763e-01,  5.19641225e-02],\n",
              "       [-2.87455725e-01, -1.52699067e-01, -1.23723979e+00,\n",
              "        -5.20890778e-01,  8.66068708e-02],\n",
              "       [-2.65255515e-01, -8.03298411e-02, -1.35137630e+00,\n",
              "        -5.26466786e-01,  1.21249619e-01],\n",
              "       [-2.43055304e-01, -7.96061488e-03, -1.36278995e+00,\n",
              "        -5.22040536e-01,  1.55892367e-01],\n",
              "       [ 5.96852659e-01,  7.15731647e-01, -1.21441249e+00,\n",
              "        -2.90593617e-01,  1.90535116e-01],\n",
              "       [ 6.30152974e-01,  1.51179314e+00, -1.18017153e+00,\n",
              "        -2.76465506e-01,  2.25177864e-01],\n",
              "       [ 6.63453290e-01,  1.65653159e+00, -6.32316276e-01,\n",
              "        -1.62611609e-01,  2.59820612e-01],\n",
              "       [ 1.54776167e+00,  1.72890081e+00, -7.35039137e-01,\n",
              "         7.42567532e-02,  2.94463361e-01],\n",
              "       [-1.32054252e-01, -8.76391330e-01, -3.58388647e-01,\n",
              "        -3.57284830e-01,  3.29106109e-01],\n",
              "       [-1.09854042e-01, -1.52699067e-01, -2.89906740e-01,\n",
              "        -3.37217597e-01,  3.63748857e-01],\n",
              "       [-8.76538310e-02, -8.03298411e-02, -8.26348346e-01,\n",
              "        -4.18015100e-01,  3.98391606e-01],\n",
              "       [-6.54536206e-02, -1.67245282e+00, -5.06766113e-01,\n",
              "        -3.61955913e-01,  4.33034354e-01],\n",
              "       [ 8.63255185e-01,  4.98623969e-01, -9.29071207e-01,\n",
              "        -1.67971711e-01,  4.67677102e-01],\n",
              "       [-2.10531996e-02,  1.36777838e-01, -9.86139463e-01,\n",
              "        -4.21229765e-01,  5.02319851e-01],\n",
              "       [ 1.14701087e-03,  2.09147064e-01, -7.23625486e-01,\n",
              "        -3.77106626e-01,  5.36962599e-01],\n",
              "       [ 2.33472214e-02, -3.69806746e-01, -4.04043252e-01,\n",
              "        -3.15133569e-01,  5.71605347e-01],\n",
              "       [ 4.55474318e-02, -2.97437520e-01,  5.09048843e-01,\n",
              "        -6.06675406e-02,  6.06248096e-01],\n",
              "       [ 1.02975676e+00,  2.81516290e-01,  1.29659078e+00,\n",
              "         1.08026205e+00,  6.40890844e-01],\n",
              "       [ 8.99478528e-02, -1.02112978e+00,  1.54769110e+00,\n",
              "         7.03090366e-01,  6.75533592e-01],\n",
              "       [ 1.12148063e-01, -8.76391330e-01,  1.28517712e+00,\n",
              "         4.32872883e-01,  7.10176341e-01],\n",
              "       [ 1.34348274e-01, -7.31652877e-01,  2.28957843e+00,\n",
              "         3.25442747e+00,  7.44819089e-01],\n",
              "       [ 1.56548484e-01, -5.14545198e-01, -6.32316276e-01,\n",
              "        -3.15597855e-01,  7.79461837e-01],\n",
              "       [ 1.78748695e-01, -2.97437520e-01, -7.35039137e-01,\n",
              "        -3.26844497e-01,  8.14104586e-01],\n",
              "       [ 2.00948905e-01, -1.52699067e-01, -3.58388647e-01,\n",
              "        -2.48011841e-01,  8.48747334e-01],\n",
              "       [ 2.23149116e-01, -8.03298411e-02, -2.89906740e-01,\n",
              "        -2.25507292e-01,  8.83390082e-01],\n",
              "       [ 2.45349326e-01,  1.36777838e-01, -8.26348346e-01,\n",
              "        -3.22919935e-01,  9.18032831e-01],\n",
              "       [ 2.67549537e-01,  2.09147064e-01, -5.06766113e-01,\n",
              "        -2.57615385e-01,  9.52675579e-01],\n",
              "       [ 1.36275992e+00,  5.70993195e-01, -9.29071207e-01,\n",
              "        -2.92790706e-02,  9.87318327e-01],\n",
              "       [ 3.11949958e-01, -1.02112978e+00, -9.86139463e-01,\n",
              "        -3.30168940e-01,  1.02196108e+00],\n",
              "       [ 2.52457094e+00,  2.23548540e+00, -7.23625486e-01,\n",
              "         3.64628776e-01,  1.05660382e+00],\n",
              "       [ 2.56897136e+00,  2.59733153e+00, -4.04043252e-01,\n",
              "         5.08221652e-01,  1.09124657e+00],\n",
              "       [ 3.78550589e-01, -8.76391330e-01,  5.09048843e-01,\n",
              "         9.03378463e-02,  1.12588932e+00],\n",
              "       [ 4.00750800e-01,  7.15731647e-01,  1.29659078e+00,\n",
              "         6.43637073e-01,  1.16053207e+00],\n",
              "       [ 1.56256181e+00,  1.22231623e+00,  1.54769110e+00,\n",
              "         1.93353570e+00,  1.19517482e+00],\n",
              "       [ 1.59586213e+00,  1.14994700e+00,  1.28517712e+00,\n",
              "         1.45493216e+00,  1.22981757e+00],\n",
              "       [ 1.62916245e+00,  9.32839326e-01,  2.28957843e+00,\n",
              "         6.39143758e+00,  1.26446031e+00],\n",
              "       [ 1.66246276e+00,  8.60470100e-01,  1.28517712e+00,\n",
              "         1.50081013e+00,  1.29910306e+00],\n",
              "       [ 1.69576308e+00,  4.26254742e-01,  1.09571051e-01,\n",
              "         4.46727769e-01,  1.33374581e+00],\n",
              "       [ 5.33952062e-01, -8.03298411e-02,  2.69362168e-01,\n",
              "         5.73454576e-02,  1.36838856e+00],\n",
              "       [ 1.76236371e+00,  5.70993195e-01, -6.32316276e-01,\n",
              "         1.69044705e-01,  1.40303131e+00],\n",
              "       [ 5.78352483e-01, -7.31652877e-01, -7.35039137e-01,\n",
              "        -2.09766295e-01,  1.43767406e+00],\n",
              "       [ 6.00552694e-01,  2.59733153e+00, -3.58388647e-01,\n",
              "        -1.16884253e-01,  1.47231680e+00],\n",
              "       [ 6.22752904e-01, -8.76391330e-01, -2.89906740e-01,\n",
              "        -9.14549263e-02,  1.50695955e+00],\n",
              "       [ 1.89556497e+00,  7.15731647e-01, -8.26348346e-01,\n",
              "         1.48329437e-01,  1.54160230e+00],\n",
              "       [ 1.92886529e+00,  1.22231623e+00, -5.06766113e-01,\n",
              "         2.62927916e-01,  1.57624505e+00],\n",
              "       [ 1.96216560e+00,  1.14994700e+00,  5.20462494e-01,\n",
              "         8.17197448e-01,  1.61088780e+00],\n",
              "       [ 1.99546592e+00,  9.32839326e-01,  5.31876146e-01,\n",
              "         8.41285168e-01,  1.64553055e+00],\n",
              "       [ 2.02876623e+00,  8.60470100e-01,  1.42214094e+00,\n",
              "         2.02300941e+00,  1.68017329e+00],\n",
              "       [ 2.06206655e+00,  4.26254742e-01,  1.60475936e+00,\n",
              "         2.50982859e+00,  1.71481604e+00]])"
            ]
          },
          "metadata": {
            "tags": []
          },
          "execution_count": 6
        }
      ]
    },
    {
      "cell_type": "code",
      "metadata": {
        "id": "Jm3nHoCvMbVx"
      },
      "source": [
        "from sklearn.neighbors import NearestNeighbors\r\n",
        "neigh = NearestNeighbors(n_neighbors=2)\r\n",
        "nbrs = neigh.fit(X)\r\n",
        "distances, indices = nbrs.kneighbors(X)"
      ],
      "execution_count": 7,
      "outputs": []
    },
    {
      "cell_type": "code",
      "metadata": {
        "colab": {
          "base_uri": "https://localhost:8080/",
          "height": 283
        },
        "id": "DKHMqZBiMzvz",
        "outputId": "2a65618e-9be7-49dd-ed87-c893ccf6c21b"
      },
      "source": [
        "distances = np.sort(distances, axis=0)\r\n",
        "distances = distances[:,1]\r\n",
        "plt.plot(distances)"
      ],
      "execution_count": 8,
      "outputs": [
        {
          "output_type": "execute_result",
          "data": {
            "text/plain": [
              "[<matplotlib.lines.Line2D at 0x7f87002f4fd0>]"
            ]
          },
          "metadata": {
            "tags": []
          },
          "execution_count": 8
        },
        {
          "output_type": "display_data",
          "data": {
            "image/png": "[encoded data removed]",
            "text/plain": [
              "<Figure size 432x288 with 1 Axes>"
            ]
          },
          "metadata": {
            "tags": [],
            "needs_background": "light"
          }
        }
      ]
    },
    {
      "cell_type": "code",
      "metadata": {
        "colab": {
          "base_uri": "https://localhost:8080/"
        },
        "id": "5t2ZQ6srH-_E",
        "outputId": "1770c79f-0570-4829-ddca-a6e79a21318e"
      },
      "source": [
        "dbscan = DBSCAN(eps=.7, min_samples=7)\n",
        "dbscan.fit(X)"
      ],
      "execution_count": 31,
      "outputs": [
        {
          "output_type": "execute_result",
          "data": {
            "text/plain": [
              "DBSCAN(algorithm='auto', eps=0.7, leaf_size=30, metric='euclidean',\n",
              "       metric_params=None, min_samples=7, n_jobs=None, p=None)"
            ]
          },
          "metadata": {
            "tags": []
          },
          "execution_count": 31
        }
      ]
    },
    {
      "cell_type": "code",
      "metadata": {
        "colab": {
          "base_uri": "https://localhost:8080/"
        },
        "id": "EMNUlOFLH-_E",
        "outputId": "7daa387b-9d62-441d-ec9b-f867f2b78040"
      },
      "source": [
        "#Noisy samples are given the label -1.\n",
        "dbscan.labels_"
      ],
      "execution_count": 19,
      "outputs": [
        {
          "output_type": "execute_result",
          "data": {
            "text/plain": [
              "array([-1,  0,  0,  0,  0,  0,  0,  0,  0, -1, -1, -1, -1, -1, -1,  0,  0,\n",
              "        0,  0,  0,  0,  0,  0,  0,  0,  0,  0,  0,  0,  0,  0,  0, -1, -1,\n",
              "       -1, -1, -1,  0,  0, -1,  0,  0,  0,  0,  0,  0, -1, -1, -1, -1, -1,\n",
              "        0,  0,  0,  0,  0, -1, -1, -1,  0,  0,  0,  0,  0,  0,  0,  0,  0,\n",
              "       -1, -1, -1, -1,  0,  0,  0,  0,  0,  0, -1,  0, -1, -1, -1, -1, -1,\n",
              "       -1, -1, -1, -1,  0, -1,  0, -1, -1, -1, -1, -1, -1, -1, -1])"
            ]
          },
          "metadata": {
            "tags": []
          },
          "execution_count": 19
        }
      ]
    },
    {
      "cell_type": "code",
      "metadata": {
        "id": "s9JmC47gH-_F"
      },
      "source": [
        "cl=pd.DataFrame(dbscan.labels_,columns=['cluster'])"
      ],
      "execution_count": 32,
      "outputs": []
    },
    {
      "cell_type": "code",
      "metadata": {
        "colab": {
          "base_uri": "https://localhost:8080/",
          "height": 407
        },
        "id": "6GPgviKWLSz4",
        "outputId": "b0881aaf-db12-4af3-c66c-af16975b19c5"
      },
      "source": [
        "cl"
      ],
      "execution_count": 13,
      "outputs": [
        {
          "output_type": "execute_result",
          "data": {
            "text/html": [
              "<div>\n",
              "<style scoped>\n",
              "    .dataframe tbody tr th:only-of-type {\n",
              "        vertical-align: middle;\n",
              "    }\n",
              "\n",
              "    .dataframe tbody tr th {\n",
              "        vertical-align: top;\n",
              "    }\n",
              "\n",
              "    .dataframe thead th {\n",
              "        text-align: right;\n",
              "    }\n",
              "</style>\n",
              "<table border=\"1\" class=\"dataframe\">\n",
              "  <thead>\n",
              "    <tr style=\"text-align: right;\">\n",
              "      <th></th>\n",
              "      <th>cluster</th>\n",
              "    </tr>\n",
              "  </thead>\n",
              "  <tbody>\n",
              "    <tr>\n",
              "      <th>0</th>\n",
              "      <td>-1</td>\n",
              "    </tr>\n",
              "    <tr>\n",
              "      <th>1</th>\n",
              "      <td>0</td>\n",
              "    </tr>\n",
              "    <tr>\n",
              "      <th>2</th>\n",
              "      <td>0</td>\n",
              "    </tr>\n",
              "    <tr>\n",
              "      <th>3</th>\n",
              "      <td>0</td>\n",
              "    </tr>\n",
              "    <tr>\n",
              "      <th>4</th>\n",
              "      <td>0</td>\n",
              "    </tr>\n",
              "    <tr>\n",
              "      <th>...</th>\n",
              "      <td>...</td>\n",
              "    </tr>\n",
              "    <tr>\n",
              "      <th>95</th>\n",
              "      <td>-1</td>\n",
              "    </tr>\n",
              "    <tr>\n",
              "      <th>96</th>\n",
              "      <td>-1</td>\n",
              "    </tr>\n",
              "    <tr>\n",
              "      <th>97</th>\n",
              "      <td>-1</td>\n",
              "    </tr>\n",
              "    <tr>\n",
              "      <th>98</th>\n",
              "      <td>-1</td>\n",
              "    </tr>\n",
              "    <tr>\n",
              "      <th>99</th>\n",
              "      <td>-1</td>\n",
              "    </tr>\n",
              "  </tbody>\n",
              "</table>\n",
              "<p>100 rows × 1 columns</p>\n",
              "</div>"
            ],
            "text/plain": [
              "    cluster\n",
              "0        -1\n",
              "1         0\n",
              "2         0\n",
              "3         0\n",
              "4         0\n",
              "..      ...\n",
              "95       -1\n",
              "96       -1\n",
              "97       -1\n",
              "98       -1\n",
              "99       -1\n",
              "\n",
              "[100 rows x 1 columns]"
            ]
          },
          "metadata": {
            "tags": []
          },
          "execution_count": 13
        }
      ]
    },
    {
      "cell_type": "code",
      "metadata": {
        "colab": {
          "base_uri": "https://localhost:8080/"
        },
        "id": "By2-391vH-_F",
        "outputId": "d0563609-7b52-4a13-ea8e-63d7369de183"
      },
      "source": [
        "cl.value_counts()"
      ],
      "execution_count": 33,
      "outputs": [
        {
          "output_type": "execute_result",
          "data": {
            "text/plain": [
              "cluster\n",
              "-1         62\n",
              " 2         16\n",
              " 0         16\n",
              " 1          6\n",
              "dtype: int64"
            ]
          },
          "metadata": {
            "tags": []
          },
          "execution_count": 33
        }
      ]
    },
    {
      "cell_type": "code",
      "metadata": {
        "colab": {
          "base_uri": "https://localhost:8080/",
          "height": 407
        },
        "id": "GtyOHkUbH-_G",
        "outputId": "102b1c9d-e2bb-420e-f0d8-43fbd561acc6"
      },
      "source": [
        "pd.concat([df,cl],axis=1)"
      ],
      "execution_count": 34,
      "outputs": [
        {
          "output_type": "execute_result",
          "data": {
            "text/html": [
              "<div>\n",
              "<style scoped>\n",
              "    .dataframe tbody tr th:only-of-type {\n",
              "        vertical-align: middle;\n",
              "    }\n",
              "\n",
              "    .dataframe tbody tr th {\n",
              "        vertical-align: top;\n",
              "    }\n",
              "\n",
              "    .dataframe thead th {\n",
              "        text-align: right;\n",
              "    }\n",
              "</style>\n",
              "<table border=\"1\" class=\"dataframe\">\n",
              "  <thead>\n",
              "    <tr style=\"text-align: right;\">\n",
              "      <th></th>\n",
              "      <th>Premiums Paid</th>\n",
              "      <th>Age</th>\n",
              "      <th>Days to Renew</th>\n",
              "      <th>Claims made</th>\n",
              "      <th>Income</th>\n",
              "      <th>cluster</th>\n",
              "    </tr>\n",
              "  </thead>\n",
              "  <tbody>\n",
              "    <tr>\n",
              "      <th>0</th>\n",
              "      <td>2800</td>\n",
              "      <td>26</td>\n",
              "      <td>233</td>\n",
              "      <td>3890.076336</td>\n",
              "      <td>28000</td>\n",
              "      <td>-1</td>\n",
              "    </tr>\n",
              "    <tr>\n",
              "      <th>1</th>\n",
              "      <td>2950</td>\n",
              "      <td>27</td>\n",
              "      <td>130</td>\n",
              "      <td>2294.444444</td>\n",
              "      <td>29500</td>\n",
              "      <td>-1</td>\n",
              "    </tr>\n",
              "    <tr>\n",
              "      <th>2</th>\n",
              "      <td>3100</td>\n",
              "      <td>28</td>\n",
              "      <td>144</td>\n",
              "      <td>2564.545455</td>\n",
              "      <td>31000</td>\n",
              "      <td>-1</td>\n",
              "    </tr>\n",
              "    <tr>\n",
              "      <th>3</th>\n",
              "      <td>3250</td>\n",
              "      <td>30</td>\n",
              "      <td>65</td>\n",
              "      <td>1978.260870</td>\n",
              "      <td>32500</td>\n",
              "      <td>-1</td>\n",
              "    </tr>\n",
              "    <tr>\n",
              "      <th>4</th>\n",
              "      <td>3400</td>\n",
              "      <td>32</td>\n",
              "      <td>56</td>\n",
              "      <td>2009.090909</td>\n",
              "      <td>34000</td>\n",
              "      <td>-1</td>\n",
              "    </tr>\n",
              "    <tr>\n",
              "      <th>...</th>\n",
              "      <td>...</td>\n",
              "      <td>...</td>\n",
              "      <td>...</td>\n",
              "      <td>...</td>\n",
              "      <td>...</td>\n",
              "      <td>...</td>\n",
              "    </tr>\n",
              "    <tr>\n",
              "      <th>95</th>\n",
              "      <td>25575</td>\n",
              "      <td>63</td>\n",
              "      <td>76</td>\n",
              "      <td>16161.979170</td>\n",
              "      <td>170500</td>\n",
              "      <td>-1</td>\n",
              "    </tr>\n",
              "    <tr>\n",
              "      <th>96</th>\n",
              "      <td>25800</td>\n",
              "      <td>62</td>\n",
              "      <td>166</td>\n",
              "      <td>23715.151520</td>\n",
              "      <td>172000</td>\n",
              "      <td>-1</td>\n",
              "    </tr>\n",
              "    <tr>\n",
              "      <th>97</th>\n",
              "      <td>26025</td>\n",
              "      <td>59</td>\n",
              "      <td>167</td>\n",
              "      <td>24043.401020</td>\n",
              "      <td>173500</td>\n",
              "      <td>-1</td>\n",
              "    </tr>\n",
              "    <tr>\n",
              "      <th>98</th>\n",
              "      <td>26250</td>\n",
              "      <td>58</td>\n",
              "      <td>245</td>\n",
              "      <td>40147.058820</td>\n",
              "      <td>175000</td>\n",
              "      <td>-1</td>\n",
              "    </tr>\n",
              "    <tr>\n",
              "      <th>99</th>\n",
              "      <td>26475</td>\n",
              "      <td>52</td>\n",
              "      <td>261</td>\n",
              "      <td>46781.067960</td>\n",
              "      <td>176500</td>\n",
              "      <td>-1</td>\n",
              "    </tr>\n",
              "  </tbody>\n",
              "</table>\n",
              "<p>100 rows × 6 columns</p>\n",
              "</div>"
            ],
            "text/plain": [
              "    Premiums Paid  Age  Days to Renew   Claims made  Income  cluster\n",
              "0            2800   26            233   3890.076336   28000       -1\n",
              "1            2950   27            130   2294.444444   29500       -1\n",
              "2            3100   28            144   2564.545455   31000       -1\n",
              "3            3250   30             65   1978.260870   32500       -1\n",
              "4            3400   32             56   2009.090909   34000       -1\n",
              "..            ...  ...            ...           ...     ...      ...\n",
              "95          25575   63             76  16161.979170  170500       -1\n",
              "96          25800   62            166  23715.151520  172000       -1\n",
              "97          26025   59            167  24043.401020  173500       -1\n",
              "98          26250   58            245  40147.058820  175000       -1\n",
              "99          26475   52            261  46781.067960  176500       -1\n",
              "\n",
              "[100 rows x 6 columns]"
            ]
          },
          "metadata": {
            "tags": []
          },
          "execution_count": 34
        }
      ]
    },
    {
      "cell_type": "code",
      "metadata": {
        "colab": {
          "base_uri": "https://localhost:8080/",
          "height": 283
        },
        "id": "dXG7MarQWd2B",
        "outputId": "3575c8dc-8b75-4293-c230-e3e8e91d11d1"
      },
      "source": [
        "plt.scatter(X[:,0], X[:,1])"
      ],
      "execution_count": 35,
      "outputs": [
        {
          "output_type": "execute_result",
          "data": {
            "text/plain": [
              "<matplotlib.collections.PathCollection at 0x7f86ffd93cc0>"
            ]
          },
          "metadata": {
            "tags": []
          },
          "execution_count": 35
        },
        {
          "output_type": "display_data",
          "data": {
            "image/png": "[encoded data removed]",
            "text/plain": [
              "<Figure size 432x288 with 1 Axes>"
            ]
          },
          "metadata": {
            "tags": [],
            "needs_background": "light"
          }
        }
      ]
    },
    {
      "cell_type": "code",
      "metadata": {
        "colab": {
          "base_uri": "https://localhost:8080/",
          "height": 283
        },
        "id": "mn0hg1G_UClu",
        "outputId": "a31cafb8-c2e3-42bb-8d35-e8453b58c44e"
      },
      "source": [
        "from matplotlib import pyplot as plt\r\n",
        "colors = ['royalblue', 'maroon', 'forestgreen', 'mediumorchid', 'tan', 'deeppink', 'olive', 'goldenrod', 'lightcyan', 'navy']\r\n",
        "vectorizer = np.vectorize(lambda x: colors[x % len(colors)])\r\n",
        "plt.scatter(X[:,0], X[:,1], c=vectorizer(dbscan.labels_))"
      ],
      "execution_count": 36,
      "outputs": [
        {
          "output_type": "execute_result",
          "data": {
            "text/plain": [
              "<matplotlib.collections.PathCollection at 0x7f86ffd05f60>"
            ]
          },
          "metadata": {
            "tags": []
          },
          "execution_count": 36
        },
        {
          "output_type": "display_data",
          "data": {
            "image/png": "[encoded data removed]",
            "text/plain": [
              "<Figure size 432x288 with 1 Axes>"
            ]
          },
          "metadata": {
            "tags": [],
            "needs_background": "light"
          }
        }
      ]
    }
  ]
}