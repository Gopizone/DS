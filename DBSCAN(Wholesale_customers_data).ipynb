{
  "nbformat": 4,
  "nbformat_minor": 0,
  "metadata": {
    "_draft": {
      "nbviewer_url": "https://gist.github.com/a3684572cf5029186abeb1bbd17a0f5e"
    },
    "gist": {
      "data": {
        "description": "DBSCAN.ipynb",
        "public": true
      },
      "id": "a3684572cf5029186abeb1bbd17a0f5e"
    },
    "kernelspec": {
      "display_name": "Python 3",
      "language": "python",
      "name": "python3"
    },
    "language_info": {
      "codemirror_mode": {
        "name": "ipython",
        "version": 3
      },
      "file_extension": ".py",
      "mimetype": "text/x-python",
      "name": "python",
      "nbconvert_exporter": "python",
      "pygments_lexer": "ipython3",
      "version": "3.7.4"
    },
    "colab": {
      "name": "DBSCAN(Wholesale customers data).ipynb",
      "provenance": [],
      "collapsed_sections": [],
      "include_colab_link": true
    }
  },
  "cells": [
    {
      "cell_type": "markdown",
      "metadata": {
        "id": "view-in-github",
        "colab_type": "text"
      },
      "source": [
        "<a href=\"https://colab.research.google.com/github/Gopizone/DS/blob/main/DBSCAN(Wholesale_customers_data).ipynb\" target=\"_parent\"><img src=\"https://colab.research.google.com/assets/colab-badge.svg\" alt=\"Open In Colab\"/></a>"
      ]
    },
    {
      "cell_type": "code",
      "metadata": {
        "colab": {
          "resources": {
            "http://localhost:8080/nbextensions/google.colab/files.js": {
              "data": "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",
              "ok": true,
              "headers": [
                [
                  "content-type",
                  "application/javascript"
                ]
              ],
              "status": 200,
              "status_text": ""
            }
          },
          "base_uri": "https://localhost:8080/",
          "height": 73
        },
        "id": "Buk14I5JJZX5",
        "outputId": "69070993-528d-4f35-c52e-60450a31a3cf"
      },
      "source": [
        "from google.colab import files\r\n",
        "files=files.upload()"
      ],
      "execution_count": 2,
      "outputs": [
        {
          "output_type": "display_data",
          "data": {
            "text/html": [
              "\n",
              "     <input type=\"file\" id=\"files-f4e6fcde-f829-4442-acb1-e12c431ea906\" name=\"files[]\" multiple disabled\n",
              "        style=\"border:none\" />\n",
              "     <output id=\"result-f4e6fcde-f829-4442-acb1-e12c431ea906\">\n",
              "      Upload widget is only available when the cell has been executed in the\n",
              "      current browser session. Please rerun this cell to enable.\n",
              "      </output>\n",
              "      <script src=\"/nbextensions/google.colab/files.js\"></script> "
            ],
            "text/plain": [
              "<IPython.core.display.HTML object>"
            ]
          },
          "metadata": {
            "tags": []
          }
        },
        {
          "output_type": "stream",
          "text": [
            "Saving Wholesale customers data.csv to Wholesale customers data.csv\n"
          ],
          "name": "stdout"
        }
      ]
    },
    {
      "cell_type": "code",
      "metadata": {
        "id": "gqhBXJ-oH--q"
      },
      "source": [
        "#Import the libraries\n",
        "from sklearn.cluster import DBSCAN\n",
        "from sklearn.preprocessing import StandardScaler\n",
        "import numpy as np\n",
        "import pandas as pd\n",
        "import matplotlib.pyplot as plt"
      ],
      "execution_count": 1,
      "outputs": []
    },
    {
      "cell_type": "code",
      "metadata": {
        "colab": {
          "base_uri": "https://localhost:8080/"
        },
        "id": "uzXHWKCZH--8",
        "outputId": "8b869564-9003-4834-a203-e78169bf8fd3"
      },
      "source": [
        "# Import .csv file and convert it to a DataFrame object\n",
        "df = pd.read_csv(\"Wholesale customers data.csv\");\n",
        "\n",
        "print(df.head())\n"
      ],
      "execution_count": 3,
      "outputs": [
        {
          "output_type": "stream",
          "text": [
            "   Channel  Region  Fresh  Milk  Grocery  Frozen  Detergents_Paper  Delicassen\n",
            "0        2       3  12669  9656     7561     214              2674        1338\n",
            "1        2       3   7057  9810     9568    1762              3293        1776\n",
            "2        2       3   6353  8808     7684    2405              3516        7844\n",
            "3        1       3  13265  1196     4221    6404               507        1788\n",
            "4        2       3  22615  5410     7198    3915              1777        5185\n"
          ],
          "name": "stdout"
        }
      ]
    },
    {
      "cell_type": "code",
      "metadata": {
        "colab": {
          "base_uri": "https://localhost:8080/"
        },
        "id": "RpVlf2NJH--_",
        "outputId": "de768382-f071-452e-b703-b2002b53468f"
      },
      "source": [
        "print(df.info())"
      ],
      "execution_count": 4,
      "outputs": [
        {
          "output_type": "stream",
          "text": [
            "<class 'pandas.core.frame.DataFrame'>\n",
            "RangeIndex: 440 entries, 0 to 439\n",
            "Data columns (total 8 columns):\n",
            " #   Column            Non-Null Count  Dtype\n",
            "---  ------            --------------  -----\n",
            " 0   Channel           440 non-null    int64\n",
            " 1   Region            440 non-null    int64\n",
            " 2   Fresh             440 non-null    int64\n",
            " 3   Milk              440 non-null    int64\n",
            " 4   Grocery           440 non-null    int64\n",
            " 5   Frozen            440 non-null    int64\n",
            " 6   Detergents_Paper  440 non-null    int64\n",
            " 7   Delicassen        440 non-null    int64\n",
            "dtypes: int64(8)\n",
            "memory usage: 27.6 KB\n",
            "None\n"
          ],
          "name": "stdout"
        }
      ]
    },
    {
      "cell_type": "code",
      "metadata": {
        "id": "0xzTdOXPH-_A"
      },
      "source": [
        "df.drop(['Channel','Region'],axis=1,inplace=True)"
      ],
      "execution_count": 5,
      "outputs": []
    },
    {
      "cell_type": "code",
      "metadata": {
        "id": "roTFx8BgH-_D"
      },
      "source": [
        "stscaler = StandardScaler().fit(df)\n",
        "X = stscaler.transform(df)"
      ],
      "execution_count": 6,
      "outputs": []
    },
    {
      "cell_type": "code",
      "metadata": {
        "colab": {
          "base_uri": "https://localhost:8080/"
        },
        "id": "UqqU61n-H-_D",
        "outputId": "e51e4bcc-2b42-4019-8434-9b5f07b3a1c7"
      },
      "source": [
        "X"
      ],
      "execution_count": 7,
      "outputs": [
        {
          "output_type": "execute_result",
          "data": {
            "text/plain": [
              "array([[ 0.05293319,  0.52356777, -0.04111489, -0.58936716, -0.04356873,\n",
              "        -0.06633906],\n",
              "       [-0.39130197,  0.54445767,  0.17031835, -0.27013618,  0.08640684,\n",
              "         0.08915105],\n",
              "       [-0.44702926,  0.40853771, -0.0281571 , -0.13753572,  0.13323164,\n",
              "         2.24329255],\n",
              "       ...,\n",
              "       [ 0.20032554,  1.31467078,  2.34838631, -0.54337975,  2.51121768,\n",
              "         0.12145607],\n",
              "       [-0.13538389, -0.51753572, -0.60251388, -0.41944059, -0.56977032,\n",
              "         0.21304614],\n",
              "       [-0.72930698, -0.5559243 , -0.57322717, -0.62009417, -0.50488752,\n",
              "        -0.52286938]])"
            ]
          },
          "metadata": {
            "tags": []
          },
          "execution_count": 7
        }
      ]
    },
    {
      "cell_type": "code",
      "metadata": {
        "id": "Jm3nHoCvMbVx"
      },
      "source": [
        "from sklearn.neighbors import NearestNeighbors\r\n",
        "neigh = NearestNeighbors(n_neighbors=2)\r\n",
        "nbrs = neigh.fit(X)\r\n",
        "distances, indices = nbrs.kneighbors(X)"
      ],
      "execution_count": 79,
      "outputs": []
    },
    {
      "cell_type": "code",
      "metadata": {
        "colab": {
          "base_uri": "https://localhost:8080/"
        },
        "id": "u2DC4GPnNIQL",
        "outputId": "40387e09-4e56-453d-b331-65029fe9da1e"
      },
      "source": [
        "indices"
      ],
      "execution_count": 80,
      "outputs": [
        {
          "output_type": "execute_result",
          "data": {
            "text/plain": [
              "array([[  0,   5],\n",
              "       [  1, 244],\n",
              "       [  2, 218],\n",
              "       [  3, 278],\n",
              "       [  4,  36],\n",
              "       [  5, 281],\n",
              "       [  6,  84],\n",
              "       [  7, 415],\n",
              "       [  8,  55],\n",
              "       [  9, 306],\n",
              "       [ 10, 346],\n",
              "       [ 11, 394],\n",
              "       [ 12,  14],\n",
              "       [ 13,  67],\n",
              "       [ 14, 335],\n",
              "       [ 15, 199],\n",
              "       [ 16, 175],\n",
              "       [ 17, 372],\n",
              "       [ 18, 127],\n",
              "       [ 19, 297],\n",
              "       [ 20, 300],\n",
              "       [ 21, 326],\n",
              "       [ 22,  40],\n",
              "       [ 23, 171],\n",
              "       [ 24,   4],\n",
              "       [ 25,   6],\n",
              "       [ 26, 115],\n",
              "       [ 27,  58],\n",
              "       [ 28,  45],\n",
              "       [ 29, 129],\n",
              "       [ 30,  18],\n",
              "       [ 31, 386],\n",
              "       [ 32, 432],\n",
              "       [ 33, 276],\n",
              "       [ 34, 362],\n",
              "       [ 35, 214],\n",
              "       [ 36,  89],\n",
              "       [ 37, 426],\n",
              "       [ 38, 301],\n",
              "       [ 39, 258],\n",
              "       [ 40,  22],\n",
              "       [ 41,  20],\n",
              "       [ 42, 268],\n",
              "       [ 43, 205],\n",
              "       [ 44, 221],\n",
              "       [ 45,  28],\n",
              "       [ 46, 306],\n",
              "       [ 47,  61],\n",
              "       [ 48, 298],\n",
              "       [ 49, 163],\n",
              "       [ 50,  64],\n",
              "       [ 51,   8],\n",
              "       [ 52, 370],\n",
              "       [ 53, 293],\n",
              "       [ 54, 241],\n",
              "       [ 55,   8],\n",
              "       [ 56,  49],\n",
              "       [ 57, 416],\n",
              "       [ 58, 336],\n",
              "       [ 59, 415],\n",
              "       [ 60, 297],\n",
              "       [ 61,  47],\n",
              "       [ 62, 102],\n",
              "       [ 63, 107],\n",
              "       [ 64, 326],\n",
              "       [ 65, 211],\n",
              "       [ 66,  96],\n",
              "       [ 67,  13],\n",
              "       [ 68, 179],\n",
              "       [ 69, 199],\n",
              "       [ 70, 287],\n",
              "       [ 71,  87],\n",
              "       [ 72, 249],\n",
              "       [ 73, 195],\n",
              "       [ 74, 415],\n",
              "       [ 75, 118],\n",
              "       [ 76, 223],\n",
              "       [ 77, 331],\n",
              "       [ 78, 388],\n",
              "       [ 79, 290],\n",
              "       [ 80, 308],\n",
              "       [ 81, 159],\n",
              "       [ 82, 244],\n",
              "       [ 83, 387],\n",
              "       [ 84,   6],\n",
              "       [ 85,  61],\n",
              "       [ 86,  47],\n",
              "       [ 87,  71],\n",
              "       [ 88, 337],\n",
              "       [ 89, 276],\n",
              "       [ 90, 115],\n",
              "       [ 91, 287],\n",
              "       [ 92, 251],\n",
              "       [ 93, 413],\n",
              "       [ 94, 293],\n",
              "       [ 95, 392],\n",
              "       [ 96, 345],\n",
              "       [ 97,  98],\n",
              "       [ 98,  97],\n",
              "       [ 99, 398],\n",
              "       [100, 426],\n",
              "       [101, 215],\n",
              "       [102, 213],\n",
              "       [103, 125],\n",
              "       [104, 132],\n",
              "       [105, 150],\n",
              "       [106, 340],\n",
              "       [107,  63],\n",
              "       [108, 172],\n",
              "       [109,  46],\n",
              "       [110, 385],\n",
              "       [111, 268],\n",
              "       [112, 328],\n",
              "       [113, 110],\n",
              "       [114, 217],\n",
              "       [115,  26],\n",
              "       [116, 318],\n",
              "       [117, 291],\n",
              "       [118,  75],\n",
              "       [119, 389],\n",
              "       [120, 217],\n",
              "       [121, 227],\n",
              "       [122, 247],\n",
              "       [123,   0],\n",
              "       [124, 273],\n",
              "       [125, 103],\n",
              "       [126, 371],\n",
              "       [127,  18],\n",
              "       [128, 235],\n",
              "       [129,  29],\n",
              "       [130, 229],\n",
              "       [131, 154],\n",
              "       [132,  58],\n",
              "       [133, 199],\n",
              "       [134, 146],\n",
              "       [135, 192],\n",
              "       [136,  62],\n",
              "       [137, 272],\n",
              "       [138, 243],\n",
              "       [139, 117],\n",
              "       [140,  41],\n",
              "       [141, 403],\n",
              "       [142, 311],\n",
              "       [143, 337],\n",
              "       [144, 248],\n",
              "       [145, 437],\n",
              "       [146, 134],\n",
              "       [147, 246],\n",
              "       [148,  21],\n",
              "       [149,  54],\n",
              "       [150, 307],\n",
              "       [151, 391],\n",
              "       [152, 157],\n",
              "       [153, 231],\n",
              "       [154,  97],\n",
              "       [155, 351],\n",
              "       [156, 245],\n",
              "       [157, 242],\n",
              "       [158, 197],\n",
              "       [159,  81],\n",
              "       [160, 341],\n",
              "       [161, 438],\n",
              "       [162, 120],\n",
              "       [163, 201],\n",
              "       [164, 213],\n",
              "       [165,  63],\n",
              "       [166, 365],\n",
              "       [167, 348],\n",
              "       [168, 361],\n",
              "       [169, 316],\n",
              "       [170,  81],\n",
              "       [171,  45],\n",
              "       [172,  51],\n",
              "       [173, 353],\n",
              "       [174, 204],\n",
              "       [175,  16],\n",
              "       [176, 282],\n",
              "       [177, 281],\n",
              "       [178, 256],\n",
              "       [179, 292],\n",
              "       [180, 373],\n",
              "       [181, 125],\n",
              "       [182, 170],\n",
              "       [183,  23],\n",
              "       [184, 355],\n",
              "       [185, 260],\n",
              "       [186, 326],\n",
              "       [187, 376],\n",
              "       [188, 346],\n",
              "       [189,  16],\n",
              "       [190, 381],\n",
              "       [191, 288],\n",
              "       [192, 135],\n",
              "       [193, 357],\n",
              "       [194, 308],\n",
              "       [195, 328],\n",
              "       [196, 401],\n",
              "       [197, 158],\n",
              "       [198, 330],\n",
              "       [199, 366],\n",
              "       [200, 301],\n",
              "       [201, 163],\n",
              "       [202,   4],\n",
              "       [203, 299],\n",
              "       [204, 174],\n",
              "       [205,  43],\n",
              "       [206, 369],\n",
              "       [207, 208],\n",
              "       [208, 172],\n",
              "       [209, 349],\n",
              "       [210, 114],\n",
              "       [211,  92],\n",
              "       [212, 194],\n",
              "       [213, 102],\n",
              "       [214, 302],\n",
              "       [215, 101],\n",
              "       [216,  49],\n",
              "       [217, 114],\n",
              "       [218,   2],\n",
              "       [219, 344],\n",
              "       [220, 247],\n",
              "       [221,  44],\n",
              "       [222, 261],\n",
              "       [223, 329],\n",
              "       [224, 206],\n",
              "       [225, 104],\n",
              "       [226, 279],\n",
              "       [227, 250],\n",
              "       [228, 208],\n",
              "       [229, 130],\n",
              "       [230, 195],\n",
              "       [231, 128],\n",
              "       [232, 422],\n",
              "       [233, 392],\n",
              "       [234, 113],\n",
              "       [235, 233],\n",
              "       [236,  78],\n",
              "       [237, 118],\n",
              "       [238, 369],\n",
              "       [239, 282],\n",
              "       [240, 112],\n",
              "       [241,  54],\n",
              "       [242, 157],\n",
              "       [243, 419],\n",
              "       [244,   1],\n",
              "       [245, 156],\n",
              "       [246, 366],\n",
              "       [247, 122],\n",
              "       [248, 144],\n",
              "       [249, 229],\n",
              "       [250, 227],\n",
              "       [251,  92],\n",
              "       [252, 337],\n",
              "       [253, 335],\n",
              "       [254, 358],\n",
              "       [255, 380],\n",
              "       [256, 178],\n",
              "       [257, 414],\n",
              "       [258, 239],\n",
              "       [259, 282],\n",
              "       [260, 147],\n",
              "       [261, 130],\n",
              "       [262, 368],\n",
              "       [263,  64],\n",
              "       [264, 418],\n",
              "       [265, 384],\n",
              "       [266, 215],\n",
              "       [267,  89],\n",
              "       [268, 111],\n",
              "       [269, 247],\n",
              "       [270, 148],\n",
              "       [271, 433],\n",
              "       [272, 137],\n",
              "       [273, 124],\n",
              "       [274, 290],\n",
              "       [275, 352],\n",
              "       [276,  89],\n",
              "       [277, 425],\n",
              "       [278,   3],\n",
              "       [279, 421],\n",
              "       [280, 378],\n",
              "       [281, 300],\n",
              "       [282, 239],\n",
              "       [283, 406],\n",
              "       [284, 258],\n",
              "       [285, 289],\n",
              "       [286,  69],\n",
              "       [287,  91],\n",
              "       [288, 191],\n",
              "       [289, 285],\n",
              "       [290,  79],\n",
              "       [291, 227],\n",
              "       [292,  64],\n",
              "       [293, 416],\n",
              "       [294, 422],\n",
              "       [295, 363],\n",
              "       [296, 242],\n",
              "       [297, 408],\n",
              "       [298, 417],\n",
              "       [299, 355],\n",
              "       [300,  20],\n",
              "       [301, 407],\n",
              "       [302, 214],\n",
              "       [303, 159],\n",
              "       [304, 351],\n",
              "       [305,  53],\n",
              "       [306,  46],\n",
              "       [307, 150],\n",
              "       [308,  80],\n",
              "       [309,  38],\n",
              "       [310, 431],\n",
              "       [311, 380],\n",
              "       [312, 343],\n",
              "       [313,  90],\n",
              "       [314, 321],\n",
              "       [315, 189],\n",
              "       [316, 169],\n",
              "       [317,  79],\n",
              "       [318, 116],\n",
              "       [319,  49],\n",
              "       [320, 378],\n",
              "       [321, 330],\n",
              "       [322, 157],\n",
              "       [323, 424],\n",
              "       [324, 241],\n",
              "       [325,  93],\n",
              "       [326, 400],\n",
              "       [327, 299],\n",
              "       [328, 287],\n",
              "       [329, 414],\n",
              "       [330, 321],\n",
              "       [331,  77],\n",
              "       [332, 210],\n",
              "       [333,  65],\n",
              "       [334, 112],\n",
              "       [335,  14],\n",
              "       [336,  58],\n",
              "       [337, 143],\n",
              "       [338, 310],\n",
              "       [339, 252],\n",
              "       [340, 106],\n",
              "       [341, 158],\n",
              "       [342, 213],\n",
              "       [343, 312],\n",
              "       [344, 219],\n",
              "       [345,  96],\n",
              "       [346,  10],\n",
              "       [347, 335],\n",
              "       [348, 250],\n",
              "       [349, 209],\n",
              "       [350, 250],\n",
              "       [351, 304],\n",
              "       [352, 299],\n",
              "       [353, 173],\n",
              "       [354, 230],\n",
              "       [355, 299],\n",
              "       [356, 368],\n",
              "       [357, 193],\n",
              "       [358, 254],\n",
              "       [359, 392],\n",
              "       [360,  83],\n",
              "       [361, 168],\n",
              "       [362,  34],\n",
              "       [363,  80],\n",
              "       [364, 367],\n",
              "       [365, 166],\n",
              "       [366, 199],\n",
              "       [367, 361],\n",
              "       [368,  83],\n",
              "       [369, 206],\n",
              "       [370, 377],\n",
              "       [371, 126],\n",
              "       [372, 411],\n",
              "       [373, 180],\n",
              "       [374, 146],\n",
              "       [375, 206],\n",
              "       [376,  10],\n",
              "       [377,  29],\n",
              "       [378, 280],\n",
              "       [379,  51],\n",
              "       [380, 255],\n",
              "       [381,  70],\n",
              "       [382, 370],\n",
              "       [383, 326],\n",
              "       [384, 254],\n",
              "       [385, 115],\n",
              "       [386,  31],\n",
              "       [387,  83],\n",
              "       [388, 399],\n",
              "       [389,  26],\n",
              "       [390, 270],\n",
              "       [391, 151],\n",
              "       [392, 320],\n",
              "       [393, 406],\n",
              "       [394,  11],\n",
              "       [395, 389],\n",
              "       [396,   1],\n",
              "       [397, 229],\n",
              "       [398,  99],\n",
              "       [399, 388],\n",
              "       [400, 326],\n",
              "       [401, 283],\n",
              "       [402, 232],\n",
              "       [403, 141],\n",
              "       [404, 237],\n",
              "       [405, 168],\n",
              "       [406, 393],\n",
              "       [407, 301],\n",
              "       [408, 297],\n",
              "       [409,  17],\n",
              "       [410,  55],\n",
              "       [411, 372],\n",
              "       [412,  35],\n",
              "       [413, 425],\n",
              "       [414, 329],\n",
              "       [415,   7],\n",
              "       [416, 293],\n",
              "       [417, 298],\n",
              "       [418, 264],\n",
              "       [419, 147],\n",
              "       [420, 106],\n",
              "       [421, 279],\n",
              "       [422, 232],\n",
              "       [423, 104],\n",
              "       [424, 323],\n",
              "       [425, 310],\n",
              "       [426,  37],\n",
              "       [427, 435],\n",
              "       [428, 235],\n",
              "       [429, 438],\n",
              "       [430,  74],\n",
              "       [431, 310],\n",
              "       [432,  32],\n",
              "       [433, 391],\n",
              "       [434, 423],\n",
              "       [435, 427],\n",
              "       [436, 273],\n",
              "       [437,  77],\n",
              "       [438, 212],\n",
              "       [439,  34]])"
            ]
          },
          "metadata": {
            "tags": []
          },
          "execution_count": 80
        }
      ]
    },
    {
      "cell_type": "code",
      "metadata": {
        "colab": {
          "base_uri": "https://localhost:8080/",
          "height": 283
        },
        "id": "DKHMqZBiMzvz",
        "outputId": "b55fc40f-6caa-4edc-e13a-5dc021608d35"
      },
      "source": [
        "distances = np.sort(distances, axis=0)\r\n",
        "distances = distances[:,1]\r\n",
        "plt.plot(distances)"
      ],
      "execution_count": 81,
      "outputs": [
        {
          "output_type": "execute_result",
          "data": {
            "text/plain": [
              "[<matplotlib.lines.Line2D at 0x7fa00c75ff60>]"
            ]
          },
          "metadata": {
            "tags": []
          },
          "execution_count": 81
        },
        {
          "output_type": "display_data",
          "data": {
            "image/png": "[encoded data removed]",
            "text/plain": [
              "<Figure size 432x288 with 1 Axes>"
            ]
          },
          "metadata": {
            "tags": [],
            "needs_background": "light"
          }
        }
      ]
    },
    {
      "cell_type": "code",
      "metadata": {
        "colab": {
          "base_uri": "https://localhost:8080/"
        },
        "id": "5t2ZQ6srH-_E",
        "outputId": "a7559381-ee37-475b-c9e9-0c51fcf6ebd1"
      },
      "source": [
        "dbscan = DBSCAN(eps=0.49, min_samples=10)\n",
        "dbscan.fit(X)"
      ],
      "execution_count": 149,
      "outputs": [
        {
          "output_type": "execute_result",
          "data": {
            "text/plain": [
              "DBSCAN(algorithm='auto', eps=0.49, leaf_size=30, metric='euclidean',\n",
              "       metric_params=None, min_samples=10, n_jobs=None, p=None)"
            ]
          },
          "metadata": {
            "tags": []
          },
          "execution_count": 149
        }
      ]
    },
    {
      "cell_type": "code",
      "metadata": {
        "colab": {
          "base_uri": "https://localhost:8080/"
        },
        "id": "EMNUlOFLH-_E",
        "outputId": "8e40624b-eeab-4855-b37f-f398f59043f2"
      },
      "source": [
        "#Noisy samples are given the label -1.\n",
        "dbscan.labels_"
      ],
      "execution_count": 133,
      "outputs": [
        {
          "output_type": "execute_result",
          "data": {
            "text/plain": [
              "array([-1,  1, -1, -1, -1, -1,  0,  1,  0, -1, -1,  0, -1, -1, -1,  0,  1,\n",
              "       -1, -1,  0, -1,  0, -1, -1, -1, -1,  0,  0, -1, -1, -1,  0,  0, -1,\n",
              "        0,  1, -1, -1, -1, -1, -1, -1, -1, -1, -1, -1, -1, -1, -1, -1,  0,\n",
              "        0, -1, -1,  0,  0, -1, -1,  0,  1, -1, -1, -1, -1,  0, -1, -1, -1,\n",
              "       -1,  0, -1, -1, -1, -1,  1,  0, -1, -1,  0,  0,  0, -1,  1,  0, -1,\n",
              "       -1, -1, -1,  0, -1,  0,  0, -1, -1, -1,  0, -1,  0,  0,  0, -1, -1,\n",
              "        1, -1,  0,  0, -1, -1,  1, -1,  0, -1, -1,  0,  0,  0,  0,  0,  0,\n",
              "        0,  0,  0,  0, -1, -1, -1, -1, -1,  0, -1,  0,  0,  0,  0,  0,  0,\n",
              "       -1, -1, -1,  0, -1, -1, -1,  0,  0, -1,  0,  0,  0,  0,  0,  0,  0,\n",
              "       -1,  0, -1, -1,  0,  1, -1, -1,  0,  0, -1, -1, -1, -1,  0,  0,  0,\n",
              "       -1, -1,  1, -1,  0,  1, -1, -1,  0, -1, -1, -1, -1, -1,  0,  0,  0,\n",
              "       -1, -1, -1, -1,  0,  0, -1,  0, -1, -1,  1,  0,  0, -1, -1, -1,  0,\n",
              "        0, -1,  0, -1,  0, -1,  0, -1,  0,  1,  1, -1, -1,  0, -1,  0,  0,\n",
              "       -1,  0,  0,  0,  0, -1,  0, -1,  0, -1, -1,  0,  0,  0,  0,  0,  0,\n",
              "        0, -1, -1,  0,  0,  0,  1, -1,  0,  0,  0,  0,  0, -1,  0, -1, -1,\n",
              "        0,  0, -1, -1, -1,  0,  0,  0, -1, -1, -1, -1, -1, -1,  0,  0,  0,\n",
              "       -1, -1,  0,  0, -1, -1,  0, -1,  0, -1, -1, -1, -1, -1,  0,  0,  0,\n",
              "       -1,  0,  0,  0, -1, -1,  0,  0,  0,  1,  0, -1, -1, -1, -1, -1, -1,\n",
              "       -1,  0,  0, -1, -1, -1, -1,  0,  0, -1,  0,  0,  0, -1,  0,  0,  0,\n",
              "       -1,  0, -1,  0,  0, -1,  0,  0, -1,  0, -1, -1, -1,  0,  0, -1, -1,\n",
              "       -1,  1,  1, -1,  0, -1, -1, -1,  0, -1,  0, -1,  0, -1, -1,  0,  0,\n",
              "       -1, -1,  0,  0,  0,  0,  0,  0, -1,  0,  0,  0,  0, -1, -1, -1, -1,\n",
              "        0,  0, -1, -1,  0, -1,  0, -1, -1,  0, -1,  0,  0,  0,  0,  0,  0,\n",
              "        0,  0, -1,  0,  0, -1,  0,  0,  0,  0, -1,  0, -1,  0,  0, -1, -1,\n",
              "        0, -1,  0, -1, -1, -1,  0,  1, -1,  1, -1,  0, -1, -1,  0,  0, -1,\n",
              "       -1, -1, -1,  0,  0, -1, -1,  0,  0, -1, -1, -1, -1,  0,  0])"
            ]
          },
          "metadata": {
            "tags": []
          },
          "execution_count": 133
        }
      ]
    },
    {
      "cell_type": "code",
      "metadata": {
        "id": "s9JmC47gH-_F"
      },
      "source": [
        "cl=pd.DataFrame(dbscan.labels_,columns=['cluster'])"
      ],
      "execution_count": 150,
      "outputs": []
    },
    {
      "cell_type": "code",
      "metadata": {
        "colab": {
          "base_uri": "https://localhost:8080/",
          "height": 407
        },
        "id": "6GPgviKWLSz4",
        "outputId": "4e738e07-ea80-47cd-f5c7-9ad5f22398fa"
      },
      "source": [
        "cl"
      ],
      "execution_count": 115,
      "outputs": [
        {
          "output_type": "execute_result",
          "data": {
            "text/html": [
              "<div>\n",
              "<style scoped>\n",
              "    .dataframe tbody tr th:only-of-type {\n",
              "        vertical-align: middle;\n",
              "    }\n",
              "\n",
              "    .dataframe tbody tr th {\n",
              "        vertical-align: top;\n",
              "    }\n",
              "\n",
              "    .dataframe thead th {\n",
              "        text-align: right;\n",
              "    }\n",
              "</style>\n",
              "<table border=\"1\" class=\"dataframe\">\n",
              "  <thead>\n",
              "    <tr style=\"text-align: right;\">\n",
              "      <th></th>\n",
              "      <th>cluster</th>\n",
              "    </tr>\n",
              "  </thead>\n",
              "  <tbody>\n",
              "    <tr>\n",
              "      <th>0</th>\n",
              "      <td>0</td>\n",
              "    </tr>\n",
              "    <tr>\n",
              "      <th>1</th>\n",
              "      <td>0</td>\n",
              "    </tr>\n",
              "    <tr>\n",
              "      <th>2</th>\n",
              "      <td>-1</td>\n",
              "    </tr>\n",
              "    <tr>\n",
              "      <th>3</th>\n",
              "      <td>0</td>\n",
              "    </tr>\n",
              "    <tr>\n",
              "      <th>4</th>\n",
              "      <td>-1</td>\n",
              "    </tr>\n",
              "    <tr>\n",
              "      <th>...</th>\n",
              "      <td>...</td>\n",
              "    </tr>\n",
              "    <tr>\n",
              "      <th>435</th>\n",
              "      <td>-1</td>\n",
              "    </tr>\n",
              "    <tr>\n",
              "      <th>436</th>\n",
              "      <td>-1</td>\n",
              "    </tr>\n",
              "    <tr>\n",
              "      <th>437</th>\n",
              "      <td>-1</td>\n",
              "    </tr>\n",
              "    <tr>\n",
              "      <th>438</th>\n",
              "      <td>0</td>\n",
              "    </tr>\n",
              "    <tr>\n",
              "      <th>439</th>\n",
              "      <td>0</td>\n",
              "    </tr>\n",
              "  </tbody>\n",
              "</table>\n",
              "<p>440 rows × 1 columns</p>\n",
              "</div>"
            ],
            "text/plain": [
              "     cluster\n",
              "0          0\n",
              "1          0\n",
              "2         -1\n",
              "3          0\n",
              "4         -1\n",
              "..       ...\n",
              "435       -1\n",
              "436       -1\n",
              "437       -1\n",
              "438        0\n",
              "439        0\n",
              "\n",
              "[440 rows x 1 columns]"
            ]
          },
          "metadata": {
            "tags": []
          },
          "execution_count": 115
        }
      ]
    },
    {
      "cell_type": "code",
      "metadata": {
        "colab": {
          "base_uri": "https://localhost:8080/"
        },
        "id": "By2-391vH-_F",
        "outputId": "f88cbc32-0b1e-4280-86f3-25ceec651f66"
      },
      "source": [
        "cl.value_counts()"
      ],
      "execution_count": 151,
      "outputs": [
        {
          "output_type": "execute_result",
          "data": {
            "text/plain": [
              "cluster\n",
              "-1         237\n",
              " 0         186\n",
              " 1          17\n",
              "dtype: int64"
            ]
          },
          "metadata": {
            "tags": []
          },
          "execution_count": 151
        }
      ]
    },
    {
      "cell_type": "code",
      "metadata": {
        "colab": {
          "base_uri": "https://localhost:8080/",
          "height": 407
        },
        "id": "GtyOHkUbH-_G",
        "outputId": "141186c6-e911-40b3-d23d-a960d25752b1"
      },
      "source": [
        "pd.concat([df,cl],axis=1)"
      ],
      "execution_count": 19,
      "outputs": [
        {
          "output_type": "execute_result",
          "data": {
            "text/html": [
              "<div>\n",
              "<style scoped>\n",
              "    .dataframe tbody tr th:only-of-type {\n",
              "        vertical-align: middle;\n",
              "    }\n",
              "\n",
              "    .dataframe tbody tr th {\n",
              "        vertical-align: top;\n",
              "    }\n",
              "\n",
              "    .dataframe thead th {\n",
              "        text-align: right;\n",
              "    }\n",
              "</style>\n",
              "<table border=\"1\" class=\"dataframe\">\n",
              "  <thead>\n",
              "    <tr style=\"text-align: right;\">\n",
              "      <th></th>\n",
              "      <th>Fresh</th>\n",
              "      <th>Milk</th>\n",
              "      <th>Grocery</th>\n",
              "      <th>Frozen</th>\n",
              "      <th>Detergents_Paper</th>\n",
              "      <th>Delicassen</th>\n",
              "      <th>cluster</th>\n",
              "    </tr>\n",
              "  </thead>\n",
              "  <tbody>\n",
              "    <tr>\n",
              "      <th>0</th>\n",
              "      <td>12669</td>\n",
              "      <td>9656</td>\n",
              "      <td>7561</td>\n",
              "      <td>214</td>\n",
              "      <td>2674</td>\n",
              "      <td>1338</td>\n",
              "      <td>0</td>\n",
              "    </tr>\n",
              "    <tr>\n",
              "      <th>1</th>\n",
              "      <td>7057</td>\n",
              "      <td>9810</td>\n",
              "      <td>9568</td>\n",
              "      <td>1762</td>\n",
              "      <td>3293</td>\n",
              "      <td>1776</td>\n",
              "      <td>0</td>\n",
              "    </tr>\n",
              "    <tr>\n",
              "      <th>2</th>\n",
              "      <td>6353</td>\n",
              "      <td>8808</td>\n",
              "      <td>7684</td>\n",
              "      <td>2405</td>\n",
              "      <td>3516</td>\n",
              "      <td>7844</td>\n",
              "      <td>-1</td>\n",
              "    </tr>\n",
              "    <tr>\n",
              "      <th>3</th>\n",
              "      <td>13265</td>\n",
              "      <td>1196</td>\n",
              "      <td>4221</td>\n",
              "      <td>6404</td>\n",
              "      <td>507</td>\n",
              "      <td>1788</td>\n",
              "      <td>0</td>\n",
              "    </tr>\n",
              "    <tr>\n",
              "      <th>4</th>\n",
              "      <td>22615</td>\n",
              "      <td>5410</td>\n",
              "      <td>7198</td>\n",
              "      <td>3915</td>\n",
              "      <td>1777</td>\n",
              "      <td>5185</td>\n",
              "      <td>-1</td>\n",
              "    </tr>\n",
              "    <tr>\n",
              "      <th>...</th>\n",
              "      <td>...</td>\n",
              "      <td>...</td>\n",
              "      <td>...</td>\n",
              "      <td>...</td>\n",
              "      <td>...</td>\n",
              "      <td>...</td>\n",
              "      <td>...</td>\n",
              "    </tr>\n",
              "    <tr>\n",
              "      <th>435</th>\n",
              "      <td>29703</td>\n",
              "      <td>12051</td>\n",
              "      <td>16027</td>\n",
              "      <td>13135</td>\n",
              "      <td>182</td>\n",
              "      <td>2204</td>\n",
              "      <td>-1</td>\n",
              "    </tr>\n",
              "    <tr>\n",
              "      <th>436</th>\n",
              "      <td>39228</td>\n",
              "      <td>1431</td>\n",
              "      <td>764</td>\n",
              "      <td>4510</td>\n",
              "      <td>93</td>\n",
              "      <td>2346</td>\n",
              "      <td>0</td>\n",
              "    </tr>\n",
              "    <tr>\n",
              "      <th>437</th>\n",
              "      <td>14531</td>\n",
              "      <td>15488</td>\n",
              "      <td>30243</td>\n",
              "      <td>437</td>\n",
              "      <td>14841</td>\n",
              "      <td>1867</td>\n",
              "      <td>-1</td>\n",
              "    </tr>\n",
              "    <tr>\n",
              "      <th>438</th>\n",
              "      <td>10290</td>\n",
              "      <td>1981</td>\n",
              "      <td>2232</td>\n",
              "      <td>1038</td>\n",
              "      <td>168</td>\n",
              "      <td>2125</td>\n",
              "      <td>0</td>\n",
              "    </tr>\n",
              "    <tr>\n",
              "      <th>439</th>\n",
              "      <td>2787</td>\n",
              "      <td>1698</td>\n",
              "      <td>2510</td>\n",
              "      <td>65</td>\n",
              "      <td>477</td>\n",
              "      <td>52</td>\n",
              "      <td>0</td>\n",
              "    </tr>\n",
              "  </tbody>\n",
              "</table>\n",
              "<p>440 rows × 7 columns</p>\n",
              "</div>"
            ],
            "text/plain": [
              "     Fresh   Milk  Grocery  Frozen  Detergents_Paper  Delicassen  cluster\n",
              "0    12669   9656     7561     214              2674        1338        0\n",
              "1     7057   9810     9568    1762              3293        1776        0\n",
              "2     6353   8808     7684    2405              3516        7844       -1\n",
              "3    13265   1196     4221    6404               507        1788        0\n",
              "4    22615   5410     7198    3915              1777        5185       -1\n",
              "..     ...    ...      ...     ...               ...         ...      ...\n",
              "435  29703  12051    16027   13135               182        2204       -1\n",
              "436  39228   1431      764    4510                93        2346        0\n",
              "437  14531  15488    30243     437             14841        1867       -1\n",
              "438  10290   1981     2232    1038               168        2125        0\n",
              "439   2787   1698     2510      65               477          52        0\n",
              "\n",
              "[440 rows x 7 columns]"
            ]
          },
          "metadata": {
            "tags": []
          },
          "execution_count": 19
        }
      ]
    },
    {
      "cell_type": "code",
      "metadata": {
        "colab": {
          "base_uri": "https://localhost:8080/",
          "height": 283
        },
        "id": "dXG7MarQWd2B",
        "outputId": "7984f947-e8ea-4329-af80-5ad5cefb41b9"
      },
      "source": [
        "plt.scatter(X[:,0], X[:,1])"
      ],
      "execution_count": 157,
      "outputs": [
        {
          "output_type": "execute_result",
          "data": {
            "text/plain": [
              "<matplotlib.collections.PathCollection at 0x7fa00c464588>"
            ]
          },
          "metadata": {
            "tags": []
          },
          "execution_count": 157
        },
        {
          "output_type": "display_data",
          "data": {
            "image/png": "[encoded data removed]",
            "text/plain": [
              "<Figure size 432x288 with 1 Axes>"
            ]
          },
          "metadata": {
            "tags": [],
            "needs_background": "light"
          }
        }
      ]
    },
    {
      "cell_type": "code",
      "metadata": {
        "colab": {
          "base_uri": "https://localhost:8080/",
          "height": 283
        },
        "id": "mn0hg1G_UClu",
        "outputId": "71f56547-aee4-4249-bd61-3ac7d8a4860d"
      },
      "source": [
        "from matplotlib import pyplot as plt\r\n",
        "colors = ['royalblue', 'maroon', 'forestgreen', 'mediumorchid', 'tan', 'deeppink', 'olive', 'goldenrod', 'lightcyan', 'navy']\r\n",
        "vectorizer = np.vectorize(lambda x: colors[x % len(colors)])\r\n",
        "plt.scatter(X[:,0], X[:,1], c=vectorizer(dbscan.labels_))"
      ],
      "execution_count": 155,
      "outputs": [
        {
          "output_type": "execute_result",
          "data": {
            "text/plain": [
              "<matplotlib.collections.PathCollection at 0x7fa00ccfe550>"
            ]
          },
          "metadata": {
            "tags": []
          },
          "execution_count": 155
        },
        {
          "output_type": "display_data",
          "data": {
            "image/png": "[encoded data removed]",
            "text/plain": [
              "<Figure size 432x288 with 1 Axes>"
            ]
          },
          "metadata": {
            "tags": [],
            "needs_background": "light"
          }
        }
      ]
    }
  ]
}